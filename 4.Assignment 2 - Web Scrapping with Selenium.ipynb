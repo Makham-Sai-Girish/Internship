{
 "cells": [
  {
   "cell_type": "code",
   "execution_count": null,
   "metadata": {},
   "outputs": [],
   "source": [
    "#!pip install selenium\n"
   ]
  },
  {
   "cell_type": "code",
   "execution_count": 2,
   "metadata": {},
   "outputs": [],
   "source": [
    "#importing required modules \n",
    "import selenium\n",
    "from selenium import webdriver\n",
    "import pandas as pd\n",
    "import time"
   ]
  },
  {
   "cell_type": "code",
   "execution_count": 4,
   "metadata": {},
   "outputs": [],
   "source": [
    "#Initialising the webdriver \n",
    "driver=webdriver.Chrome(r'I:\\\\chromedriver_win32\\\\chromedriver.exe')"
   ]
  },
  {
   "cell_type": "markdown",
   "metadata": {},
   "source": [
    "Requesting website"
   ]
  },
  {
   "cell_type": "code",
   "execution_count": 5,
   "metadata": {},
   "outputs": [],
   "source": [
    "#Accessing the website\n",
    "driver.get('https://www.naukri.com/')"
   ]
  },
  {
   "cell_type": "markdown",
   "metadata": {},
   "source": [
    "##### Q1. Write a python program to scrape data for “Data Analyst” Job position in“Bangalore” location. You have to scrape the job-title, job-location, company_name,experience_required. You have to scrape first 10 jobs data."
   ]
  },
  {
   "cell_type": "code",
   "execution_count": 7,
   "metadata": {},
   "outputs": [],
   "source": [
    "#Searching the required job field  by id and passing the required role into it\n",
    "job_search=driver.find_element_by_id('qsb-keyword-sugg')\n",
    "job_search.send_keys('Data Analyst')"
   ]
  },
  {
   "cell_type": "code",
   "execution_count": 8,
   "metadata": {},
   "outputs": [],
   "source": [
    "#Searching the required location into the  field  by xpath and passing the location role into it\n",
    "loc_search=driver.find_element_by_id('qsb-location-sugg')\n",
    "loc_search.send_keys('Banglore')"
   ]
  },
  {
   "cell_type": "code",
   "execution_count": 9,
   "metadata": {},
   "outputs": [],
   "source": [
    "#Searching for the search button by xpath and clicking it  \n",
    "search_btn=driver.find_element_by_xpath(\"//div[@class='search-btn']/button\")\n",
    "search_btn.click()"
   ]
  },
  {
   "cell_type": "code",
   "execution_count": 11,
   "metadata": {},
   "outputs": [],
   "source": [
    "#Creating empty lists of all required data to be fetched\n",
    "job_title=[]\n",
    "job_location=[]\n",
    "company_name=[]\n",
    "experience_required=[]"
   ]
  },
  {
   "cell_type": "code",
   "execution_count": 12,
   "metadata": {
    "scrolled": true
   },
   "outputs": [
    {
     "data": {
      "text/plain": [
       "[<selenium.webdriver.remote.webelement.WebElement (session=\"007145b04e5296a45dbd46711487b5ff\", element=\"85fd5692-a218-420e-9932-17565903a774\")>,\n",
       " <selenium.webdriver.remote.webelement.WebElement (session=\"007145b04e5296a45dbd46711487b5ff\", element=\"c5d487bc-002e-4577-bbfb-d2515f90cb36\")>,\n",
       " <selenium.webdriver.remote.webelement.WebElement (session=\"007145b04e5296a45dbd46711487b5ff\", element=\"1624cb49-75f9-4d0d-8e97-b2557221dfb9\")>,\n",
       " <selenium.webdriver.remote.webelement.WebElement (session=\"007145b04e5296a45dbd46711487b5ff\", element=\"f17ec1ca-071f-47fc-bbbc-51d903cbaf5f\")>,\n",
       " <selenium.webdriver.remote.webelement.WebElement (session=\"007145b04e5296a45dbd46711487b5ff\", element=\"35c503f8-ce31-457f-ba05-df7d657bbcda\")>,\n",
       " <selenium.webdriver.remote.webelement.WebElement (session=\"007145b04e5296a45dbd46711487b5ff\", element=\"20d04ce5-f3a9-49f8-9748-4333ec5e127f\")>,\n",
       " <selenium.webdriver.remote.webelement.WebElement (session=\"007145b04e5296a45dbd46711487b5ff\", element=\"2c2f17c2-3e9b-43e2-bfd6-c73a03daef14\")>,\n",
       " <selenium.webdriver.remote.webelement.WebElement (session=\"007145b04e5296a45dbd46711487b5ff\", element=\"0c306ddb-a0c7-4834-ac17-39bc97bad2e3\")>,\n",
       " <selenium.webdriver.remote.webelement.WebElement (session=\"007145b04e5296a45dbd46711487b5ff\", element=\"7442d044-b103-4e00-bac8-44b0c1e0350e\")>,\n",
       " <selenium.webdriver.remote.webelement.WebElement (session=\"007145b04e5296a45dbd46711487b5ff\", element=\"239c2ef8-a1da-4766-8412-26c822d59e16\")>]"
      ]
     },
     "execution_count": 12,
     "metadata": {},
     "output_type": "execute_result"
    }
   ],
   "source": [
    "#Scraping job - title\n",
    "title_tag=driver.find_elements_by_xpath(\"//a[@class='title fw500 ellipsis']\")\n",
    "title_tag[:10]"
   ]
  },
  {
   "cell_type": "code",
   "execution_count": 13,
   "metadata": {},
   "outputs": [
    {
     "data": {
      "text/plain": [
       "['Associate Data Analyst',\n",
       " 'SQL Data Analyst',\n",
       " 'Data Analyst - Marketing',\n",
       " 'Business Data Analyst',\n",
       " 'Data Analyst',\n",
       " 'Openings For Data Analyst',\n",
       " 'Senior Data Analyst',\n",
       " 'Senior Data Analyst',\n",
       " 'Senior Data Analyst',\n",
       " 'Senior Data Analyst']"
      ]
     },
     "execution_count": 13,
     "metadata": {},
     "output_type": "execute_result"
    }
   ],
   "source": [
    "#Getting the names from title tags\n",
    "for i in title_tag:\n",
    "    job_title.append(i.text)\n",
    "job_title[:10]"
   ]
  },
  {
   "cell_type": "markdown",
   "metadata": {},
   "source": [
    "Now we got top 10 job titles posted for the role of data analyst "
   ]
  },
  {
   "cell_type": "code",
   "execution_count": 14,
   "metadata": {},
   "outputs": [
    {
     "data": {
      "text/plain": [
       "[<selenium.webdriver.remote.webelement.WebElement (session=\"007145b04e5296a45dbd46711487b5ff\", element=\"a5d252f0-c8db-49d9-9882-8564c609ff75\")>,\n",
       " <selenium.webdriver.remote.webelement.WebElement (session=\"007145b04e5296a45dbd46711487b5ff\", element=\"089b6e55-c061-4b3c-8458-461c87478052\")>,\n",
       " <selenium.webdriver.remote.webelement.WebElement (session=\"007145b04e5296a45dbd46711487b5ff\", element=\"adfa49b3-deaf-47c7-9c9a-da27efbbe2a0\")>,\n",
       " <selenium.webdriver.remote.webelement.WebElement (session=\"007145b04e5296a45dbd46711487b5ff\", element=\"8060aa62-0d86-48c7-9c33-ea261dbd15de\")>,\n",
       " <selenium.webdriver.remote.webelement.WebElement (session=\"007145b04e5296a45dbd46711487b5ff\", element=\"adcdbe72-2ac9-47d9-a9e1-3ad04f7bba48\")>,\n",
       " <selenium.webdriver.remote.webelement.WebElement (session=\"007145b04e5296a45dbd46711487b5ff\", element=\"7c803a6e-c06e-40d6-b075-30ec567f26bb\")>,\n",
       " <selenium.webdriver.remote.webelement.WebElement (session=\"007145b04e5296a45dbd46711487b5ff\", element=\"2eedd403-05ba-45d7-99b8-1c295fc32e3e\")>,\n",
       " <selenium.webdriver.remote.webelement.WebElement (session=\"007145b04e5296a45dbd46711487b5ff\", element=\"555c2277-21bc-4595-8648-62de869a0724\")>,\n",
       " <selenium.webdriver.remote.webelement.WebElement (session=\"007145b04e5296a45dbd46711487b5ff\", element=\"6a97eaa3-7086-4020-b234-ce27c6348803\")>,\n",
       " <selenium.webdriver.remote.webelement.WebElement (session=\"007145b04e5296a45dbd46711487b5ff\", element=\"6e6b6db5-aae1-4107-b588-3fb60ad03fb9\")>]"
      ]
     },
     "execution_count": 14,
     "metadata": {},
     "output_type": "execute_result"
    }
   ],
   "source": [
    "#Searching Company tags\n",
    "company_tag=driver.find_elements_by_xpath(\"//a[@class='subTitle ellipsis fleft']\")\n",
    "company_tag[:10]"
   ]
  },
  {
   "cell_type": "code",
   "execution_count": 15,
   "metadata": {},
   "outputs": [
    {
     "data": {
      "text/plain": [
       "['Integrated Digital Systems',\n",
       " 'NetApp',\n",
       " 'Byjus - Transforming Education using Technology',\n",
       " 'RANDSTAD INDIA PVT LTD',\n",
       " 'Amazon Development Centre (India) Pvt. Ltd.',\n",
       " 'Allegis Services India Pvt. Ltd.',\n",
       " 'Flipkart Internet Private Limited',\n",
       " 'Flipkart Internet Private Limited',\n",
       " 'Flipkart Internet Private Limited',\n",
       " 'Flipkart Internet Private Limited']"
      ]
     },
     "execution_count": 15,
     "metadata": {},
     "output_type": "execute_result"
    }
   ],
   "source": [
    "#Saving text into the company list\n",
    "for company in company_tag:\n",
    "    company_name.append(company.text)\n",
    "company_name[:10]"
   ]
  },
  {
   "cell_type": "code",
   "execution_count": 16,
   "metadata": {},
   "outputs": [
    {
     "data": {
      "text/plain": [
       "['0-2 Yrs',\n",
       " '3-7 Yrs',\n",
       " '0-2 Yrs',\n",
       " '8-12 Yrs',\n",
       " '2-4 Yrs',\n",
       " '0-3 Yrs',\n",
       " '2-5 Yrs',\n",
       " '3-7 Yrs',\n",
       " '3-7 Yrs',\n",
       " '3-7 Yrs']"
      ]
     },
     "execution_count": 16,
     "metadata": {},
     "output_type": "execute_result"
    }
   ],
   "source": [
    "#Experience details\n",
    "experience_tag=driver.find_elements_by_xpath(\"//li[@class='fleft grey-text br2 placeHolderLi experience']/span[1]\")\n",
    "for i in experience_tag:\n",
    "    experience_required.append(i.text)\n",
    "experience_required[:10]\n"
   ]
  },
  {
   "cell_type": "code",
   "execution_count": 17,
   "metadata": {},
   "outputs": [
    {
     "data": {
      "text/plain": [
       "['Bangalore/Bengaluru',\n",
       " 'Bangalore/Bengaluru',\n",
       " 'Bangalore/Bengaluru',\n",
       " 'Bangalore/Bengaluru',\n",
       " 'Bangalore/Bengaluru',\n",
       " 'Bangalore/Bengaluru',\n",
       " 'Bangalore/Bengaluru',\n",
       " 'Bangalore/Bengaluru',\n",
       " 'Bangalore/Bengaluru',\n",
       " 'Bangalore/Bengaluru']"
      ]
     },
     "execution_count": 17,
     "metadata": {},
     "output_type": "execute_result"
    }
   ],
   "source": [
    "#Job location details\n",
    "location_tag=driver.find_elements_by_xpath(\"//li[@class='fleft grey-text br2 placeHolderLi location']/span[1]\")\n",
    "for i in location_tag:\n",
    "    job_location.append(i.text)\n",
    "job_location[:10]"
   ]
  },
  {
   "cell_type": "code",
   "execution_count": 18,
   "metadata": {},
   "outputs": [],
   "source": [
    "#Making a data frame with all these details\n",
    "Data_analyst_jobs=pd.DataFrame({})\n",
    "Data_analyst_jobs['Job Title']=job_title[:10]\n",
    "Data_analyst_jobs['Company']=company_name[:10]\n",
    "Data_analyst_jobs['Experience']=experience_required[:10]\n",
    "Data_analyst_jobs['Location']=job_location[:10]"
   ]
  },
  {
   "cell_type": "code",
   "execution_count": 19,
   "metadata": {
    "scrolled": false
   },
   "outputs": [
    {
     "data": {
      "text/html": [
       "<div>\n",
       "<style scoped>\n",
       "    .dataframe tbody tr th:only-of-type {\n",
       "        vertical-align: middle;\n",
       "    }\n",
       "\n",
       "    .dataframe tbody tr th {\n",
       "        vertical-align: top;\n",
       "    }\n",
       "\n",
       "    .dataframe thead th {\n",
       "        text-align: right;\n",
       "    }\n",
       "</style>\n",
       "<table border=\"1\" class=\"dataframe\">\n",
       "  <thead>\n",
       "    <tr style=\"text-align: right;\">\n",
       "      <th></th>\n",
       "      <th>Job Title</th>\n",
       "      <th>Company</th>\n",
       "      <th>Experience</th>\n",
       "      <th>Location</th>\n",
       "    </tr>\n",
       "  </thead>\n",
       "  <tbody>\n",
       "    <tr>\n",
       "      <th>0</th>\n",
       "      <td>Associate Data Analyst</td>\n",
       "      <td>Integrated Digital Systems</td>\n",
       "      <td>0-2 Yrs</td>\n",
       "      <td>Bangalore/Bengaluru</td>\n",
       "    </tr>\n",
       "    <tr>\n",
       "      <th>1</th>\n",
       "      <td>SQL Data Analyst</td>\n",
       "      <td>NetApp</td>\n",
       "      <td>3-7 Yrs</td>\n",
       "      <td>Bangalore/Bengaluru</td>\n",
       "    </tr>\n",
       "    <tr>\n",
       "      <th>2</th>\n",
       "      <td>Data Analyst - Marketing</td>\n",
       "      <td>Byjus - Transforming Education using Technology</td>\n",
       "      <td>0-2 Yrs</td>\n",
       "      <td>Bangalore/Bengaluru</td>\n",
       "    </tr>\n",
       "    <tr>\n",
       "      <th>3</th>\n",
       "      <td>Business Data Analyst</td>\n",
       "      <td>RANDSTAD INDIA PVT LTD</td>\n",
       "      <td>8-12 Yrs</td>\n",
       "      <td>Bangalore/Bengaluru</td>\n",
       "    </tr>\n",
       "    <tr>\n",
       "      <th>4</th>\n",
       "      <td>Data Analyst</td>\n",
       "      <td>Amazon Development Centre (India) Pvt. Ltd.</td>\n",
       "      <td>2-4 Yrs</td>\n",
       "      <td>Bangalore/Bengaluru</td>\n",
       "    </tr>\n",
       "    <tr>\n",
       "      <th>5</th>\n",
       "      <td>Openings For Data Analyst</td>\n",
       "      <td>Allegis Services India Pvt. Ltd.</td>\n",
       "      <td>0-3 Yrs</td>\n",
       "      <td>Bangalore/Bengaluru</td>\n",
       "    </tr>\n",
       "    <tr>\n",
       "      <th>6</th>\n",
       "      <td>Senior Data Analyst</td>\n",
       "      <td>Flipkart Internet Private Limited</td>\n",
       "      <td>2-5 Yrs</td>\n",
       "      <td>Bangalore/Bengaluru</td>\n",
       "    </tr>\n",
       "    <tr>\n",
       "      <th>7</th>\n",
       "      <td>Senior Data Analyst</td>\n",
       "      <td>Flipkart Internet Private Limited</td>\n",
       "      <td>3-7 Yrs</td>\n",
       "      <td>Bangalore/Bengaluru</td>\n",
       "    </tr>\n",
       "    <tr>\n",
       "      <th>8</th>\n",
       "      <td>Senior Data Analyst</td>\n",
       "      <td>Flipkart Internet Private Limited</td>\n",
       "      <td>3-7 Yrs</td>\n",
       "      <td>Bangalore/Bengaluru</td>\n",
       "    </tr>\n",
       "    <tr>\n",
       "      <th>9</th>\n",
       "      <td>Senior Data Analyst</td>\n",
       "      <td>Flipkart Internet Private Limited</td>\n",
       "      <td>3-7 Yrs</td>\n",
       "      <td>Bangalore/Bengaluru</td>\n",
       "    </tr>\n",
       "  </tbody>\n",
       "</table>\n",
       "</div>"
      ],
      "text/plain": [
       "                   Job Title                                          Company  \\\n",
       "0     Associate Data Analyst                       Integrated Digital Systems   \n",
       "1           SQL Data Analyst                                           NetApp   \n",
       "2   Data Analyst - Marketing  Byjus - Transforming Education using Technology   \n",
       "3      Business Data Analyst                           RANDSTAD INDIA PVT LTD   \n",
       "4               Data Analyst      Amazon Development Centre (India) Pvt. Ltd.   \n",
       "5  Openings For Data Analyst                 Allegis Services India Pvt. Ltd.   \n",
       "6        Senior Data Analyst                Flipkart Internet Private Limited   \n",
       "7        Senior Data Analyst                Flipkart Internet Private Limited   \n",
       "8        Senior Data Analyst                Flipkart Internet Private Limited   \n",
       "9        Senior Data Analyst                Flipkart Internet Private Limited   \n",
       "\n",
       "  Experience             Location  \n",
       "0    0-2 Yrs  Bangalore/Bengaluru  \n",
       "1    3-7 Yrs  Bangalore/Bengaluru  \n",
       "2    0-2 Yrs  Bangalore/Bengaluru  \n",
       "3   8-12 Yrs  Bangalore/Bengaluru  \n",
       "4    2-4 Yrs  Bangalore/Bengaluru  \n",
       "5    0-3 Yrs  Bangalore/Bengaluru  \n",
       "6    2-5 Yrs  Bangalore/Bengaluru  \n",
       "7    3-7 Yrs  Bangalore/Bengaluru  \n",
       "8    3-7 Yrs  Bangalore/Bengaluru  \n",
       "9    3-7 Yrs  Bangalore/Bengaluru  "
      ]
     },
     "execution_count": 19,
     "metadata": {},
     "output_type": "execute_result"
    }
   ],
   "source": [
    "Data_analyst_jobs"
   ]
  },
  {
   "cell_type": "markdown",
   "metadata": {},
   "source": [
    "Now we fetched successfully the required data from the website"
   ]
  },
  {
   "cell_type": "code",
   "execution_count": 20,
   "metadata": {},
   "outputs": [],
   "source": [
    "#Closing the website\n",
    "driver.close()"
   ]
  },
  {
   "cell_type": "markdown",
   "metadata": {},
   "source": [
    "#### q.2 Write a python program to scrape data for “Data Scientist” Job position in “Bangalore” location. You have to scrape the job-title, job-location, company_name, full job-description. You have to scrape first 10 jobs data."
   ]
  },
  {
   "cell_type": "code",
   "execution_count": 21,
   "metadata": {},
   "outputs": [],
   "source": [
    "#Initialising the webdriver \n",
    "driver=webdriver.Chrome(r'I:\\\\chromedriver_win32\\\\chromedriver.exe')"
   ]
  },
  {
   "cell_type": "code",
   "execution_count": 22,
   "metadata": {},
   "outputs": [],
   "source": [
    "#Accessing the website\n",
    "driver.get('https://www.naukri.com/')"
   ]
  },
  {
   "cell_type": "code",
   "execution_count": 23,
   "metadata": {},
   "outputs": [],
   "source": [
    "#Searching the required job field  by id and passing the required role into it\n",
    "job_search=driver.find_element_by_id('qsb-keyword-sugg')\n",
    "job_search.send_keys('Data Scientist')"
   ]
  },
  {
   "cell_type": "code",
   "execution_count": 24,
   "metadata": {},
   "outputs": [],
   "source": [
    "#Searching the required location into the  field  by xpath and passing the location role into it\n",
    "loc_search=driver.find_element_by_id('qsb-location-sugg')\n",
    "loc_search.send_keys('Banglore')"
   ]
  },
  {
   "cell_type": "code",
   "execution_count": 25,
   "metadata": {},
   "outputs": [],
   "source": [
    "#Searching for the search button by xpath and clicking it  \n",
    "search_btn=driver.find_element_by_xpath(\"//div[@class='search-btn']/button\")\n",
    "search_btn.click()"
   ]
  },
  {
   "cell_type": "code",
   "execution_count": 26,
   "metadata": {},
   "outputs": [
    {
     "data": {
      "text/plain": [
       "['Sr. Data Scientist / Data Scientist For Bangalore & Kolkata Locations',\n",
       " 'Data Scientist',\n",
       " 'Senior Data Scientist',\n",
       " 'Senior Data Scientist - Python/Machine Learning Algorithms',\n",
       " 'Data Scientist/Senior Data Scientist - IT Services Firm',\n",
       " 'Lead Data Scientist',\n",
       " 'SDE2 Data Scientist',\n",
       " 'SDE1 Data Scientist',\n",
       " 'Data Scientist',\n",
       " 'Data Scientist']"
      ]
     },
     "execution_count": 26,
     "metadata": {},
     "output_type": "execute_result"
    }
   ],
   "source": [
    "# fetching job title\n",
    "job_title=[]\n",
    "titles=driver.find_elements_by_xpath(\"//a[@class='title fw500 ellipsis']\")\n",
    "for title in titles:\n",
    "    job_title.append(title.text)\n",
    "job_title[:10]\n"
   ]
  },
  {
   "cell_type": "code",
   "execution_count": 27,
   "metadata": {},
   "outputs": [
    {
     "data": {
      "text/plain": [
       "['Kolkata, Bangalore/Bengaluru',\n",
       " 'Hyderabad/Secunderabad, Pune, Bangalore/Bengaluru',\n",
       " 'Noida, Bangalore/Bengaluru',\n",
       " 'Mumbai, Hyderabad/Secunderabad, Pune, Bangalore/Bengaluru',\n",
       " 'Hyderabad/Secunderabad, Pune, Gurgaon/Gurugram, Bangalore/Bengaluru',\n",
       " 'Bangalore/Bengaluru',\n",
       " 'Bangalore/Bengaluru',\n",
       " 'Bangalore/Bengaluru',\n",
       " 'Bangalore/Bengaluru',\n",
       " 'Pune, Bangalore/Bengaluru']"
      ]
     },
     "execution_count": 27,
     "metadata": {},
     "output_type": "execute_result"
    }
   ],
   "source": [
    "# fetching job_location\n",
    "job_location=[]\n",
    "locations=driver.find_elements_by_xpath(\"//li[@class='fleft grey-text br2 placeHolderLi location']/span[1]\")\n",
    "for i in locations:\n",
    "    job_location.append(i.text)\n",
    "job_location[:10]"
   ]
  },
  {
   "cell_type": "code",
   "execution_count": 28,
   "metadata": {},
   "outputs": [
    {
     "data": {
      "text/plain": [
       "['mPokket',\n",
       " 'Amazon Development Centre (India) Pvt. Ltd.',\n",
       " 'InnovAccer',\n",
       " 'Altimax Business Solutions',\n",
       " 'Pylon Management Consulting Pvt Ltd',\n",
       " 'Huawei Technologies',\n",
       " 'Multi Recruit',\n",
       " 'Multi Recruit',\n",
       " 'epiFi Technologies',\n",
       " 'Nutanix India Technologies Private Limited']"
      ]
     },
     "execution_count": 28,
     "metadata": {},
     "output_type": "execute_result"
    }
   ],
   "source": [
    "#fetching Company Name\n",
    "company=[]\n",
    "name=driver.find_elements_by_xpath(\"//a[@class='subTitle ellipsis fleft']\")\n",
    "for i in name:\n",
    "    company.append(i.text)\n",
    "company[:10]"
   ]
  },
  {
   "cell_type": "code",
   "execution_count": 29,
   "metadata": {
    "scrolled": true
   },
   "outputs": [
    {
     "data": {
      "text/plain": [
       "['https://www.naukri.com/job-listings-sr-data-scientist-data-scientist-for-bangalore-kolkata-locations-mpokket-kolkata-bangalore-bengaluru-3-to-8-years-141021001893?src=jobsearchDesk&sid=1634307414097463&xp=1&px=1',\n",
       " 'https://www.naukri.com/job-listings-data-scientist-amazon-development-centre-india-pvt-ltd-hyderabad-secunderabad-pune-bangalore-bengaluru-7-to-11-years-141021001625?src=jobsearchDesk&sid=1634307414097463&xp=2&px=1',\n",
       " 'https://www.naukri.com/job-listings-senior-data-scientist-innovaccer-noida-bangalore-bengaluru-5-to-10-years-131021501006?src=jobsearchDesk&sid=1634307414097463&xp=3&px=1',\n",
       " 'https://www.naukri.com/job-listings-senior-data-scientist-python-machine-learning-algorithms-altimax-business-solutions-mumbai-hyderabad-secunderabad-pune-bangalore-bengaluru-4-to-9-years-020921908794?src=jobsearchDesk&sid=1634307414097463&xp=4&px=1',\n",
       " 'https://www.naukri.com/job-listings-data-scientist-senior-data-scientist-it-services-firm-pylon-management-consulting-pvt-ltd-hyderabad-secunderabad-pune-gurgaon-gurugram-bangalore-bengaluru-5-to-6-years-131021906976?src=jobsearchDesk&sid=1634307414097463&xp=5&px=1',\n",
       " 'https://www.naukri.com/job-listings-lead-data-scientist-huawei-technologies-india-pvt-ltd-bangalore-bengaluru-4-to-9-years-121021907623?src=jobsearchDesk&sid=1634307414097463&xp=6&px=1',\n",
       " 'https://www.naukri.com/job-listings-sde2-data-scientist-multi-recruit-bangalore-bengaluru-2-to-7-years-141021501578?src=jobsearchDesk&sid=1634307414097463&xp=7&px=1',\n",
       " 'https://www.naukri.com/job-listings-sde1-data-scientist-multi-recruit-bangalore-bengaluru-8-to-13-years-141021501577?src=jobsearchDesk&sid=1634307414097463&xp=8&px=1',\n",
       " 'https://www.naukri.com/job-listings-data-scientist-epifi-technologies-bangalore-bengaluru-3-to-5-years-141021501473?src=jobsearchDesk&sid=1634307414097463&xp=9&px=1',\n",
       " 'https://www.naukri.com/job-listings-data-scientist-nutanix-india-technologies-private-limited-pune-bangalore-bengaluru-4-to-9-years-141021500782?src=jobsearchDesk&sid=1634307414097463&xp=10&px=1']"
      ]
     },
     "execution_count": 29,
     "metadata": {},
     "output_type": "execute_result"
    }
   ],
   "source": [
    "#Getting the job link of each company in the page\n",
    "job_link=[]\n",
    "link_tag=driver.find_elements_by_xpath(\"//a[@class='title fw500 ellipsis']\")\n",
    "for i in link_tag:\n",
    "    job_link.append(i.get_attribute('href'))\n",
    "job_link=job_link[:10]\n",
    "job_link"
   ]
  },
  {
   "cell_type": "markdown",
   "metadata": {},
   "source": [
    "Now we got job links and stored them into a list."
   ]
  },
  {
   "cell_type": "code",
   "execution_count": 32,
   "metadata": {},
   "outputs": [
    {
     "data": {
      "text/plain": [
       "['Job description Job Description: 1. Must have a. Programming – Python (Preferred) / R b. ML Models – i. Regression – Linear, Logistic, Multinomial, Mixed effect ii. Classification – Bagging & Boosting (Random Forest), Decision tree, SVM iii. Clustering – K-Means, hierarchical, DB-Scan iv. Time series – ARIMA, SARIMA, ARIMAX, Holt-Winters, Multi TS (VAR), UCM v. Neural Networks (Deep learning), Naive Bayes c. Excel and SQL d. Dimensionality Reduction – PCA, SVD etc. e. Optimization Techniques – Linear programming, Gradient Descent, Genetic Algorithm f. Cloud – Understanding of Azure / AWS offerings, Setting up ML pipeline of cloud Good to have – a. Visualization – Tableau / Power BI / Looker / QlikView b. Data management – HDFS, Spark, Advanced Excel c. Agile Tools – Azure DevOps, JIRA d.Pyspark e. Big Data/Hive Database f: IDE: Pycharm   RoleData Scientist Industry TypeSoftware Product Functional AreaData Science & Analytics Employment TypeFull Time, Permanent Role CategoryData Science & Machine Learning Education UG :Any Graduate Key Skills Data ScienceClassificationPython PysparkAzureArimaNeural NetworksBig DataTableauHdfsDeep LearningRandom ForestSQLRHiveCloudTime SeriesSparkAWSPycharm Skills highlighted with ‘‘ are preferred keyskills',\n",
       " \"Job Description  Excited by using massive amounts of data to develop Machine Learning (ML) and Deep Learning (DL) models? Want to help the largest global enterprises derive business value through the adoption of Artificial Intelligence (AI)? Eager to learn from many different enterprises use cases of AWS ML and DL? Thrilled to be key part of Amazon, who has been investing in Machine Learning for decades, pioneering and shaping the worlds AI technology? At AWS ProServe India LLP (ProServe India”), we are helping large enterprises build ML and DL models on the AWS Cloud. We are applying predictive technology to large volumes of data and against a wide spectrum of problems. Our Professional Services organization works together with our internal customers to address business needs of AWS customers using AI. AWS Professional Services is a unique consulting team in ProServe India. We pride ourselves on being customer obsessed and highly focused on the AI enablement of our customers. If you have experience with AI, including building ML or DL models, we’d like to have you join our team. You will get to work with an innovative company, with great teammates, and have a lot of fun helping our customers. If you do not live in a market where we have an open Data Scientist position, please feel free to apply. Our Data Scientists can live in any location where we have a Professional Service office. A successful candidate will be a person who enjoys diving deep into data, doing analysis, discovering root causes, and designing long-term solutions. It will be a person who likes to have fun, loves to learn, and wants to innovate in the world of AI. Major responsibilities include: Understand the internal customer’s business need and guide them to a solution using our AWS AI Services, AWS AI Platforms, AWS AI Frameworks, and AWS AI EC2 Instances . Assist internal customers by being able to deliver a ML / DL project from beginning to end, including understanding the business need, aggregating data, exploring data, building & validating predictive models, and deploying completed models to deliver business impact to the organization. Use Deep Learning frameworks like MXNet, Caffe 2, Tensorflow, Theano, CNTK, and Keras to help our internal customers build DL models. Use SparkML and Amazon Machine Learning (AML) to help our internal customers build ML models. Work with our Professional Services Big Data consultants to analyze, extract, normalize, and label relevant data. Work with our Professional Services DevOps consultants to help our internal customers operationalize models after they are built. Assist internal customers with identifying model drift and retraining models. Research and implement novel ML and DL approaches, including using FPGA. This role is open for Mumbai/Pune/Bangalore/Chennai/Hyderabad/Delhi/Pune. BASIC QUALIFICATIONS  A Bachelor or Masters Degree in a highly quantitative field (Computer Science, Machine Learning, Operational Research, Statistics, Mathematics, etc.) or equivalent experience • 6+ years of industry experience in predictive modeling, data science and analysis • Previous experience in a ML or data scientist role and a track record of building ML or DL models • Experience using Python and/or R • Knowledge of SparkML • Able to write production level code, which is well-written and explainable • Experience using ML libraries, such as scikit-learn, caret, mlr, mllib • Experience working with GPUs to develop models • Experience handling terabyte size datasets • Experience diving into data to discover hidden patterns • Familiarity with using data visualization tools • Knowledge and experience of writing and tuning SQL • Past and current experience writing and speaking about complex technical concepts to broad audiences in a simplified format • Experience giving data presentations  PREFERRED QUALIFICATIONS • • PhD in a highly quantitative field (Computer Science, Machine Learning, Operational Research, Statistics, Mathematics, etc.) • 6+ years of industry experience in predictive modeling and analysis • Skills with programming languages, such as Java or C/C++ • Ability to develop experimental and analytic plans for data modeling processes, use of strong baselines, ability to accurately determine cause and effect relations • Consulting experience and track record of helping customers with their AI needs • Publications or presentation in recognized Machine Learning, Deep Learning and Data Mining journals/conferences • Experience with AWS technologies like Redshift, S3, EC2, Data Pipeline, & EMR • Combination of deep technical skills and business savvy enough to interface with all levels and disciplines within our customer’s organization • Demonstrable track record of dealing well with ambiguity, prioritizing needs, and delivering results in a dynamic environment   Industry: IT Services & Consulting Functional Area: Engineering - Software Role Category: Software Development Role: Technical Architect Employment Type: Full Time, Permanent Preferred Keyskills Data ScienceMachine LearningPython Other Keyskills TensorflowArtificial IntelligenceCaffeKerasDeep LearningScikit-Learn  Education:UG -Any Graduate  Company Profile Amazon Development Centre (India) Pvt. Ltd. Amazon.com strives to be Earth's most customer-centric company where people can find and discover virtually anything they want to buy online. By giving customers more of what they want - low prices, vast selection, and convenience - Amazon.com continues to grow and evolve as a world-class e-commerce platform. Amazon's evolution from Web site to e-commerce partner to development platform is driven by the spirit of innovation that is part of the company's DNA. The world's brightest technology minds come to Amazon.com to research and develop technology that improves the lives of shoppers and sellers around the world. View Contact Details +\",\n",
       " 'Job description   A day in the life at Innovaccer: Design and lead the development of various artificial intelligence initiatives to help improve health and wellness of patients Work with the business leaders and customers to understand their pain-points and build large-scale solutions for them. Define technical architecture to productize Innovaccer s machine-learning algorithms and take them to market with partnerships with different organizations Work with our data platform and applications team to help them successfully integrate the data science capability or algorithms in their product/workflows. Work with customers and BI experts to build out reports and dashboards that are most useful to customers Work with development teams to build tools for repeatable data tasks that will accelerate and automate development cycle. Define and execute on the roadmap What You Need Masters in Computer Science, Computer Engineering or other relevant fields (PhD Preferred) 5 years of experience in Data Science (healthcare experience will be a plus) Strong written and spoken communication skills Strong hands-on experience in Python Experience in Deep Learning Frameworks like Keras, TensorFlow Experience with Sequence Models Experience in NLP libraries like spaCy, NLTK, StanfordNLP Experience in developing and deploying production ready models Possess a customer-focused attitude through conversations and documentation Coordinate management activities with others on the team Hands-on ability to set up reporting tools and build reports and ad hoc functionality RoleRegional Sales Manager (B2C) Industry TypeBPO / Call Centre Functional AreaSales & Business Development Employment TypeFull Time, Permanent Role CategoryRetail & B2C Sales Education UG :Any Graduate PG :Any Postgraduate Key Skills Data ScienceTeam ManagementArtificial IntelligenceData ScientistComputer ScienceFull TimeMachine LearningDeep LearningPythonPredictive Analytics',\n",
       " \"Job description About The Job :  - You will architect, code and deploy ML models (from scratch) to predict credit risk.  - You will design, run, and analyze A/B and multivariate tests to test hypotheses aimed at optimizing user experience and portfolio risk.  - You will perform data exploration and build statistical models on user behavior to discover opportunities for decreasing user defaults. And you must truly be excited about this part.  - You'll use behavioral and social data to gain insights into how humans make financial choices  - You will spend a lot of time in building out predictive features from super sparse data sources.  - You'll continually acquire new data sources to develop a rich dataset that characterizes risk.  - You will code, drink, breathe and live python, sklearn and pandas. It's good to have experience in these but not a necessity - as long as you're super comfortable in a language of your choice.  About You :  - You've strong computer science fundamentals  - You've strong understanding of ML algorithms  - Ideally, you have 2+ years of experience in using ML in the industry environment  - You know how to run tests and understand their results from a statistical perspective  - You love freedom and hate being micromanaged. You own products end to end  - You have a strong desire to learn and use the latest machine learning algorithms  - It will be great if you have one of the following to share - a kaggle or a github profile  - Degree in statistics/quant/engineering from Tier-1 institutes.  Skills:- Data Science, Python, Perl, Django, Machine Learning (ML) and Data Analytics RoleData Analyst Industry TypeIT Services & Consulting Functional AreaData Science & Analytics Employment TypeFull Time, Permanent Role CategoryBusiness Intelligence & Analytics Education UG :B.Sc in Any Specialization, B.Tech/B.E. in Any Specialization, BCA in Computers PG :Any Postgraduate Doctorate :Doctorate Not Required Key Skills Data ScienceData ScientistDjangoPerlData AnalyticsMachine LearningPython\",\n",
       " \"Job description Responsibilities :  - Analytics lead on client projects responsible for data science application development, Works closely with cross-functional teams.  - Takes responsibility for requirements gathering, solution design, development, and developing a production-level data science solution  - Develop implementation guidelines, quality control procedures, and documentation for projects. Ensures adherence to the best practices in the project  - Guide team members on project work and take responsibility for the analytics deliverables  - Take initiatives to drive data science initiatives like training to the team, conduct proof-of-concept work to test new data science algorithms or features with support of data science leadership  Must have Skills and Experience: :  - At least a year of experience of leading machine learning or forecasting projects to meet the customers- business requirement  - 5-6 years of project experience using machine learning techniques (like Decision Trees, Gradient Boosting, Random Forest, and Neural Networks) or forecasting techniques (ESM, ARIMA, ARIMAX, UCM)  - Advance level skills in Python and SQL to work on large scale data  - Expertise and ability to train team members in Advanced Python for Data Science, Machine Learning / Forecasting, and SQL  Education:  - Bachelor /Master's degree in technology or engineering or quantitative field (e.g. MSc in Statistics and Operations Research, M Tech in Industrial Engineering, Applied Math/Statistics, Computer Science)  - Experience in retail, manufacturing, and consumer goods industry  - Experience of operationalization of the machine learning or forecasting models in the cloud or on-premises platform RoleData Scientist Industry TypeIT Services & Consulting Functional AreaData Science & Analytics Employment TypeFull Time, Permanent Role CategoryData Science & Machine Learning Education UG :B.Tech/B.E. in Any Specialization PG :MS/M.Sc(Science) in Statistics, M.Tech in Production/Industrial, Computers Doctorate :Doctorate Not Required Key Skills Data ScienceNLPData ScientistData ManagementMachine LearningStatisticsAnalyticsSQL\",\n",
       " 'Job description We are looking for a Lead data scientist who will help us discover the information hidden in vast amounts of Ad Campaign data, and help us to optimize the campaign to improve the advertiser ROI and improve the overall consumer experience. Your primary focus will be in applying data mining techniques, doing statistical analysis, and building high quality prediction systems using Deep learning algorithms integrated with our products. Some the key area you will be working on spend recommendation, floor price prediction, CTR/CVR prediction, market funnel analysis and perdition of lead to conversion, etc.  Responsibility: Analyze the data, develop insights and identify the opportunity to utilize the data to predict various Advertisement key indicators like CTR, CVR, Inventory and Develop prediction and optimization algorithms for campaign, look alike modeling, etc for Huawei Ads. Takeup key challenges in AI-driven Smart Ad Serving Platform and focus on research and developing leading AI algorithms and productionize for Huawei Ads. Takeup initiative in identifying the SOTA and finding key gaps in AI algorithms and develop a world leading AI algorithms for optimizing real-time Ad Serving engine. Identify and optimize the core modules such as Traffic Prediction, Optimization, Ad Targeting/Re-targeting, Ad Performance Optimization, Audience insights, Attribution, Bidding, re-ranking, and Diagnostics. Support hundreds of billions of ad requests per day, with efficiently cache technology. To build and enhance Ad platform features and Prediction capabilities in Huawei Ads Platform Optimized Cost Per Mille; Optimized Cost Per Action; Optimized Cost Per Click and Cost per Click. OCPM, OCPA, OCPC.  Requirements: - Strong hands-on experience in implementing and validating big data algorithms and models including Deep Learning models like Seq2Seq/ GRU/ RNN/LSTM , Knowledge Graph, Massive Graph algorithms, etc. - Programming experience with Python - Able to validate existing models including Deep Learning models with large scale dataset and able to make changes to the models to achieve better performance - AdServing domain Experience is an added advantage. RoleData Scientist Industry TypeTelecom / ISP Functional AreaData Science & Analytics Employment TypeFull Time, Permanent Role CategoryData Science & Machine Learning Education UG :Any Graduate PG :Any Postgraduate Key Skills Data SciencePerformance OptimizationAlgorithmsRNNLSTMArtificial IntelligenceBig DataData MiningStatistical AnalysisDeep LearningPython',\n",
       " 'Job description Use data to develop machine learning models that optimize decision making in Credit Risk, Fraud, Marketing, and Operations Implement data pipelines, new features, and algorithms that are critical to our production models Create scalable strategies to deploy and execute your models Write well designed, testable, efficient code Identify valuable data sources and automate collection processes. Undertake pre-processing of structured and unstructured data. Analyze large amounts of information to discover trends and patterns. Requirements: 2+ years of experience in applied data science or engineering with a focus on machine learning Python expertise with good knowledge of machine learning libraries, tools, techniques, and frameworks (e.g. pandas, sklearn, xgboost, lightgbm, logistic regression, random forest classifier, gradient boosting regressor etc) Strong quantitative and programming skills with a product-driven sensibility - RoleOther Hospital Staff - Other Industry TypeRecruitment / Staffing Functional AreaHealthcare & Life Sciences Employment TypeFull Time, Permanent Role CategoryOther Hospital Staff Education UG :B.Tech/B.E. in Production/Industrial PG :Any Postgraduate Key Skills Data ScienceBpoCustomer ServiceLogistic RegressionTelecallingCredit RiskMachine LearningPython',\n",
       " 'Job description Use data to develop machine learning models that optimize decision making in Credit Risk, Fraud, Marketing, and Operations Implement data pipelines, new features, and algorithms that are critical to our production models Create scalable strategies to deploy and execute your models Write well designed, testable, efficient code Identify valuable data sources and automate collection processes. Undertake pre-processing of structured and unstructured data. Analyze large amounts of information to discover trends and patterns. Requirements: 1+ years of experience in applied data science or engineering with a focus on machine learning Python expertise with good knowledge of machine learning libraries, tools, techniques, and frameworks (e.g. pandas, sklearn, xgboost, lightgbm, logistic regression, random forest classifier, gradient boosting regressor etc) Strong quantitative and programming skills with a product-driven sensibility - RoleOther Hospital Staff - Other Industry TypeRecruitment / Staffing Functional AreaHealthcare & Life Sciences Employment TypeFull Time, Permanent Role CategoryOther Hospital Staff Education UG :B.Tech/B.E. in Production/Industrial PG :Any Postgraduate Key Skills Data ScienceBpoCustomer ServiceLogistic RegressionTelecallingCredit RiskB . TechPersonal LoansMachine LearningPython',\n",
       " 'Job description At epiFi you will : Research and build predictive models to help users make the best financial decisions Influence data-driven decisions through end-to-end ownership of experiments : from collecting and building hypothesesto establishing statistical significance on results Collaborate closely with other functions on modeling ideas and building analytics You should apply if : You have at least 3 to 5 years of industry experience in data mining, machine learning, statistical analysis, and modeling You have a MS or PhD in Computer Science, Physics, Statistics, Applied Mathematics, or any quantitative disciplines You have have a keen interest in financial services and a passion for shipping high-quality consumer-facing products You are able to self-manage your priorities and deliverables while working in a fast-paced, startup environment You have a solid foundation in computer science and strong competencies in data structures, algorithms, and software design, expertise with statistical data analysis such as linear models, multivariate analysis, stochastic models, sampling methods You are experienced in one or more of the following areas: Machine Learning (ML) models, ML infrastructure, Natural Language Processing or Deep Learning You are proficient in one or more data-oriented programming languages / tools (e.g. Python, R, Pandas, Scikit-learn, Jupyter) and database languages (e.g. SQL) You have built and prototyped analysis pipelines iteratively to provide insights at scale, on tools such as Hive, Spark, AWS Redshift You have a spark that separates you from the crowd and ability to think out of the box and on your feet You possess multi-dimensional skills that make you a valuable co-worker in a fast, changing and ambiguous environment You have the ability to learn other coding languages as needed real quick You are comfortable in working with a team that deals with ambiguity every day You can articulate complicated technical concepts clearly Wed also love to see : Interesting hobby projects, open-source contributions, etc Sharing of knowledge - via either formal mentoring, reviewing code, reviewing design documents, providing technical talks, teaching classes, or as a consultant on projects RoleTechnical Consultant Industry TypeIT Services & Consulting Functional AreaConsulting Employment TypeFull Time, Permanent Role CategoryIT Consulting Education UG :Any Graduate PG :Any Postgraduate Key Skills Data ScienceAlgorithmsData ScientistNatural Language ProcessingData AnalysisData MiningMachine LearningDeep LearningScikit - LearnPython',\n",
       " 'Job description Objectives of this Role Collaborate with product design and engineering to develop an understanding of needs Research and devise innovative statistical models for data analysis Communicate findings to all stakeholders Enable smarter business processes and implement analytics for meaningful insights Keep current with technical skillsets and industry developments Responsibilities Work as the lead data strategist, identifying and integrating new datasets that can be leveraged through our product capabilities and work closely with the Product Support Organization to strategize and execute the development of new data products and maintain existing ones Execute analytical experiments methodically to help solve various problems and make a true impact across various domains and industries Identify relevant data sources and sets to mine for client business needs, and collect large structured and unstructured datasets and variables Devise and utilize algorithms and models to mine big data stores, perform data and error analysis to improve models, and clean and validate data for uniformity and accuracy Analyze data for trends and patterns, and Interpret data with a clear objective in mind Implement analytical models into production by collaborating with software developers and machine learning engineers. Communicate analytic solutions to stakeholders and implement improvements as needed Skills and Qualifications Bachelor s degree in statistics, applied mathematics, or related discipline 7+ years experience in data science Proficiency with data mining, mathematics, and statistical analysis Advanced predictive modeling experience Experience with Excel, PowerPoint, Tableau, SQL, and proficient in one of the programming languages (i.e., Python/R/Scala/SAS) Preferred Qualifications Master s degree in stats, applied math, or related discipline Experience in Natural Language Processing (NLP) algorithms, recommendation engine will be a plus. RoleResearch Scientist Industry TypeIT Services & Consulting Functional AreaResearch & Development Employment TypeFull Time, Permanent Role CategoryPharmaceutical & Biotechnology Education UG :Any Graduate PG :Any Postgraduate Key Skills Data SciencePredictive ModelingNlpData ScientistNatural Language ProcessingBig DataData AnalysisData MiningMachine LearningPython']"
      ]
     },
     "execution_count": 32,
     "metadata": {},
     "output_type": "execute_result"
    }
   ],
   "source": [
    "#Now to get the job description , we should itterate to each of the link and scrap them\n",
    "job_description=[]\n",
    "for link in job_link:\n",
    "    driver.get(link)\n",
    "    description=driver.find_element_by_xpath(\"//*[contains(@class,'job-desc')]\")\n",
    "    job_description.append(description.text.replace('\\n',\" \"))\n",
    "job_description"
   ]
  },
  {
   "cell_type": "code",
   "execution_count": 33,
   "metadata": {},
   "outputs": [],
   "source": [
    "#Creating a Data Frame:\n",
    "Data_Scientist_job=pd.DataFrame({})\n",
    "Data_Scientist_job['Title']=job_title[:10]\n",
    "Data_Scientist_job['Location']=job_location[:10]\n",
    "Data_Scientist_job['Company']=company[:10]\n",
    "Data_Scientist_job['Description']=job_description"
   ]
  },
  {
   "cell_type": "code",
   "execution_count": 34,
   "metadata": {
    "scrolled": true
   },
   "outputs": [
    {
     "data": {
      "text/html": [
       "<div>\n",
       "<style scoped>\n",
       "    .dataframe tbody tr th:only-of-type {\n",
       "        vertical-align: middle;\n",
       "    }\n",
       "\n",
       "    .dataframe tbody tr th {\n",
       "        vertical-align: top;\n",
       "    }\n",
       "\n",
       "    .dataframe thead th {\n",
       "        text-align: right;\n",
       "    }\n",
       "</style>\n",
       "<table border=\"1\" class=\"dataframe\">\n",
       "  <thead>\n",
       "    <tr style=\"text-align: right;\">\n",
       "      <th></th>\n",
       "      <th>Title</th>\n",
       "      <th>Location</th>\n",
       "      <th>Company</th>\n",
       "      <th>Description</th>\n",
       "    </tr>\n",
       "  </thead>\n",
       "  <tbody>\n",
       "    <tr>\n",
       "      <th>0</th>\n",
       "      <td>Sr. Data Scientist / Data Scientist For Bangal...</td>\n",
       "      <td>Kolkata, Bangalore/Bengaluru</td>\n",
       "      <td>mPokket</td>\n",
       "      <td>Job description Job Description: 1. Must have ...</td>\n",
       "    </tr>\n",
       "    <tr>\n",
       "      <th>1</th>\n",
       "      <td>Data Scientist</td>\n",
       "      <td>Hyderabad/Secunderabad, Pune, Bangalore/Bengaluru</td>\n",
       "      <td>Amazon Development Centre (India) Pvt. Ltd.</td>\n",
       "      <td>Job Description  Excited by using massive amou...</td>\n",
       "    </tr>\n",
       "    <tr>\n",
       "      <th>2</th>\n",
       "      <td>Senior Data Scientist</td>\n",
       "      <td>Noida, Bangalore/Bengaluru</td>\n",
       "      <td>InnovAccer</td>\n",
       "      <td>Job description   A day in the life at Innovac...</td>\n",
       "    </tr>\n",
       "    <tr>\n",
       "      <th>3</th>\n",
       "      <td>Senior Data Scientist - Python/Machine Learnin...</td>\n",
       "      <td>Mumbai, Hyderabad/Secunderabad, Pune, Bangalor...</td>\n",
       "      <td>Altimax Business Solutions</td>\n",
       "      <td>Job description About The Job :  - You will ar...</td>\n",
       "    </tr>\n",
       "    <tr>\n",
       "      <th>4</th>\n",
       "      <td>Data Scientist/Senior Data Scientist - IT Serv...</td>\n",
       "      <td>Hyderabad/Secunderabad, Pune, Gurgaon/Gurugram...</td>\n",
       "      <td>Pylon Management Consulting Pvt Ltd</td>\n",
       "      <td>Job description Responsibilities :  - Analytic...</td>\n",
       "    </tr>\n",
       "    <tr>\n",
       "      <th>5</th>\n",
       "      <td>Lead Data Scientist</td>\n",
       "      <td>Bangalore/Bengaluru</td>\n",
       "      <td>Huawei Technologies</td>\n",
       "      <td>Job description We are looking for a Lead data...</td>\n",
       "    </tr>\n",
       "    <tr>\n",
       "      <th>6</th>\n",
       "      <td>SDE2 Data Scientist</td>\n",
       "      <td>Bangalore/Bengaluru</td>\n",
       "      <td>Multi Recruit</td>\n",
       "      <td>Job description Use data to develop machine le...</td>\n",
       "    </tr>\n",
       "    <tr>\n",
       "      <th>7</th>\n",
       "      <td>SDE1 Data Scientist</td>\n",
       "      <td>Bangalore/Bengaluru</td>\n",
       "      <td>Multi Recruit</td>\n",
       "      <td>Job description Use data to develop machine le...</td>\n",
       "    </tr>\n",
       "    <tr>\n",
       "      <th>8</th>\n",
       "      <td>Data Scientist</td>\n",
       "      <td>Bangalore/Bengaluru</td>\n",
       "      <td>epiFi Technologies</td>\n",
       "      <td>Job description At epiFi you will : Research a...</td>\n",
       "    </tr>\n",
       "    <tr>\n",
       "      <th>9</th>\n",
       "      <td>Data Scientist</td>\n",
       "      <td>Pune, Bangalore/Bengaluru</td>\n",
       "      <td>Nutanix India Technologies Private Limited</td>\n",
       "      <td>Job description Objectives of this Role Collab...</td>\n",
       "    </tr>\n",
       "  </tbody>\n",
       "</table>\n",
       "</div>"
      ],
      "text/plain": [
       "                                               Title  \\\n",
       "0  Sr. Data Scientist / Data Scientist For Bangal...   \n",
       "1                                     Data Scientist   \n",
       "2                              Senior Data Scientist   \n",
       "3  Senior Data Scientist - Python/Machine Learnin...   \n",
       "4  Data Scientist/Senior Data Scientist - IT Serv...   \n",
       "5                                Lead Data Scientist   \n",
       "6                                SDE2 Data Scientist   \n",
       "7                                SDE1 Data Scientist   \n",
       "8                                     Data Scientist   \n",
       "9                                     Data Scientist   \n",
       "\n",
       "                                            Location  \\\n",
       "0                       Kolkata, Bangalore/Bengaluru   \n",
       "1  Hyderabad/Secunderabad, Pune, Bangalore/Bengaluru   \n",
       "2                         Noida, Bangalore/Bengaluru   \n",
       "3  Mumbai, Hyderabad/Secunderabad, Pune, Bangalor...   \n",
       "4  Hyderabad/Secunderabad, Pune, Gurgaon/Gurugram...   \n",
       "5                                Bangalore/Bengaluru   \n",
       "6                                Bangalore/Bengaluru   \n",
       "7                                Bangalore/Bengaluru   \n",
       "8                                Bangalore/Bengaluru   \n",
       "9                          Pune, Bangalore/Bengaluru   \n",
       "\n",
       "                                       Company  \\\n",
       "0                                      mPokket   \n",
       "1  Amazon Development Centre (India) Pvt. Ltd.   \n",
       "2                                   InnovAccer   \n",
       "3                   Altimax Business Solutions   \n",
       "4          Pylon Management Consulting Pvt Ltd   \n",
       "5                          Huawei Technologies   \n",
       "6                                Multi Recruit   \n",
       "7                                Multi Recruit   \n",
       "8                           epiFi Technologies   \n",
       "9   Nutanix India Technologies Private Limited   \n",
       "\n",
       "                                         Description  \n",
       "0  Job description Job Description: 1. Must have ...  \n",
       "1  Job Description  Excited by using massive amou...  \n",
       "2  Job description   A day in the life at Innovac...  \n",
       "3  Job description About The Job :  - You will ar...  \n",
       "4  Job description Responsibilities :  - Analytic...  \n",
       "5  Job description We are looking for a Lead data...  \n",
       "6  Job description Use data to develop machine le...  \n",
       "7  Job description Use data to develop machine le...  \n",
       "8  Job description At epiFi you will : Research a...  \n",
       "9  Job description Objectives of this Role Collab...  "
      ]
     },
     "execution_count": 34,
     "metadata": {},
     "output_type": "execute_result"
    }
   ],
   "source": [
    "#Veiwing the data frame with details\n",
    "Data_Scientist_job"
   ]
  },
  {
   "cell_type": "code",
   "execution_count": 49,
   "metadata": {},
   "outputs": [],
   "source": [
    "#Closing the driver and website\n",
    "driver.close()"
   ]
  },
  {
   "cell_type": "markdown",
   "metadata": {},
   "source": [
    "### q3. In this question you have to scrape data using the filters available on the webpage\n"
   ]
  },
  {
   "cell_type": "code",
   "execution_count": 50,
   "metadata": {},
   "outputs": [],
   "source": [
    "#Initialising the driver\n",
    "driver=webdriver.Chrome(r'I:\\\\chromedriver_win32\\\\chromedriver.exe')"
   ]
  },
  {
   "cell_type": "code",
   "execution_count": 51,
   "metadata": {},
   "outputs": [],
   "source": [
    "#opening the required website\n",
    "driver.get('https://www.naukri.com/')"
   ]
  },
  {
   "cell_type": "code",
   "execution_count": 52,
   "metadata": {},
   "outputs": [],
   "source": [
    "#Getting the search column\n",
    "search=driver.find_element_by_id('qsb-keyword-sugg')"
   ]
  },
  {
   "cell_type": "code",
   "execution_count": 53,
   "metadata": {},
   "outputs": [],
   "source": [
    "#Entering the text into search column\n",
    "search.send_keys('Data Scientist')"
   ]
  },
  {
   "cell_type": "code",
   "execution_count": 54,
   "metadata": {},
   "outputs": [],
   "source": [
    "#Getting the search button and clicking on the button\n",
    "search_btn=driver.find_element_by_xpath(\"//div[@class='search-btn']/button\")\n",
    "search_btn.click()"
   ]
  },
  {
   "cell_type": "code",
   "execution_count": 56,
   "metadata": {},
   "outputs": [],
   "source": [
    "#Checking the location\n",
    "loc=driver.find_element_by_xpath('//*[@id=\"root\"]/div[3]/div[2]/section[1]/div[2]/div[3]/div[2]/div[3]/label/i')\n",
    "loc.click()"
   ]
  },
  {
   "cell_type": "code",
   "execution_count": 57,
   "metadata": {},
   "outputs": [],
   "source": [
    "#Clicking on the salary filter simillarly\n",
    "sal=driver.find_element_by_xpath('//*[@id=\"root\"]/div[3]/div[2]/section[1]/div[2]/div[4]/div[2]/div[2]/label/i')\n",
    "sal.click()"
   ]
  },
  {
   "cell_type": "code",
   "execution_count": 58,
   "metadata": {
    "scrolled": true
   },
   "outputs": [
    {
     "data": {
      "text/plain": [
       "['Data Scientist',\n",
       " 'Job Opportunity || Data Scientist || HCL Technologies',\n",
       " 'Data Scientist',\n",
       " 'Data Scientist',\n",
       " 'Data Scientist I/II/III',\n",
       " 'Academic Counsellor - Data Scientist',\n",
       " 'Associate Data Scientist',\n",
       " 'Data Scientist',\n",
       " 'Data Scientist',\n",
       " 'Data Scientist']"
      ]
     },
     "execution_count": 58,
     "metadata": {},
     "output_type": "execute_result"
    }
   ],
   "source": [
    "#Scraping the details of job title\n",
    "title=[]\n",
    "title_tag=driver.find_elements_by_xpath(\"//a[@class='title fw500 ellipsis']\")\n",
    "for titles in title_tag:\n",
    "    title.append(titles.text)\n",
    "title[:10]"
   ]
  },
  {
   "cell_type": "code",
   "execution_count": 59,
   "metadata": {
    "scrolled": true
   },
   "outputs": [
    {
     "data": {
      "text/plain": [
       "['Gurgaon/Gurugram, Bangalore/Bengaluru',\n",
       " 'Delhi / NCR',\n",
       " 'Noida',\n",
       " 'Gurgaon/Gurugram, Bangalore/Bengaluru',\n",
       " 'Gurgaon/Gurugram',\n",
       " 'Gurgaon/Gurugram, Bangalore/Bengaluru',\n",
       " 'Noida',\n",
       " 'Noida, Gurgaon/Gurugram',\n",
       " 'Gurgaon/Gurugram',\n",
       " 'Mumbai, Delhi / NCR']"
      ]
     },
     "execution_count": 59,
     "metadata": {},
     "output_type": "execute_result"
    }
   ],
   "source": [
    "#Scraping the details of job location\n",
    "location=[]\n",
    "loc_tag=driver.find_elements_by_xpath(\"//li[@class='fleft grey-text br2 placeHolderLi location']/span[1]\")\n",
    "for locs in loc_tag:\n",
    "    location.append(locs.text)\n",
    "location[:10]"
   ]
  },
  {
   "cell_type": "code",
   "execution_count": 60,
   "metadata": {
    "scrolled": true
   },
   "outputs": [
    {
     "data": {
      "text/plain": [
       "['EXL Services.com ( I ) Pvt. Ltd.',\n",
       " 'HCL Technologies',\n",
       " 'Newgen Software Technologies Ltd.',\n",
       " 'Hexagon Geosystems Services India P.Ltd.',\n",
       " 'OLX India Pvt Ltd',\n",
       " 'GreatLearning',\n",
       " 'Optum Global Solutions (India) Private Limited',\n",
       " 'Optum Global Solutions (India) Private Limited',\n",
       " 'Milliman India Pvt Ltd',\n",
       " 'lericon infomatics pvt.ltd']"
      ]
     },
     "execution_count": 60,
     "metadata": {},
     "output_type": "execute_result"
    }
   ],
   "source": [
    "#Scraping company names\n",
    "company=[]\n",
    "company_tag=driver.find_elements_by_xpath(\"//a[@class='subTitle ellipsis fleft']\")\n",
    "for companies in company_tag:\n",
    "    company.append(companies.text)\n",
    "company[:10]"
   ]
  },
  {
   "cell_type": "code",
   "execution_count": 61,
   "metadata": {
    "scrolled": true
   },
   "outputs": [
    {
     "data": {
      "text/plain": [
       "['3-5 Yrs',\n",
       " '4-7 Yrs',\n",
       " '2-5 Yrs',\n",
       " '6-11 Yrs',\n",
       " '3-6 Yrs',\n",
       " '1-4 Yrs',\n",
       " '2-7 Yrs',\n",
       " '2-6 Yrs',\n",
       " '2-5 Yrs',\n",
       " '3-5 Yrs']"
      ]
     },
     "execution_count": 61,
     "metadata": {},
     "output_type": "execute_result"
    }
   ],
   "source": [
    "#Scraping experience details\n",
    "experience=[]\n",
    "experience_tag=driver.find_elements_by_xpath(\"//li[@class='fleft grey-text br2 placeHolderLi experience']/span[1]\")\n",
    "for experiences in experience_tag:\n",
    "    experience.append(experiences.text)\n",
    "experience[:10]"
   ]
  },
  {
   "cell_type": "code",
   "execution_count": 62,
   "metadata": {},
   "outputs": [],
   "source": [
    "#Making a dataframe with all details\n",
    "jobs_delhi=pd.DataFrame({})\n",
    "jobs_delhi['Job title']=title[:10]\n",
    "jobs_delhi['location']=location[:10]\n",
    "jobs_delhi['Company']=company[:10]\n",
    "jobs_delhi['Experience']=experience[:10]"
   ]
  },
  {
   "cell_type": "code",
   "execution_count": 63,
   "metadata": {
    "scrolled": true
   },
   "outputs": [
    {
     "data": {
      "text/html": [
       "<div>\n",
       "<style scoped>\n",
       "    .dataframe tbody tr th:only-of-type {\n",
       "        vertical-align: middle;\n",
       "    }\n",
       "\n",
       "    .dataframe tbody tr th {\n",
       "        vertical-align: top;\n",
       "    }\n",
       "\n",
       "    .dataframe thead th {\n",
       "        text-align: right;\n",
       "    }\n",
       "</style>\n",
       "<table border=\"1\" class=\"dataframe\">\n",
       "  <thead>\n",
       "    <tr style=\"text-align: right;\">\n",
       "      <th></th>\n",
       "      <th>Job title</th>\n",
       "      <th>location</th>\n",
       "      <th>Company</th>\n",
       "      <th>Experience</th>\n",
       "    </tr>\n",
       "  </thead>\n",
       "  <tbody>\n",
       "    <tr>\n",
       "      <th>0</th>\n",
       "      <td>Data Scientist</td>\n",
       "      <td>Gurgaon/Gurugram, Bangalore/Bengaluru</td>\n",
       "      <td>EXL Services.com ( I ) Pvt. Ltd.</td>\n",
       "      <td>3-5 Yrs</td>\n",
       "    </tr>\n",
       "    <tr>\n",
       "      <th>1</th>\n",
       "      <td>Job Opportunity || Data Scientist || HCL Techn...</td>\n",
       "      <td>Delhi / NCR</td>\n",
       "      <td>HCL Technologies</td>\n",
       "      <td>4-7 Yrs</td>\n",
       "    </tr>\n",
       "    <tr>\n",
       "      <th>2</th>\n",
       "      <td>Data Scientist</td>\n",
       "      <td>Noida</td>\n",
       "      <td>Newgen Software Technologies Ltd.</td>\n",
       "      <td>2-5 Yrs</td>\n",
       "    </tr>\n",
       "    <tr>\n",
       "      <th>3</th>\n",
       "      <td>Data Scientist</td>\n",
       "      <td>Gurgaon/Gurugram, Bangalore/Bengaluru</td>\n",
       "      <td>Hexagon Geosystems Services India P.Ltd.</td>\n",
       "      <td>6-11 Yrs</td>\n",
       "    </tr>\n",
       "    <tr>\n",
       "      <th>4</th>\n",
       "      <td>Data Scientist I/II/III</td>\n",
       "      <td>Gurgaon/Gurugram</td>\n",
       "      <td>OLX India Pvt Ltd</td>\n",
       "      <td>3-6 Yrs</td>\n",
       "    </tr>\n",
       "    <tr>\n",
       "      <th>5</th>\n",
       "      <td>Academic Counsellor - Data Scientist</td>\n",
       "      <td>Gurgaon/Gurugram, Bangalore/Bengaluru</td>\n",
       "      <td>GreatLearning</td>\n",
       "      <td>1-4 Yrs</td>\n",
       "    </tr>\n",
       "    <tr>\n",
       "      <th>6</th>\n",
       "      <td>Associate Data Scientist</td>\n",
       "      <td>Noida</td>\n",
       "      <td>Optum Global Solutions (India) Private Limited</td>\n",
       "      <td>2-7 Yrs</td>\n",
       "    </tr>\n",
       "    <tr>\n",
       "      <th>7</th>\n",
       "      <td>Data Scientist</td>\n",
       "      <td>Noida, Gurgaon/Gurugram</td>\n",
       "      <td>Optum Global Solutions (India) Private Limited</td>\n",
       "      <td>2-6 Yrs</td>\n",
       "    </tr>\n",
       "    <tr>\n",
       "      <th>8</th>\n",
       "      <td>Data Scientist</td>\n",
       "      <td>Gurgaon/Gurugram</td>\n",
       "      <td>Milliman India Pvt Ltd</td>\n",
       "      <td>2-5 Yrs</td>\n",
       "    </tr>\n",
       "    <tr>\n",
       "      <th>9</th>\n",
       "      <td>Data Scientist</td>\n",
       "      <td>Mumbai, Delhi / NCR</td>\n",
       "      <td>lericon infomatics pvt.ltd</td>\n",
       "      <td>3-5 Yrs</td>\n",
       "    </tr>\n",
       "  </tbody>\n",
       "</table>\n",
       "</div>"
      ],
      "text/plain": [
       "                                           Job title  \\\n",
       "0                                     Data Scientist   \n",
       "1  Job Opportunity || Data Scientist || HCL Techn...   \n",
       "2                                     Data Scientist   \n",
       "3                                     Data Scientist   \n",
       "4                            Data Scientist I/II/III   \n",
       "5               Academic Counsellor - Data Scientist   \n",
       "6                           Associate Data Scientist   \n",
       "7                                     Data Scientist   \n",
       "8                                     Data Scientist   \n",
       "9                                     Data Scientist   \n",
       "\n",
       "                                location  \\\n",
       "0  Gurgaon/Gurugram, Bangalore/Bengaluru   \n",
       "1                            Delhi / NCR   \n",
       "2                                  Noida   \n",
       "3  Gurgaon/Gurugram, Bangalore/Bengaluru   \n",
       "4                       Gurgaon/Gurugram   \n",
       "5  Gurgaon/Gurugram, Bangalore/Bengaluru   \n",
       "6                                  Noida   \n",
       "7                Noida, Gurgaon/Gurugram   \n",
       "8                       Gurgaon/Gurugram   \n",
       "9                    Mumbai, Delhi / NCR   \n",
       "\n",
       "                                          Company Experience  \n",
       "0                EXL Services.com ( I ) Pvt. Ltd.    3-5 Yrs  \n",
       "1                                HCL Technologies    4-7 Yrs  \n",
       "2               Newgen Software Technologies Ltd.    2-5 Yrs  \n",
       "3        Hexagon Geosystems Services India P.Ltd.   6-11 Yrs  \n",
       "4                               OLX India Pvt Ltd    3-6 Yrs  \n",
       "5                                   GreatLearning    1-4 Yrs  \n",
       "6  Optum Global Solutions (India) Private Limited    2-7 Yrs  \n",
       "7  Optum Global Solutions (India) Private Limited    2-6 Yrs  \n",
       "8                          Milliman India Pvt Ltd    2-5 Yrs  \n",
       "9                      lericon infomatics pvt.ltd    3-5 Yrs  "
      ]
     },
     "execution_count": 63,
     "metadata": {},
     "output_type": "execute_result"
    }
   ],
   "source": [
    "#Seeing the data frame\n",
    "jobs_delhi"
   ]
  },
  {
   "cell_type": "code",
   "execution_count": 64,
   "metadata": {},
   "outputs": [],
   "source": [
    "driver.close()"
   ]
  },
  {
   "cell_type": "markdown",
   "metadata": {},
   "source": [
    "#### q4. Write a python program to scrape data for first 10 job results for Data scientist Designation in Noida location. You have to scrape company_name, No. of daysago when job was posted, Rating of the company"
   ]
  },
  {
   "cell_type": "code",
   "execution_count": 80,
   "metadata": {},
   "outputs": [],
   "source": [
    "# Initializing the driver\n",
    "driver=driver=webdriver.Chrome(r'I:\\\\chromedriver_win32\\\\chromedriver.exe')\n",
    "\n",
    "#accesing the website\n",
    "driver.get('https://www.glassdoor.co.in/index.htm')"
   ]
  },
  {
   "cell_type": "code",
   "execution_count": 81,
   "metadata": {
    "scrolled": false
   },
   "outputs": [
    {
     "data": {
      "text/plain": [
       "<selenium.webdriver.remote.webelement.WebElement (session=\"8514290757f798fd432931a23905e88d\", element=\"c2a28367-856e-47b7-a4f6-1a879ae2808c\")>"
      ]
     },
     "execution_count": 81,
     "metadata": {},
     "output_type": "execute_result"
    }
   ],
   "source": [
    "#Signed in to the website manually \n",
    "#Now searching for the ui button of job\n",
    "search_field=driver.find_element_by_id('sc.keyword')\n",
    "search_field"
   ]
  },
  {
   "cell_type": "code",
   "execution_count": 82,
   "metadata": {},
   "outputs": [],
   "source": [
    "#Sending the required job title into it\n",
    "search_field.send_keys('Data Scientist')"
   ]
  },
  {
   "cell_type": "code",
   "execution_count": 84,
   "metadata": {},
   "outputs": [],
   "source": [
    "#Simillarly finding and sending required location\n",
    "loc_field=driver.find_element_by_id('sc.location')\n",
    "loc_field.send_keys('Noida')"
   ]
  },
  {
   "cell_type": "code",
   "execution_count": 85,
   "metadata": {},
   "outputs": [],
   "source": [
    "#Finding and Clicking the search button\n",
    "search_btn=driver.find_element_by_xpath('//button[@class=\"gd-ui-button ml-std col-auto search__SearchStyles__newSearchButton css-1dqvyh7\"]')\n",
    "search_btn.click()"
   ]
  },
  {
   "cell_type": "code",
   "execution_count": 110,
   "metadata": {
    "scrolled": false
   },
   "outputs": [
    {
     "data": {
      "text/plain": [
       "['GIS Data Scientist',\n",
       " 'Data Scientist-CAI',\n",
       " 'Data Scientist - Sales Analytics',\n",
       " 'Associate Manager Data Scientist - Noida, UP',\n",
       " 'Data Scientist',\n",
       " 'Data Scientist Intern',\n",
       " 'Data Scientist',\n",
       " 'Data Scientist – Gurgaon/Noida',\n",
       " 'Data Scientist',\n",
       " 'Associate Data Scientist']"
      ]
     },
     "execution_count": 110,
     "metadata": {},
     "output_type": "execute_result"
    }
   ],
   "source": [
    "#Now we need to fetch  the job roles\n",
    "job_role=driver.find_elements_by_xpath(\"//a[@class='jobLink job-search-key-1rd3saf eigr9kq1']\")\n",
    "job_roles=[i.text for i in job_role]\n",
    "job_roles[:10]"
   ]
  },
  {
   "cell_type": "code",
   "execution_count": 113,
   "metadata": {},
   "outputs": [
    {
     "data": {
      "text/plain": [
       "['Pixel Vision',\n",
       " 'HDFC Bank',\n",
       " 'Innovacer',\n",
       " 'UnitedHealth Group',\n",
       " 'Crowe',\n",
       " 'Salasar New Age Technologies',\n",
       " 'AlgoScale Technologies Private Limited',\n",
       " 'Optum - India',\n",
       " 'Techlive',\n",
       " 'Liberin Technologies Private Limited']"
      ]
     },
     "execution_count": 113,
     "metadata": {},
     "output_type": "execute_result"
    }
   ],
   "source": [
    "#Fetching the company name\n",
    "job_company=driver.find_elements_by_xpath(\"//div[@class='d-flex justify-content-between align-items-start']\")\n",
    "company=[i.text for i in job_company]\n",
    "company[:10]"
   ]
  },
  {
   "cell_type": "code",
   "execution_count": 89,
   "metadata": {},
   "outputs": [
    {
     "data": {
      "text/plain": [
       "['4d', '4d', '3d', '7d', '14d', '30d+', '30d+', '22d', '30d+', '30d+']"
      ]
     },
     "execution_count": 89,
     "metadata": {},
     "output_type": "execute_result"
    }
   ],
   "source": [
    "#Fetching the no. of days ago posted\n",
    "job_age=driver.find_elements_by_xpath(\"//div[@class='d-flex align-items-end pl-std css-17n8uzw']\")\n",
    "posted=[i.text for i in job_age]\n",
    "posted[:10]"
   ]
  },
  {
   "cell_type": "code",
   "execution_count": 108,
   "metadata": {
    "scrolled": true
   },
   "outputs": [
    {
     "data": {
      "text/plain": [
       "['', '3.7', '3.8', '3.7', '3.8', '', '4.0', '', '5.0', '']"
      ]
     },
     "execution_count": 108,
     "metadata": {},
     "output_type": "execute_result"
    }
   ],
   "source": [
    "#Now getting the ratings of the company\n",
    "ratings=[]\n",
    "company_ratings=driver.find_elements_by_xpath(\"//div[@class='d-flex flex-column job-search-key-1pzmdmc e1rrn5ka1']\")\n",
    "for i in company_ratings:\n",
    "    ratings.append(i.text)\n",
    "ratings[:10]"
   ]
  },
  {
   "cell_type": "code",
   "execution_count": 115,
   "metadata": {},
   "outputs": [],
   "source": [
    "#Now making the data frame with all the details\n",
    "glassdoor=pd.DataFrame({})\n",
    "glassdoor['Designation']=job_roles[:10]\n",
    "glassdoor['Company']=company[:10]\n",
    "glassdoor['Posted ago']=posted[:10]\n",
    "glassdoor['Company Rating']=ratings[:10]"
   ]
  },
  {
   "cell_type": "code",
   "execution_count": 116,
   "metadata": {
    "scrolled": true
   },
   "outputs": [
    {
     "data": {
      "text/html": [
       "<div>\n",
       "<style scoped>\n",
       "    .dataframe tbody tr th:only-of-type {\n",
       "        vertical-align: middle;\n",
       "    }\n",
       "\n",
       "    .dataframe tbody tr th {\n",
       "        vertical-align: top;\n",
       "    }\n",
       "\n",
       "    .dataframe thead th {\n",
       "        text-align: right;\n",
       "    }\n",
       "</style>\n",
       "<table border=\"1\" class=\"dataframe\">\n",
       "  <thead>\n",
       "    <tr style=\"text-align: right;\">\n",
       "      <th></th>\n",
       "      <th>Designation</th>\n",
       "      <th>Company</th>\n",
       "      <th>Posted ago</th>\n",
       "      <th>Company Rating</th>\n",
       "    </tr>\n",
       "  </thead>\n",
       "  <tbody>\n",
       "    <tr>\n",
       "      <th>0</th>\n",
       "      <td>GIS Data Scientist</td>\n",
       "      <td>Pixel Vision</td>\n",
       "      <td>4d</td>\n",
       "      <td></td>\n",
       "    </tr>\n",
       "    <tr>\n",
       "      <th>1</th>\n",
       "      <td>Data Scientist-CAI</td>\n",
       "      <td>HDFC Bank</td>\n",
       "      <td>4d</td>\n",
       "      <td>3.7</td>\n",
       "    </tr>\n",
       "    <tr>\n",
       "      <th>2</th>\n",
       "      <td>Data Scientist - Sales Analytics</td>\n",
       "      <td>Innovacer</td>\n",
       "      <td>3d</td>\n",
       "      <td>3.8</td>\n",
       "    </tr>\n",
       "    <tr>\n",
       "      <th>3</th>\n",
       "      <td>Associate Manager Data Scientist - Noida, UP</td>\n",
       "      <td>UnitedHealth Group</td>\n",
       "      <td>7d</td>\n",
       "      <td>3.7</td>\n",
       "    </tr>\n",
       "    <tr>\n",
       "      <th>4</th>\n",
       "      <td>Data Scientist</td>\n",
       "      <td>Crowe</td>\n",
       "      <td>14d</td>\n",
       "      <td>3.8</td>\n",
       "    </tr>\n",
       "    <tr>\n",
       "      <th>5</th>\n",
       "      <td>Data Scientist Intern</td>\n",
       "      <td>Salasar New Age Technologies</td>\n",
       "      <td>30d+</td>\n",
       "      <td></td>\n",
       "    </tr>\n",
       "    <tr>\n",
       "      <th>6</th>\n",
       "      <td>Data Scientist</td>\n",
       "      <td>AlgoScale Technologies Private Limited</td>\n",
       "      <td>30d+</td>\n",
       "      <td>4.0</td>\n",
       "    </tr>\n",
       "    <tr>\n",
       "      <th>7</th>\n",
       "      <td>Data Scientist – Gurgaon/Noida</td>\n",
       "      <td>Optum - India</td>\n",
       "      <td>22d</td>\n",
       "      <td></td>\n",
       "    </tr>\n",
       "    <tr>\n",
       "      <th>8</th>\n",
       "      <td>Data Scientist</td>\n",
       "      <td>Techlive</td>\n",
       "      <td>30d+</td>\n",
       "      <td>5.0</td>\n",
       "    </tr>\n",
       "    <tr>\n",
       "      <th>9</th>\n",
       "      <td>Associate Data Scientist</td>\n",
       "      <td>Liberin Technologies Private Limited</td>\n",
       "      <td>30d+</td>\n",
       "      <td></td>\n",
       "    </tr>\n",
       "  </tbody>\n",
       "</table>\n",
       "</div>"
      ],
      "text/plain": [
       "                                    Designation  \\\n",
       "0                            GIS Data Scientist   \n",
       "1                            Data Scientist-CAI   \n",
       "2              Data Scientist - Sales Analytics   \n",
       "3  Associate Manager Data Scientist - Noida, UP   \n",
       "4                                Data Scientist   \n",
       "5                         Data Scientist Intern   \n",
       "6                                Data Scientist   \n",
       "7                Data Scientist – Gurgaon/Noida   \n",
       "8                                Data Scientist   \n",
       "9                      Associate Data Scientist   \n",
       "\n",
       "                                  Company Posted ago Company Rating  \n",
       "0                            Pixel Vision         4d                 \n",
       "1                               HDFC Bank         4d            3.7  \n",
       "2                               Innovacer         3d            3.8  \n",
       "3                      UnitedHealth Group         7d            3.7  \n",
       "4                                   Crowe        14d            3.8  \n",
       "5            Salasar New Age Technologies       30d+                 \n",
       "6  AlgoScale Technologies Private Limited       30d+            4.0  \n",
       "7                           Optum - India        22d                 \n",
       "8                                Techlive       30d+            5.0  \n",
       "9    Liberin Technologies Private Limited       30d+                 "
      ]
     },
     "execution_count": 116,
     "metadata": {},
     "output_type": "execute_result"
    }
   ],
   "source": [
    "#Viewing the dataframe\n",
    "glassdoor"
   ]
  },
  {
   "cell_type": "code",
   "execution_count": 117,
   "metadata": {},
   "outputs": [],
   "source": [
    "#Closing the driver\n",
    "driver.close()"
   ]
  },
  {
   "cell_type": "markdown",
   "metadata": {},
   "source": [
    "#### Q5. You have to scrape Company name, Number of salaries, Average salary, Min salary, Max Salary"
   ]
  },
  {
   "cell_type": "code",
   "execution_count": 118,
   "metadata": {},
   "outputs": [],
   "source": [
    "# Initializing the driver\n",
    "driver=driver=webdriver.Chrome(r'I:\\\\chromedriver_win32\\\\chromedriver.exe')\n",
    "\n",
    "#accesing the website\n",
    "driver.get('https://www.glassdoor.co.in/Salaries/index.htm')"
   ]
  },
  {
   "cell_type": "code",
   "execution_count": 124,
   "metadata": {
    "scrolled": false
   },
   "outputs": [
    {
     "data": {
      "text/plain": [
       "<selenium.webdriver.remote.webelement.WebElement (session=\"75ce241e5d6199f9492428c3df08c8c8\", element=\"7e17a35f-3509-4d8b-a9b5-17abbe791b77\")>"
      ]
     },
     "execution_count": 124,
     "metadata": {},
     "output_type": "execute_result"
    }
   ],
   "source": [
    "#Signed in to the website manually \n",
    "#Now searching for the ui button of job\n",
    "search_field=driver.find_element_by_id('KeywordSearch')\n",
    "search_field"
   ]
  },
  {
   "cell_type": "code",
   "execution_count": 125,
   "metadata": {},
   "outputs": [],
   "source": [
    "#Sending the required job title into it\n",
    "search_field.send_keys('Data Scientist')"
   ]
  },
  {
   "cell_type": "code",
   "execution_count": 126,
   "metadata": {},
   "outputs": [],
   "source": [
    "#Simillarly finding and sending required location\n",
    "loc_field=driver.find_element_by_id('LocationSearch')\n",
    "loc_field.send_keys('Noida')"
   ]
  },
  {
   "cell_type": "code",
   "execution_count": 127,
   "metadata": {},
   "outputs": [],
   "source": [
    "#Finding and Clicking the search button\n",
    "search_btn=driver.find_element_by_id('HeroSearchButton')\n",
    "search_btn.click()"
   ]
  },
  {
   "cell_type": "code",
   "execution_count": 129,
   "metadata": {
    "scrolled": false
   },
   "outputs": [
    {
     "data": {
      "text/plain": [
       "['Tata Consultancy Services',\n",
       " 'IBM',\n",
       " 'Accenture',\n",
       " 'Ericsson-Worldwide',\n",
       " 'UnitedHealth Group',\n",
       " 'Delhivery',\n",
       " 'EXL Service',\n",
       " 'Optum',\n",
       " 'ZS Associates',\n",
       " 'Optum Global Solutions']"
      ]
     },
     "execution_count": 129,
     "metadata": {},
     "output_type": "execute_result"
    }
   ],
   "source": [
    "#Fetching the company name\n",
    "job_company=driver.find_elements_by_xpath(\"//div[@class='col px-xsm']/h3\")\n",
    "company=[i.text for i in job_company]\n",
    "company[:10]"
   ]
  },
  {
   "cell_type": "code",
   "execution_count": 131,
   "metadata": {
    "scrolled": true
   },
   "outputs": [
    {
     "data": {
      "text/plain": [
       "['25 salaries',\n",
       " '21 salaries',\n",
       " '16 salaries',\n",
       " '15 salaries',\n",
       " '15 salaries',\n",
       " '15 salaries',\n",
       " '11 salaries',\n",
       " '11 salaries',\n",
       " '10 salaries',\n",
       " '10 salaries']"
      ]
     },
     "execution_count": 131,
     "metadata": {},
     "output_type": "execute_result"
    }
   ],
   "source": [
    "#Scraping the number of reviews\n",
    "num=[]\n",
    "Num_reviews=driver.find_elements_by_xpath(\"//div[@class='col-12 col-lg-auto']\")\n",
    "for i in Num_reviews:\n",
    "    num.append(i.text)\n",
    "num[:10]"
   ]
  },
  {
   "cell_type": "code",
   "execution_count": 135,
   "metadata": {
    "scrolled": true
   },
   "outputs": [
    {
     "data": {
      "text/plain": [
       "['₹6,36,785  /yr',\n",
       " '₹9,24,624  /yr',\n",
       " '₹12,24,104  /yr',\n",
       " '₹7,68,525  /yr',\n",
       " '₹12,82,880  /yr',\n",
       " '₹12,60,805  /yr',\n",
       " '₹12,53,544  /yr',\n",
       " '₹12,70,000  /yr',\n",
       " '₹11,82,266  /yr',\n",
       " '₹14,62,558  /yr']"
      ]
     },
     "execution_count": 135,
     "metadata": {},
     "output_type": "execute_result"
    }
   ],
   "source": [
    "#Scraping the average salary\n",
    "avg=[]\n",
    "avg_salary=driver.find_elements_by_xpath('//div[@class=\"col-12 col-lg-4 px-lg-0 d-flex align-items-baseline\"]')\n",
    "for i in avg_salary:\n",
    "    avg.append(i.text.replace('\\n',' '))\n",
    "avg[:10]"
   ]
  },
  {
   "cell_type": "code",
   "execution_count": 136,
   "metadata": {},
   "outputs": [
    {
     "data": {
      "text/plain": [
       "['₹4L', '₹6L', '₹6L', '₹4L', '₹8L', '₹5L', '₹6L', '₹8L', '₹2L', '₹11L']"
      ]
     },
     "execution_count": 136,
     "metadata": {},
     "output_type": "execute_result"
    }
   ],
   "source": [
    "#scraping the min. salary\n",
    "mins=[]\n",
    "min_s=driver.find_elements_by_xpath(\"//div[@class='d-flex mt-xxsm css-79elbk epuxyqn0']/p[1]\")\n",
    "for i in min_s:\n",
    "    mins.append(i.text)\n",
    "mins[:10]"
   ]
  },
  {
   "cell_type": "code",
   "execution_count": 137,
   "metadata": {
    "scrolled": true
   },
   "outputs": [
    {
     "data": {
      "text/plain": [
       "['₹13L',\n",
       " '₹26L',\n",
       " '₹23L',\n",
       " '₹17L',\n",
       " '₹16L',\n",
       " '₹1Cr',\n",
       " '₹20L',\n",
       " '₹21L',\n",
       " '₹22L',\n",
       " '₹18L']"
      ]
     },
     "execution_count": 137,
     "metadata": {},
     "output_type": "execute_result"
    }
   ],
   "source": [
    "maxs=[]\n",
    "max_s=driver.find_elements_by_xpath(\"//div[@class='d-flex mt-xxsm css-79elbk epuxyqn0']/p[2]\")\n",
    "for i in max_s:\n",
    "    maxs.append(i.text)\n",
    "maxs[:10]\n"
   ]
  },
  {
   "cell_type": "code",
   "execution_count": 140,
   "metadata": {
    "scrolled": true
   },
   "outputs": [
    {
     "data": {
      "text/plain": [
       "['3.9', '3.9', '4.1', '4', '3.7', '3.7', '3.6', '3.7', '4', '3.9']"
      ]
     },
     "execution_count": 140,
     "metadata": {},
     "output_type": "execute_result"
    }
   ],
   "source": [
    "#Company rating\n",
    "ratings_tag=driver.find_elements_by_xpath(\"//div[@class='d-flex align-items-center mt-xxsm']/span[1]\")\n",
    "ratings=[i.text for i in ratings_tag]\n",
    "ratings[:10]"
   ]
  },
  {
   "cell_type": "code",
   "execution_count": 143,
   "metadata": {},
   "outputs": [],
   "source": [
    "#creating Data Frame \n",
    "salaries=pd.DataFrame({})\n",
    "salaries['Company']=company[:10]\n",
    "salaries['Min Salary']=mins[:10]\n",
    "salaries['Max Salary']=maxs[:10]\n",
    "salaries['Avg Salary']=avg[:10]\n",
    "salaries['Number of Mentions']=num[:10]\n",
    "salaries['Ratings']=ratings[:10]"
   ]
  },
  {
   "cell_type": "code",
   "execution_count": 144,
   "metadata": {
    "scrolled": true
   },
   "outputs": [
    {
     "data": {
      "text/html": [
       "<div>\n",
       "<style scoped>\n",
       "    .dataframe tbody tr th:only-of-type {\n",
       "        vertical-align: middle;\n",
       "    }\n",
       "\n",
       "    .dataframe tbody tr th {\n",
       "        vertical-align: top;\n",
       "    }\n",
       "\n",
       "    .dataframe thead th {\n",
       "        text-align: right;\n",
       "    }\n",
       "</style>\n",
       "<table border=\"1\" class=\"dataframe\">\n",
       "  <thead>\n",
       "    <tr style=\"text-align: right;\">\n",
       "      <th></th>\n",
       "      <th>Company</th>\n",
       "      <th>Min Salary</th>\n",
       "      <th>Max Salary</th>\n",
       "      <th>Avg Salary</th>\n",
       "      <th>Number of Mentions</th>\n",
       "      <th>Ratings</th>\n",
       "    </tr>\n",
       "  </thead>\n",
       "  <tbody>\n",
       "    <tr>\n",
       "      <th>0</th>\n",
       "      <td>Tata Consultancy Services</td>\n",
       "      <td>₹4L</td>\n",
       "      <td>₹13L</td>\n",
       "      <td>₹6,36,785  /yr</td>\n",
       "      <td>25 salaries</td>\n",
       "      <td>3.9</td>\n",
       "    </tr>\n",
       "    <tr>\n",
       "      <th>1</th>\n",
       "      <td>IBM</td>\n",
       "      <td>₹6L</td>\n",
       "      <td>₹26L</td>\n",
       "      <td>₹9,24,624  /yr</td>\n",
       "      <td>21 salaries</td>\n",
       "      <td>3.9</td>\n",
       "    </tr>\n",
       "    <tr>\n",
       "      <th>2</th>\n",
       "      <td>Accenture</td>\n",
       "      <td>₹6L</td>\n",
       "      <td>₹23L</td>\n",
       "      <td>₹12,24,104  /yr</td>\n",
       "      <td>16 salaries</td>\n",
       "      <td>4.1</td>\n",
       "    </tr>\n",
       "    <tr>\n",
       "      <th>3</th>\n",
       "      <td>Ericsson-Worldwide</td>\n",
       "      <td>₹4L</td>\n",
       "      <td>₹17L</td>\n",
       "      <td>₹7,68,525  /yr</td>\n",
       "      <td>15 salaries</td>\n",
       "      <td>4</td>\n",
       "    </tr>\n",
       "    <tr>\n",
       "      <th>4</th>\n",
       "      <td>UnitedHealth Group</td>\n",
       "      <td>₹8L</td>\n",
       "      <td>₹16L</td>\n",
       "      <td>₹12,82,880  /yr</td>\n",
       "      <td>15 salaries</td>\n",
       "      <td>3.7</td>\n",
       "    </tr>\n",
       "    <tr>\n",
       "      <th>5</th>\n",
       "      <td>Delhivery</td>\n",
       "      <td>₹5L</td>\n",
       "      <td>₹1Cr</td>\n",
       "      <td>₹12,60,805  /yr</td>\n",
       "      <td>15 salaries</td>\n",
       "      <td>3.7</td>\n",
       "    </tr>\n",
       "    <tr>\n",
       "      <th>6</th>\n",
       "      <td>EXL Service</td>\n",
       "      <td>₹6L</td>\n",
       "      <td>₹20L</td>\n",
       "      <td>₹12,53,544  /yr</td>\n",
       "      <td>11 salaries</td>\n",
       "      <td>3.6</td>\n",
       "    </tr>\n",
       "    <tr>\n",
       "      <th>7</th>\n",
       "      <td>Optum</td>\n",
       "      <td>₹8L</td>\n",
       "      <td>₹21L</td>\n",
       "      <td>₹12,70,000  /yr</td>\n",
       "      <td>11 salaries</td>\n",
       "      <td>3.7</td>\n",
       "    </tr>\n",
       "    <tr>\n",
       "      <th>8</th>\n",
       "      <td>ZS Associates</td>\n",
       "      <td>₹2L</td>\n",
       "      <td>₹22L</td>\n",
       "      <td>₹11,82,266  /yr</td>\n",
       "      <td>10 salaries</td>\n",
       "      <td>4</td>\n",
       "    </tr>\n",
       "    <tr>\n",
       "      <th>9</th>\n",
       "      <td>Optum Global Solutions</td>\n",
       "      <td>₹11L</td>\n",
       "      <td>₹18L</td>\n",
       "      <td>₹14,62,558  /yr</td>\n",
       "      <td>10 salaries</td>\n",
       "      <td>3.9</td>\n",
       "    </tr>\n",
       "  </tbody>\n",
       "</table>\n",
       "</div>"
      ],
      "text/plain": [
       "                     Company Min Salary Max Salary       Avg Salary  \\\n",
       "0  Tata Consultancy Services        ₹4L       ₹13L   ₹6,36,785  /yr   \n",
       "1                        IBM        ₹6L       ₹26L   ₹9,24,624  /yr   \n",
       "2                  Accenture        ₹6L       ₹23L  ₹12,24,104  /yr   \n",
       "3         Ericsson-Worldwide        ₹4L       ₹17L   ₹7,68,525  /yr   \n",
       "4         UnitedHealth Group        ₹8L       ₹16L  ₹12,82,880  /yr   \n",
       "5                  Delhivery        ₹5L       ₹1Cr  ₹12,60,805  /yr   \n",
       "6                EXL Service        ₹6L       ₹20L  ₹12,53,544  /yr   \n",
       "7                      Optum        ₹8L       ₹21L  ₹12,70,000  /yr   \n",
       "8              ZS Associates        ₹2L       ₹22L  ₹11,82,266  /yr   \n",
       "9     Optum Global Solutions       ₹11L       ₹18L  ₹14,62,558  /yr   \n",
       "\n",
       "  Number of Mentions Ratings  \n",
       "0        25 salaries     3.9  \n",
       "1        21 salaries     3.9  \n",
       "2        16 salaries     4.1  \n",
       "3        15 salaries       4  \n",
       "4        15 salaries     3.7  \n",
       "5        15 salaries     3.7  \n",
       "6        11 salaries     3.6  \n",
       "7        11 salaries     3.7  \n",
       "8        10 salaries       4  \n",
       "9        10 salaries     3.9  "
      ]
     },
     "execution_count": 144,
     "metadata": {},
     "output_type": "execute_result"
    }
   ],
   "source": [
    "#Viewing the dataframe\n",
    "salaries"
   ]
  },
  {
   "cell_type": "code",
   "execution_count": 275,
   "metadata": {},
   "outputs": [],
   "source": [
    "#Closing the driver\n",
    "driver.close()"
   ]
  },
  {
   "cell_type": "markdown",
   "metadata": {},
   "source": [
    "#### Q6 : Scrape data of first 100 sunglasses listings on flipkart.com. You have to scrape four attributes:\n",
    "1. Brand\n",
    "2. Product Description\n",
    "3. Price\n",
    "4. Discount %"
   ]
  },
  {
   "cell_type": "code",
   "execution_count": 276,
   "metadata": {},
   "outputs": [],
   "source": [
    "# Initializing the driver\n",
    "driver=driver=webdriver.Chrome(r'I:\\\\chromedriver_win32\\\\chromedriver.exe')\n",
    "\n",
    "#accesing the website\n",
    "driver.get('https://www.flipkart.com/')"
   ]
  },
  {
   "cell_type": "code",
   "execution_count": 277,
   "metadata": {},
   "outputs": [],
   "source": [
    "#Finding the search bar, entering text into it \n",
    "search_bar=driver.find_element_by_name('q')\n",
    "search_bar.send_keys('Sunglasses')"
   ]
  },
  {
   "cell_type": "code",
   "execution_count": 278,
   "metadata": {},
   "outputs": [],
   "source": [
    "#Clicking on the search button\n",
    "search_btn=driver.find_element_by_class_name('L0Z3Pu')\n",
    "search_btn.click()"
   ]
  },
  {
   "cell_type": "code",
   "execution_count": 279,
   "metadata": {
    "scrolled": true
   },
   "outputs": [
    {
     "data": {
      "text/plain": [
       "['VINCENT CHASE',\n",
       " 'VINCENT CHASE',\n",
       " 'PIRASO',\n",
       " 'Fastrack',\n",
       " 'PIRASO',\n",
       " 'Elligator',\n",
       " 'SHAAH COLLECTIONS',\n",
       " 'ROYAL SON',\n",
       " 'ROZZETTA CRAFT',\n",
       " 'PIRASO',\n",
       " 'New Specs',\n",
       " 'VINCENT CHASE',\n",
       " 'kingsunglasses',\n",
       " 'GANSTA',\n",
       " 'Rich Club',\n",
       " 'VINCENT CHASE',\n",
       " 'Elligator',\n",
       " 'PHENOMENAL',\n",
       " 'Fastrack',\n",
       " 'VINCENT CHASE',\n",
       " 'NuVew',\n",
       " 'Fastrack',\n",
       " 'Singco India',\n",
       " 'VINCENT CHASE',\n",
       " 'SHAAH COLLECTIONS',\n",
       " 'kingsunglasses',\n",
       " 'SHAAH COLLECTIONS',\n",
       " 'PIRASO',\n",
       " 'Fastrack',\n",
       " 'Silver Kartz',\n",
       " 'GANSTA',\n",
       " 'VINCENT CHASE',\n",
       " 'Fastrack',\n",
       " 'SUNBEE',\n",
       " 'PIRASO',\n",
       " 'VINCENT CHASE',\n",
       " 'NuVew',\n",
       " 'Fastrack',\n",
       " 'NuVew',\n",
       " 'PIRASO']"
      ]
     },
     "execution_count": 279,
     "metadata": {},
     "output_type": "execute_result"
    }
   ],
   "source": [
    "#Scraping the Brand names\n",
    "brand_tag=driver.find_elements_by_xpath(\"//div[@class='_2WkVRV']\")\n",
    "brands=[i.text for i in brand_tag]\n",
    "brands"
   ]
  },
  {
   "cell_type": "code",
   "execution_count": 280,
   "metadata": {
    "scrolled": false
   },
   "outputs": [
    {
     "data": {
      "text/plain": [
       "40"
      ]
     },
     "execution_count": 280,
     "metadata": {},
     "output_type": "execute_result"
    }
   ],
   "source": [
    "len(brands)"
   ]
  },
  {
   "cell_type": "markdown",
   "metadata": {},
   "source": [
    "we got only 40, we need 100 .. so we need to go to the next 2 pages"
   ]
  },
  {
   "cell_type": "code",
   "execution_count": 281,
   "metadata": {
    "scrolled": true
   },
   "outputs": [
    {
     "data": {
      "text/plain": [
       "['Polarized, UV Protection Wayfarer Sunglasses (57)',\n",
       " 'Polarized, UV Protection Wayfarer Sunglasses (53)',\n",
       " 'UV Protection Aviator Sunglasses (54)',\n",
       " 'UV Protection Wayfarer Sunglasses (Free Size)',\n",
       " 'UV Protection Aviator Sunglasses (54)',\n",
       " 'UV Protection Round Sunglasses (54)',\n",
       " 'UV Protection, Polarized, Mirrored Rectangular Sunglass...',\n",
       " 'Gradient, UV Protection Cat-eye, Over-sized Sunglasses ...',\n",
       " 'UV Protection Retro Square Sunglasses (Free Size)',\n",
       " 'UV Protection Aviator Sunglasses (54)',\n",
       " 'Mirrored, UV Protection, Riding Glasses, Others Round S...',\n",
       " 'Polarized, UV Protection Wayfarer Sunglasses (53)',\n",
       " 'Mirrored, UV Protection Wayfarer Sunglasses (Free Size)',\n",
       " 'UV Protection Aviator Sunglasses (57)',\n",
       " 'Polarized Round Sunglasses (48)',\n",
       " 'by Lenskart UV Protection Wayfarer Sunglasses (51)',\n",
       " 'UV Protection Round Sunglasses (55)',\n",
       " 'UV Protection Retro Square Sunglasses (Free Size)',\n",
       " 'UV Protection Aviator Sunglasses (Free Size)',\n",
       " 'UV Protection Aviator Sunglasses (Free Size)',\n",
       " 'UV Protection, Night Vision, Riding Glasses Sports Sung...',\n",
       " 'Gradient, UV Protection Wayfarer Sunglasses (Free Size)',\n",
       " 'UV Protection, Riding Glasses, Others Aviator, Wayfarer...',\n",
       " 'UV Protection Aviator Sunglasses (Free Size)',\n",
       " 'UV Protection Round Sunglasses (Free Size)',\n",
       " 'UV Protection Round Sunglasses (54)',\n",
       " 'UV Protection, Polarized, Mirrored Rectangular Sunglass...',\n",
       " 'UV Protection Aviator Sunglasses (54)',\n",
       " 'UV Protection Shield Sunglasses (Free Size)',\n",
       " 'UV Protection Oval Sunglasses (56)',\n",
       " 'UV Protection, Night Vision, Riding Glasses Aviator Sun...',\n",
       " 'UV Protection Wayfarer Sunglasses (51)',\n",
       " 'UV Protection Rectangular Sunglasses (Free Size)',\n",
       " 'UV Protection, Polarized, Mirrored Wayfarer Sunglasses ...',\n",
       " 'UV Protection Aviator Sunglasses (58)',\n",
       " 'by Lenskart UV Protection Rectangular Sunglasses (54)',\n",
       " 'UV Protection, Mirrored Aviator Sunglasses (58)',\n",
       " 'Mirrored, UV Protection Wayfarer Sunglasses (Free Size)',\n",
       " 'UV Protection Sports Sunglasses (62)',\n",
       " 'UV Protection Aviator Sunglasses (Free Size)']"
      ]
     },
     "execution_count": 281,
     "metadata": {},
     "output_type": "execute_result"
    }
   ],
   "source": [
    "#Let us scrap other details also for these 40 brands\n",
    "description_tag=driver.find_elements_by_xpath(\"//a[@class='IRpwTa']\")\n",
    "description=[i.text for i in description_tag]\n",
    "description"
   ]
  },
  {
   "cell_type": "code",
   "execution_count": 282,
   "metadata": {
    "scrolled": false
   },
   "outputs": [
    {
     "data": {
      "text/plain": [
       "['₹799',\n",
       " '₹639',\n",
       " '₹200',\n",
       " '₹758',\n",
       " '₹200',\n",
       " '₹295',\n",
       " '₹198',\n",
       " '₹559',\n",
       " '₹474',\n",
       " '₹200',\n",
       " '₹299',\n",
       " '₹799',\n",
       " '₹284',\n",
       " '₹239',\n",
       " '₹199',\n",
       " '₹999',\n",
       " '₹266',\n",
       " '₹379',\n",
       " '₹546',\n",
       " '₹999',\n",
       " '₹216',\n",
       " '₹509',\n",
       " '₹229',\n",
       " '₹999',\n",
       " '₹331',\n",
       " '₹213',\n",
       " '₹215',\n",
       " '₹200',\n",
       " '₹879',\n",
       " '₹224',\n",
       " '₹248',\n",
       " '₹943',\n",
       " '₹513',\n",
       " '₹265',\n",
       " '₹319',\n",
       " '₹639',\n",
       " '₹185',\n",
       " '₹738',\n",
       " '₹291',\n",
       " '₹279']"
      ]
     },
     "execution_count": 282,
     "metadata": {},
     "output_type": "execute_result"
    }
   ],
   "source": [
    "#Let us get the price details\n",
    "price_tag=driver.find_elements_by_xpath(\"//a[@class='_3bPFwb']/div[1]/div[1]\")\n",
    "price=[i.text for i in price_tag]\n",
    "price"
   ]
  },
  {
   "cell_type": "code",
   "execution_count": 283,
   "metadata": {
    "scrolled": false
   },
   "outputs": [
    {
     "data": {
      "text/plain": [
       "['60% off',\n",
       " '68% off',\n",
       " '87% off',\n",
       " '15% off',\n",
       " '87% off',\n",
       " '88% off',\n",
       " '88% off',\n",
       " '62% off',\n",
       " '78% off',\n",
       " '87% off',\n",
       " '81% off',\n",
       " '60% off',\n",
       " '89% off',\n",
       " '88% off',\n",
       " '60% off',\n",
       " '50% off',\n",
       " '86% off',\n",
       " '81% off',\n",
       " '31% off',\n",
       " '50% off',\n",
       " '72% off',\n",
       " '36% off',\n",
       " '67% off',\n",
       " '50% off',\n",
       " '80% off',\n",
       " '80% off',\n",
       " '78% off',\n",
       " '87% off',\n",
       " '2% off',\n",
       " '81% off',\n",
       " '87% off',\n",
       " '52% off',\n",
       " '35% off',\n",
       " '73% off',\n",
       " '87% off',\n",
       " '68% off',\n",
       " '78% off',\n",
       " '26% off',\n",
       " '76% off',\n",
       " '82% off']"
      ]
     },
     "execution_count": 283,
     "metadata": {},
     "output_type": "execute_result"
    }
   ],
   "source": [
    "#fetching the discount\n",
    "discount_tag=driver.find_elements_by_xpath(\"//a[@class='_3bPFwb']/div[1]/div[3]\")\n",
    "discount=[i.text for i in discount_tag]\n",
    "discount"
   ]
  },
  {
   "cell_type": "code",
   "execution_count": 284,
   "metadata": {
    "scrolled": true
   },
   "outputs": [
    {
     "data": {
      "text/plain": [
       "['https://www.flipkart.com/search?q=Sunglasses&otracker=search&otracker1=search&marketplace=FLIPKART&as-show=on&as=off&page=2',\n",
       " 'https://www.flipkart.com/search?q=Sunglasses&otracker=search&otracker1=search&marketplace=FLIPKART&as-show=on&as=off&page=3']"
      ]
     },
     "execution_count": 284,
     "metadata": {},
     "output_type": "execute_result"
    }
   ],
   "source": [
    "#Going to next page\n",
    "next_page=driver.find_elements_by_xpath(\"//a[@class='ge-49M']\")\n",
    "page_link=[i.get_attribute('href') for i in next_page]\n",
    "page_link=page_link[:2]\n",
    "page_link"
   ]
  },
  {
   "cell_type": "code",
   "execution_count": 285,
   "metadata": {
    "scrolled": true
   },
   "outputs": [],
   "source": [
    "for i in page_link:\n",
    "    driver.get(i)\n",
    "    time.sleep(5)\n",
    "    \n",
    "    #Fetching the brands\n",
    "    brand_tag=driver.find_elements_by_xpath(\"//div[@class='_2WkVRV']\")\n",
    "    for i in brand_tag:\n",
    "        brands.append(i.text)\n",
    "        \n",
    "    #Fetching Description\n",
    "    description_tag=driver.find_elements_by_xpath(\"//a[@class='IRpwTa']\")\n",
    "    for i in description_tag:\n",
    "        description.append(i.text)\n",
    "    \n",
    "    #Fetching the price\n",
    "    price_tag=driver.find_elements_by_xpath(\"//a[@class='_3bPFwb']/div[1]/div[1]\")\n",
    "    for i in price_tag:\n",
    "        price.append(i.text)\n",
    "        \n",
    "    #Fetching discount\n",
    "    discount_tag=driver.find_elements_by_xpath(\"//a[@class='_3bPFwb']/div[1]/div[3]\")\n",
    "    for i in discount_tag:\n",
    "        discount.append(i.text)\n",
    "        \n",
    "    "
   ]
  },
  {
   "cell_type": "code",
   "execution_count": 192,
   "metadata": {
    "scrolled": false
   },
   "outputs": [
    {
     "name": "stdout",
     "output_type": "stream",
     "text": [
      "120 120 120 118\n"
     ]
    }
   ],
   "source": [
    "print(len(brands), len(description), len(price), len(discount))"
   ]
  },
  {
   "cell_type": "code",
   "execution_count": 193,
   "metadata": {},
   "outputs": [],
   "source": [
    "#Making the data frame\n",
    "sunglasses=pd.DataFrame({})\n",
    "sunglasses['Brand']=brands[:100]\n",
    "sunglasses['Description']=description[:100]\n",
    "sunglasses['Price']=price[:100]\n",
    "sunglasses['Discount']=discount[:100]"
   ]
  },
  {
   "cell_type": "code",
   "execution_count": 194,
   "metadata": {
    "scrolled": true
   },
   "outputs": [
    {
     "data": {
      "text/html": [
       "<div>\n",
       "<style scoped>\n",
       "    .dataframe tbody tr th:only-of-type {\n",
       "        vertical-align: middle;\n",
       "    }\n",
       "\n",
       "    .dataframe tbody tr th {\n",
       "        vertical-align: top;\n",
       "    }\n",
       "\n",
       "    .dataframe thead th {\n",
       "        text-align: right;\n",
       "    }\n",
       "</style>\n",
       "<table border=\"1\" class=\"dataframe\">\n",
       "  <thead>\n",
       "    <tr style=\"text-align: right;\">\n",
       "      <th></th>\n",
       "      <th>Brand</th>\n",
       "      <th>Description</th>\n",
       "      <th>Price</th>\n",
       "      <th>Discount</th>\n",
       "    </tr>\n",
       "  </thead>\n",
       "  <tbody>\n",
       "    <tr>\n",
       "      <th>0</th>\n",
       "      <td>VINCENT CHASE</td>\n",
       "      <td>Polarized, UV Protection Wayfarer Sunglasses (57)</td>\n",
       "      <td>₹799</td>\n",
       "      <td>60% off</td>\n",
       "    </tr>\n",
       "    <tr>\n",
       "      <th>1</th>\n",
       "      <td>VINCENT CHASE</td>\n",
       "      <td>UV Protection Aviator Sunglasses (Free Size)</td>\n",
       "      <td>₹999</td>\n",
       "      <td>50% off</td>\n",
       "    </tr>\n",
       "    <tr>\n",
       "      <th>2</th>\n",
       "      <td>PIRASO</td>\n",
       "      <td>UV Protection Aviator Sunglasses (54)</td>\n",
       "      <td>₹200</td>\n",
       "      <td>87% off</td>\n",
       "    </tr>\n",
       "    <tr>\n",
       "      <th>3</th>\n",
       "      <td>Fastrack</td>\n",
       "      <td>UV Protection Wayfarer Sunglasses (Free Size)</td>\n",
       "      <td>₹758</td>\n",
       "      <td>15% off</td>\n",
       "    </tr>\n",
       "    <tr>\n",
       "      <th>4</th>\n",
       "      <td>PIRASO</td>\n",
       "      <td>UV Protection Aviator Sunglasses (54)</td>\n",
       "      <td>₹200</td>\n",
       "      <td>87% off</td>\n",
       "    </tr>\n",
       "    <tr>\n",
       "      <th>...</th>\n",
       "      <td>...</td>\n",
       "      <td>...</td>\n",
       "      <td>...</td>\n",
       "      <td>...</td>\n",
       "    </tr>\n",
       "    <tr>\n",
       "      <th>95</th>\n",
       "      <td>VINCENT CHASE</td>\n",
       "      <td>Polarized, UV Protection Wayfarer Sunglasses (57)</td>\n",
       "      <td>₹799</td>\n",
       "      <td>60% off</td>\n",
       "    </tr>\n",
       "    <tr>\n",
       "      <th>96</th>\n",
       "      <td>Rich Club</td>\n",
       "      <td>Polarized Round Sunglasses (48)</td>\n",
       "      <td>₹199</td>\n",
       "      <td>87% off</td>\n",
       "    </tr>\n",
       "    <tr>\n",
       "      <th>97</th>\n",
       "      <td>PHENOMENAL</td>\n",
       "      <td>UV Protection, Mirrored, Gradient Retro Square...</td>\n",
       "      <td>₹246</td>\n",
       "      <td>78% off</td>\n",
       "    </tr>\n",
       "    <tr>\n",
       "      <th>98</th>\n",
       "      <td>ROYAL SON</td>\n",
       "      <td>UV Protection Round Sunglasses (50)</td>\n",
       "      <td>₹319</td>\n",
       "      <td>79% off</td>\n",
       "    </tr>\n",
       "    <tr>\n",
       "      <th>99</th>\n",
       "      <td>ROZZETTA CRAFT</td>\n",
       "      <td>UV Protection, Riding Glasses Rectangular Sung...</td>\n",
       "      <td>₹449</td>\n",
       "      <td>73% off</td>\n",
       "    </tr>\n",
       "  </tbody>\n",
       "</table>\n",
       "<p>100 rows × 4 columns</p>\n",
       "</div>"
      ],
      "text/plain": [
       "             Brand                                        Description Price  \\\n",
       "0    VINCENT CHASE  Polarized, UV Protection Wayfarer Sunglasses (57)  ₹799   \n",
       "1    VINCENT CHASE       UV Protection Aviator Sunglasses (Free Size)  ₹999   \n",
       "2           PIRASO              UV Protection Aviator Sunglasses (54)  ₹200   \n",
       "3         Fastrack      UV Protection Wayfarer Sunglasses (Free Size)  ₹758   \n",
       "4           PIRASO              UV Protection Aviator Sunglasses (54)  ₹200   \n",
       "..             ...                                                ...   ...   \n",
       "95   VINCENT CHASE  Polarized, UV Protection Wayfarer Sunglasses (57)  ₹799   \n",
       "96       Rich Club                    Polarized Round Sunglasses (48)  ₹199   \n",
       "97      PHENOMENAL  UV Protection, Mirrored, Gradient Retro Square...  ₹246   \n",
       "98       ROYAL SON                UV Protection Round Sunglasses (50)  ₹319   \n",
       "99  ROZZETTA CRAFT  UV Protection, Riding Glasses Rectangular Sung...  ₹449   \n",
       "\n",
       "   Discount  \n",
       "0   60% off  \n",
       "1   50% off  \n",
       "2   87% off  \n",
       "3   15% off  \n",
       "4   87% off  \n",
       "..      ...  \n",
       "95  60% off  \n",
       "96  87% off  \n",
       "97  78% off  \n",
       "98  79% off  \n",
       "99  73% off  \n",
       "\n",
       "[100 rows x 4 columns]"
      ]
     },
     "execution_count": 194,
     "metadata": {},
     "output_type": "execute_result"
    }
   ],
   "source": [
    "#Viewing the data frame\n",
    "sunglasses"
   ]
  },
  {
   "cell_type": "code",
   "execution_count": 286,
   "metadata": {},
   "outputs": [],
   "source": [
    "#Closing the browser\n",
    "driver.close()"
   ]
  },
  {
   "cell_type": "markdown",
   "metadata": {},
   "source": [
    "#### Q7. Scrape 100 reviews data from flipkart.com for iphone11 phone. You have to go the link"
   ]
  },
  {
   "cell_type": "code",
   "execution_count": 236,
   "metadata": {},
   "outputs": [],
   "source": [
    "# Initializing the driver\n",
    "driver=driver=webdriver.Chrome(r'I:\\\\chromedriver_win32\\\\chromedriver.exe')\n",
    "\n",
    "#accesing the website\n",
    "driver.get(' https://www.flipkart.com/apple-iphone-11-black-64-gb-includesearpods-poweradapter/p/itm0f37c2240b217?pid=MOBFKCTSVZAXUHGR&lid=LSTMOBFKCTSVZAXUHGREPBFGI&marketplace.')"
   ]
  },
  {
   "cell_type": "code",
   "execution_count": 237,
   "metadata": {},
   "outputs": [],
   "source": [
    "#Going into the all reviews, finding ang clicking the link\n",
    "all_reviews=driver.find_element_by_xpath(\"//div[@class='_1AtVbE col-12-12']/div[1]/a\")\n",
    "link=all_reviews.get_attribute('href')\n",
    "driver.get(link)"
   ]
  },
  {
   "cell_type": "code",
   "execution_count": 238,
   "metadata": {
    "scrolled": true
   },
   "outputs": [
    {
     "data": {
      "text/plain": [
       "['https://www.flipkart.com/apple-iphone-11-black-64-gb-includes-earpods-power-adapter/product-reviews/itm0f37c2240b217?pid=MOBFKCTSVZAXUHGR&lid=LSTMOBFKCTSVZAXUHGREPBFGI&marketplace=FLIPKART&page=2',\n",
       " 'https://www.flipkart.com/apple-iphone-11-black-64-gb-includes-earpods-power-adapter/product-reviews/itm0f37c2240b217?pid=MOBFKCTSVZAXUHGR&lid=LSTMOBFKCTSVZAXUHGREPBFGI&marketplace=FLIPKART&page=3',\n",
       " 'https://www.flipkart.com/apple-iphone-11-black-64-gb-includes-earpods-power-adapter/product-reviews/itm0f37c2240b217?pid=MOBFKCTSVZAXUHGR&lid=LSTMOBFKCTSVZAXUHGREPBFGI&marketplace=FLIPKART&page=4',\n",
       " 'https://www.flipkart.com/apple-iphone-11-black-64-gb-includes-earpods-power-adapter/product-reviews/itm0f37c2240b217?pid=MOBFKCTSVZAXUHGR&lid=LSTMOBFKCTSVZAXUHGREPBFGI&marketplace=FLIPKART&page=5',\n",
       " 'https://www.flipkart.com/apple-iphone-11-black-64-gb-includes-earpods-power-adapter/product-reviews/itm0f37c2240b217?pid=MOBFKCTSVZAXUHGR&lid=LSTMOBFKCTSVZAXUHGREPBFGI&marketplace=FLIPKART&page=6',\n",
       " 'https://www.flipkart.com/apple-iphone-11-black-64-gb-includes-earpods-power-adapter/product-reviews/itm0f37c2240b217?pid=MOBFKCTSVZAXUHGR&lid=LSTMOBFKCTSVZAXUHGREPBFGI&marketplace=FLIPKART&page=7',\n",
       " 'https://www.flipkart.com/apple-iphone-11-black-64-gb-includes-earpods-power-adapter/product-reviews/itm0f37c2240b217?pid=MOBFKCTSVZAXUHGR&lid=LSTMOBFKCTSVZAXUHGREPBFGI&marketplace=FLIPKART&page=8',\n",
       " 'https://www.flipkart.com/apple-iphone-11-black-64-gb-includes-earpods-power-adapter/product-reviews/itm0f37c2240b217?pid=MOBFKCTSVZAXUHGR&lid=LSTMOBFKCTSVZAXUHGREPBFGI&marketplace=FLIPKART&page=9',\n",
       " 'https://www.flipkart.com/apple-iphone-11-black-64-gb-includes-earpods-power-adapter/product-reviews/itm0f37c2240b217?pid=MOBFKCTSVZAXUHGR&lid=LSTMOBFKCTSVZAXUHGREPBFGI&marketplace=FLIPKART&page=10']"
      ]
     },
     "execution_count": 238,
     "metadata": {},
     "output_type": "execute_result"
    }
   ],
   "source": [
    "#Now let us get the links of next pages\n",
    "links_page=driver.find_elements_by_xpath(\"//a[@class='ge-49M']\")\n",
    "links=[i.get_attribute('href') for i in links_page]\n",
    "links"
   ]
  },
  {
   "cell_type": "code",
   "execution_count": 239,
   "metadata": {},
   "outputs": [],
   "source": [
    "link11=link+'&page=11'\n",
    "links.append(link11)"
   ]
  },
  {
   "cell_type": "code",
   "execution_count": 240,
   "metadata": {},
   "outputs": [
    {
     "data": {
      "text/plain": [
       "['https://www.flipkart.com/apple-iphone-11-black-64-gb-includes-earpods-power-adapter/product-reviews/itm0f37c2240b217?pid=MOBFKCTSVZAXUHGR&lid=LSTMOBFKCTSVZAXUHGREPBFGI&marketplace=FLIPKART',\n",
       " 'https://www.flipkart.com/apple-iphone-11-black-64-gb-includes-earpods-power-adapter/product-reviews/itm0f37c2240b217?pid=MOBFKCTSVZAXUHGR&lid=LSTMOBFKCTSVZAXUHGREPBFGI&marketplace=FLIPKART&page=2',\n",
       " 'https://www.flipkart.com/apple-iphone-11-black-64-gb-includes-earpods-power-adapter/product-reviews/itm0f37c2240b217?pid=MOBFKCTSVZAXUHGR&lid=LSTMOBFKCTSVZAXUHGREPBFGI&marketplace=FLIPKART&page=3',\n",
       " 'https://www.flipkart.com/apple-iphone-11-black-64-gb-includes-earpods-power-adapter/product-reviews/itm0f37c2240b217?pid=MOBFKCTSVZAXUHGR&lid=LSTMOBFKCTSVZAXUHGREPBFGI&marketplace=FLIPKART&page=4',\n",
       " 'https://www.flipkart.com/apple-iphone-11-black-64-gb-includes-earpods-power-adapter/product-reviews/itm0f37c2240b217?pid=MOBFKCTSVZAXUHGR&lid=LSTMOBFKCTSVZAXUHGREPBFGI&marketplace=FLIPKART&page=5',\n",
       " 'https://www.flipkart.com/apple-iphone-11-black-64-gb-includes-earpods-power-adapter/product-reviews/itm0f37c2240b217?pid=MOBFKCTSVZAXUHGR&lid=LSTMOBFKCTSVZAXUHGREPBFGI&marketplace=FLIPKART&page=6',\n",
       " 'https://www.flipkart.com/apple-iphone-11-black-64-gb-includes-earpods-power-adapter/product-reviews/itm0f37c2240b217?pid=MOBFKCTSVZAXUHGR&lid=LSTMOBFKCTSVZAXUHGREPBFGI&marketplace=FLIPKART&page=7',\n",
       " 'https://www.flipkart.com/apple-iphone-11-black-64-gb-includes-earpods-power-adapter/product-reviews/itm0f37c2240b217?pid=MOBFKCTSVZAXUHGR&lid=LSTMOBFKCTSVZAXUHGREPBFGI&marketplace=FLIPKART&page=8',\n",
       " 'https://www.flipkart.com/apple-iphone-11-black-64-gb-includes-earpods-power-adapter/product-reviews/itm0f37c2240b217?pid=MOBFKCTSVZAXUHGR&lid=LSTMOBFKCTSVZAXUHGREPBFGI&marketplace=FLIPKART&page=9',\n",
       " 'https://www.flipkart.com/apple-iphone-11-black-64-gb-includes-earpods-power-adapter/product-reviews/itm0f37c2240b217?pid=MOBFKCTSVZAXUHGR&lid=LSTMOBFKCTSVZAXUHGREPBFGI&marketplace=FLIPKART&page=10',\n",
       " 'https://www.flipkart.com/apple-iphone-11-black-64-gb-includes-earpods-power-adapter/product-reviews/itm0f37c2240b217?pid=MOBFKCTSVZAXUHGR&lid=LSTMOBFKCTSVZAXUHGREPBFGI&marketplace=FLIPKART&page=11']"
      ]
     },
     "execution_count": 240,
     "metadata": {},
     "output_type": "execute_result"
    }
   ],
   "source": [
    "new_links=[link]\n",
    "new_links.extend(links)\n",
    "new_links"
   ]
  },
  {
   "cell_type": "code",
   "execution_count": 242,
   "metadata": {
    "scrolled": false
   },
   "outputs": [
    {
     "name": "stdout",
     "output_type": "stream",
     "text": [
      "108\n"
     ]
    },
    {
     "data": {
      "text/plain": [
       "['5',\n",
       " '5',\n",
       " '5',\n",
       " '5',\n",
       " '5',\n",
       " '5',\n",
       " '5',\n",
       " '4',\n",
       " '5',\n",
       " '5',\n",
       " '5',\n",
       " '5',\n",
       " '5',\n",
       " '5',\n",
       " '5',\n",
       " '5',\n",
       " '5',\n",
       " '5',\n",
       " '5',\n",
       " '5',\n",
       " '5',\n",
       " '5',\n",
       " '4',\n",
       " '5',\n",
       " '5',\n",
       " '5',\n",
       " '5',\n",
       " '5',\n",
       " '4',\n",
       " '5',\n",
       " '5',\n",
       " '5',\n",
       " '5',\n",
       " '5',\n",
       " '5',\n",
       " '5',\n",
       " '5',\n",
       " '4',\n",
       " '5',\n",
       " '5',\n",
       " '5',\n",
       " '5',\n",
       " '5',\n",
       " '5',\n",
       " '5',\n",
       " '5',\n",
       " '4',\n",
       " '5',\n",
       " '5',\n",
       " '5',\n",
       " '5',\n",
       " '4',\n",
       " '5',\n",
       " '5',\n",
       " '5',\n",
       " '5',\n",
       " '5',\n",
       " '5',\n",
       " '5',\n",
       " '5',\n",
       " '5',\n",
       " '5',\n",
       " '5',\n",
       " '4',\n",
       " '5',\n",
       " '5',\n",
       " '5',\n",
       " '4',\n",
       " '5',\n",
       " '5',\n",
       " '5',\n",
       " '4',\n",
       " '5',\n",
       " '5',\n",
       " '5',\n",
       " '5',\n",
       " '5',\n",
       " '5',\n",
       " '4',\n",
       " '5',\n",
       " '5',\n",
       " '5',\n",
       " '5',\n",
       " '4',\n",
       " '5',\n",
       " '5',\n",
       " '5',\n",
       " '5',\n",
       " '5',\n",
       " '5',\n",
       " '5',\n",
       " '5',\n",
       " '5',\n",
       " '5',\n",
       " '5',\n",
       " '3',\n",
       " '5',\n",
       " '5',\n",
       " '5',\n",
       " '5',\n",
       " '4',\n",
       " '5',\n",
       " '4',\n",
       " '5',\n",
       " '4',\n",
       " '5',\n",
       " '3',\n",
       " '5']"
      ]
     },
     "execution_count": 242,
     "metadata": {},
     "output_type": "execute_result"
    }
   ],
   "source": [
    "ratings=[]\n",
    "for i in new_links:\n",
    "    driver.get(i)\n",
    "    time.sleep(3)\n",
    "    #Fetching the ratings\n",
    "    try:\n",
    "        ratings_tag=driver.find_elements_by_xpath(\"//div[@class='_3LWZlK _1BLPMq']\")\n",
    "        for j in ratings_tag:\n",
    "            ratings.append(j.text)\n",
    "    except:\n",
    "        ratings.append('-')\n",
    "print(len(ratings))\n",
    "ratings"
   ]
  },
  {
   "cell_type": "code",
   "execution_count": null,
   "metadata": {},
   "outputs": [],
   "source": []
  },
  {
   "cell_type": "code",
   "execution_count": 244,
   "metadata": {},
   "outputs": [
    {
     "name": "stdout",
     "output_type": "stream",
     "text": [
      "110\n"
     ]
    },
    {
     "data": {
      "text/plain": [
       "['Brilliant',\n",
       " 'Simply awesome',\n",
       " 'Perfect product!',\n",
       " 'Fabulous!',\n",
       " 'Best in the market!',\n",
       " 'Worth every penny',\n",
       " 'Great product',\n",
       " 'Good choice',\n",
       " 'Highly recommended',\n",
       " 'Worth every penny',\n",
       " 'Highly recommended',\n",
       " 'Perfect product!',\n",
       " 'Perfect product!',\n",
       " 'Classy product',\n",
       " 'Worth every penny',\n",
       " 'Perfect product!',\n",
       " 'Highly recommended',\n",
       " 'Simply awesome',\n",
       " 'Worth every penny',\n",
       " 'Worth every penny',\n",
       " 'Terrific',\n",
       " 'Wonderful',\n",
       " 'Nice product',\n",
       " 'Perfect product!',\n",
       " 'Classy product',\n",
       " 'Brilliant',\n",
       " 'Must buy!',\n",
       " 'Wonderful',\n",
       " 'Good choice',\n",
       " 'Perfect product!',\n",
       " 'Terrific purchase',\n",
       " 'Simply awesome',\n",
       " 'Great product',\n",
       " 'Mind-blowing purchase',\n",
       " 'Terrific purchase',\n",
       " 'Excellent',\n",
       " 'Simply awesome',\n",
       " 'Good quality product',\n",
       " 'Very poor',\n",
       " 'Classy product',\n",
       " 'Perfect product!',\n",
       " 'Must buy!',\n",
       " 'Fabulous!',\n",
       " 'Mind-blowing purchase',\n",
       " 'Mind-blowing purchase',\n",
       " 'Wonderful',\n",
       " 'Great product',\n",
       " 'Very Good',\n",
       " 'Classy product',\n",
       " 'Perfect product!',\n",
       " 'Just wow!',\n",
       " 'Awesome',\n",
       " 'Pretty good',\n",
       " 'Terrific purchase',\n",
       " 'Awesome',\n",
       " 'Classy product',\n",
       " 'Brilliant',\n",
       " 'Terrific',\n",
       " 'Perfect product!',\n",
       " 'Awesome',\n",
       " 'Perfect product!',\n",
       " 'Very poor',\n",
       " 'Fabulous!',\n",
       " 'Excellent',\n",
       " 'Must buy!',\n",
       " 'Value-for-money',\n",
       " 'Best in the market!',\n",
       " 'Brilliant',\n",
       " 'Terrific purchase',\n",
       " 'Good quality product',\n",
       " 'Best in the market!',\n",
       " 'Perfect product!',\n",
       " 'Awesome',\n",
       " 'Value-for-money',\n",
       " 'Just wow!',\n",
       " 'Super!',\n",
       " 'Classy product',\n",
       " 'Must buy!',\n",
       " 'Highly recommended',\n",
       " 'Excellent',\n",
       " 'Nice product',\n",
       " 'Mind-blowing purchase',\n",
       " 'Terrific',\n",
       " 'Excellent',\n",
       " 'Mind-blowing purchase',\n",
       " 'Pretty good',\n",
       " 'Fabulous!',\n",
       " 'Wonderful',\n",
       " 'Wonderful',\n",
       " 'Worth every penny',\n",
       " 'Fabulous!',\n",
       " 'Mind-blowing purchase',\n",
       " 'Excellent',\n",
       " 'Super!',\n",
       " 'Just wow!',\n",
       " 'Terrific purchase',\n",
       " 'Awesome',\n",
       " 'Decent product',\n",
       " 'Awesome',\n",
       " 'Brilliant',\n",
       " 'Classy product',\n",
       " 'Must buy!',\n",
       " 'Wonderful',\n",
       " 'Mind-blowing purchase',\n",
       " 'Good quality product',\n",
       " 'Fabulous!',\n",
       " 'Good quality product',\n",
       " 'Worth every penny',\n",
       " 'Does the job',\n",
       " 'Excellent']"
      ]
     },
     "execution_count": 244,
     "metadata": {},
     "output_type": "execute_result"
    }
   ],
   "source": [
    "#Fetching the brief reviews\n",
    "review=[]\n",
    "for i in new_links:\n",
    "    driver.get(i)\n",
    "    time.sleep(3)\n",
    "    #Fetching brie review\n",
    "    review_tag=driver.find_elements_by_xpath(\"//p[@class='_2-N8zT']\")\n",
    "    for i in review_tag:\n",
    "        review.append(i.text)\n",
    "print(len(review))\n",
    "review"
   ]
  },
  {
   "cell_type": "code",
   "execution_count": 245,
   "metadata": {
    "scrolled": false
   },
   "outputs": [
    {
     "name": "stdout",
     "output_type": "stream",
     "text": [
      "110\n"
     ]
    },
    {
     "data": {
      "text/plain": [
       "['I got this phone for good price hence 5 star for it , and over quality is good because the price to buy iphone was worth at 41000',\n",
       " \"Camera is excellent just lack of telephoto mode frankly dose not needed either night mode is just 🙏🙏 12 12 12 mp (2back 1 front) camera lover just don't miss the deal\\nDisplay lcd but feel like super amoled\\nAt46999 with no cost EMI just a best deal\",\n",
       " \"I genuinely liked it. One of the best mobile phones I have used. It's sho smooth and it's security is very astonishing. Plus it has a very good camera quality. so overall it's a win win.\",\n",
       " 'Flipkart honoured on time delivery, I have used 6s , now I have upgraded apple 11 . Really great experience for new iPhone. Thank you apple and flipkart.',\n",
       " 'Awesome camera, smooth and fast UI, display is great (though not LED) but the black area at the top could have been reduced. Battery remains a day even if used heavily. Charger in the box is ok, but 12 or 18W could have been nothing like anything. Overall an excellent product and comfortable to use. I have got it almost a month back and so far so good.',\n",
       " 'Good product nice experience with Flipkart but I am unhappy with the packaging part because such a valuable product comes under normal cover without any additional wrapping and that too for Plus customers. Expecting good Packaging in future from Sellers.',\n",
       " 'I was torn between the oneplus 8 pro and the iphone 11. I had to shell out extra money for this, but I say if you can afford it, this truely is the best package.\\nMind blowing camera, battery and overall performance. Face Id works like magic even in complete darkness without firing up the screen brightness. The phones with in display fingerprint scanners do this at night time and it really burns your eyes.\\nI wanted the oneplus for its display but tbh the OLEDs on oneplus is really bad. Flick...\\nREAD MORE',\n",
       " 'iPhone is delivered on time. Display is great u won’t feel that it’s a hd panel. Quality is excellent. Sounds is great it has stereo setup. Camera is good. iOS 14.2 comes in the box. U roughly get 113 gb free if u buy 128 gb. This is my second iPhone and i love it. Value for money.',\n",
       " \"phone is good but in display is 720p lcd in this price range we can get full hd OLED displays with higher refresh rate processor is very good camera is nice but looks kind of oldish in front of todays phone also there's no charging in box had to buy it seperately\",\n",
       " 'Seller - SuperComNet ( my trust in you has grown deeper. Thanks for the genuine product )\\nThe package came packed perfectly. The box was sealed which gave me a big relief.\\n\\nApple needs no introduction since its the dominant market player. I just love the way how IPhone 11 stands out so boldly. The moment I took it out from the box, I could feel the premium intensity. The body is remarkable and crafted for giving you a elite vibe.\\n\\nCamera is to die for. There is no other phone that can beat...\\nREAD MORE',\n",
       " 'I got this phone for good price hence 5 star for it , and over quality is good because the price to buy iphone was worth at 41000',\n",
       " \"Camera is excellent just lack of telephoto mode frankly dose not needed either night mode is just 🙏🙏 12 12 12 mp (2back 1 front) camera lover just don't miss the deal\\nDisplay lcd but feel like super amoled\\nAt46999 with no cost EMI just a best deal\",\n",
       " \"I genuinely liked it. One of the best mobile phones I have used. It's sho smooth and it's security is very astonishing. Plus it has a very good camera quality. so overall it's a win win.\",\n",
       " 'Flipkart honoured on time delivery, I have used 6s , now I have upgraded apple 11 . Really great experience for new iPhone. Thank you apple and flipkart.',\n",
       " 'Awesome camera, smooth and fast UI, display is great (though not LED) but the black area at the top could have been reduced. Battery remains a day even if used heavily. Charger in the box is ok, but 12 or 18W could have been nothing like anything. Overall an excellent product and comfortable to use. I have got it almost a month back and so far so good.',\n",
       " 'Good product nice experience with Flipkart but I am unhappy with the packaging part because such a valuable product comes under normal cover without any additional wrapping and that too for Plus customers. Expecting good Packaging in future from Sellers.',\n",
       " 'I was torn between the oneplus 8 pro and the iphone 11. I had to shell out extra money for this, but I say if you can afford it, this truely is the best package.\\nMind blowing camera, battery and overall performance. Face Id works like magic even in complete darkness without firing up the screen brightness. The phones with in display fingerprint scanners do this at night time and it really burns your eyes.\\nI wanted the oneplus for its display but tbh the OLEDs on oneplus is really bad. Flick...\\nREAD MORE',\n",
       " 'iPhone is delivered on time. Display is great u won’t feel that it’s a hd panel. Quality is excellent. Sounds is great it has stereo setup. Camera is good. iOS 14.2 comes in the box. U roughly get 113 gb free if u buy 128 gb. This is my second iPhone and i love it. Value for money.',\n",
       " \"phone is good but in display is 720p lcd in this price range we can get full hd OLED displays with higher refresh rate processor is very good camera is nice but looks kind of oldish in front of todays phone also there's no charging in box had to buy it seperately\",\n",
       " 'Seller - SuperComNet ( my trust in you has grown deeper. Thanks for the genuine product )\\nThe package came packed perfectly. The box was sealed which gave me a big relief.\\n\\nApple needs no introduction since its the dominant market player. I just love the way how IPhone 11 stands out so boldly. The moment I took it out from the box, I could feel the premium intensity. The body is remarkable and crafted for giving you a elite vibe.\\n\\nCamera is to die for. There is no other phone that can beat...\\nREAD MORE',\n",
       " 'I got this phone for good price hence 5 star for it , and over quality is good because the price to buy iphone was worth at 41000',\n",
       " \"Camera is excellent just lack of telephoto mode frankly dose not needed either night mode is just 🙏🙏 12 12 12 mp (2back 1 front) camera lover just don't miss the deal\\nDisplay lcd but feel like super amoled\\nAt46999 with no cost EMI just a best deal\",\n",
       " \"I genuinely liked it. One of the best mobile phones I have used. It's sho smooth and it's security is very astonishing. Plus it has a very good camera quality. so overall it's a win win.\",\n",
       " 'Flipkart honoured on time delivery, I have used 6s , now I have upgraded apple 11 . Really great experience for new iPhone. Thank you apple and flipkart.',\n",
       " 'Awesome camera, smooth and fast UI, display is great (though not LED) but the black area at the top could have been reduced. Battery remains a day even if used heavily. Charger in the box is ok, but 12 or 18W could have been nothing like anything. Overall an excellent product and comfortable to use. I have got it almost a month back and so far so good.',\n",
       " 'Good product nice experience with Flipkart but I am unhappy with the packaging part because such a valuable product comes under normal cover without any additional wrapping and that too for Plus customers. Expecting good Packaging in future from Sellers.',\n",
       " 'I was torn between the oneplus 8 pro and the iphone 11. I had to shell out extra money for this, but I say if you can afford it, this truely is the best package.\\nMind blowing camera, battery and overall performance. Face Id works like magic even in complete darkness without firing up the screen brightness. The phones with in display fingerprint scanners do this at night time and it really burns your eyes.\\nI wanted the oneplus for its display but tbh the OLEDs on oneplus is really bad. Flick...\\nREAD MORE',\n",
       " 'iPhone is delivered on time. Display is great u won’t feel that it’s a hd panel. Quality is excellent. Sounds is great it has stereo setup. Camera is good. iOS 14.2 comes in the box. U roughly get 113 gb free if u buy 128 gb. This is my second iPhone and i love it. Value for money.',\n",
       " \"phone is good but in display is 720p lcd in this price range we can get full hd OLED displays with higher refresh rate processor is very good camera is nice but looks kind of oldish in front of todays phone also there's no charging in box had to buy it seperately\",\n",
       " 'Seller - SuperComNet ( my trust in you has grown deeper. Thanks for the genuine product )\\nThe package came packed perfectly. The box was sealed which gave me a big relief.\\n\\nApple needs no introduction since its the dominant market player. I just love the way how IPhone 11 stands out so boldly. The moment I took it out from the box, I could feel the premium intensity. The body is remarkable and crafted for giving you a elite vibe.\\n\\nCamera is to die for. There is no other phone that can beat...\\nREAD MORE',\n",
       " 'I got this phone for good price hence 5 star for it , and over quality is good because the price to buy iphone was worth at 41000',\n",
       " \"Camera is excellent just lack of telephoto mode frankly dose not needed either night mode is just 🙏🙏 12 12 12 mp (2back 1 front) camera lover just don't miss the deal\\nDisplay lcd but feel like super amoled\\nAt46999 with no cost EMI just a best deal\",\n",
       " \"I genuinely liked it. One of the best mobile phones I have used. It's sho smooth and it's security is very astonishing. Plus it has a very good camera quality. so overall it's a win win.\",\n",
       " 'Flipkart honoured on time delivery, I have used 6s , now I have upgraded apple 11 . Really great experience for new iPhone. Thank you apple and flipkart.',\n",
       " 'Awesome camera, smooth and fast UI, display is great (though not LED) but the black area at the top could have been reduced. Battery remains a day even if used heavily. Charger in the box is ok, but 12 or 18W could have been nothing like anything. Overall an excellent product and comfortable to use. I have got it almost a month back and so far so good.',\n",
       " 'Good product nice experience with Flipkart but I am unhappy with the packaging part because such a valuable product comes under normal cover without any additional wrapping and that too for Plus customers. Expecting good Packaging in future from Sellers.',\n",
       " 'I was torn between the oneplus 8 pro and the iphone 11. I had to shell out extra money for this, but I say if you can afford it, this truely is the best package.\\nMind blowing camera, battery and overall performance. Face Id works like magic even in complete darkness without firing up the screen brightness. The phones with in display fingerprint scanners do this at night time and it really burns your eyes.\\nI wanted the oneplus for its display but tbh the OLEDs on oneplus is really bad. Flick...\\nREAD MORE',\n",
       " 'iPhone is delivered on time. Display is great u won’t feel that it’s a hd panel. Quality is excellent. Sounds is great it has stereo setup. Camera is good. iOS 14.2 comes in the box. U roughly get 113 gb free if u buy 128 gb. This is my second iPhone and i love it. Value for money.',\n",
       " \"phone is good but in display is 720p lcd in this price range we can get full hd OLED displays with higher refresh rate processor is very good camera is nice but looks kind of oldish in front of todays phone also there's no charging in box had to buy it seperately\",\n",
       " 'Seller - SuperComNet ( my trust in you has grown deeper. Thanks for the genuine product )\\nThe package came packed perfectly. The box was sealed which gave me a big relief.\\n\\nApple needs no introduction since its the dominant market player. I just love the way how IPhone 11 stands out so boldly. The moment I took it out from the box, I could feel the premium intensity. The body is remarkable and crafted for giving you a elite vibe.\\n\\nCamera is to die for. There is no other phone that can beat...\\nREAD MORE',\n",
       " 'I got this phone for good price hence 5 star for it , and over quality is good because the price to buy iphone was worth at 41000',\n",
       " \"Camera is excellent just lack of telephoto mode frankly dose not needed either night mode is just 🙏🙏 12 12 12 mp (2back 1 front) camera lover just don't miss the deal\\nDisplay lcd but feel like super amoled\\nAt46999 with no cost EMI just a best deal\",\n",
       " \"I genuinely liked it. One of the best mobile phones I have used. It's sho smooth and it's security is very astonishing. Plus it has a very good camera quality. so overall it's a win win.\",\n",
       " 'Flipkart honoured on time delivery, I have used 6s , now I have upgraded apple 11 . Really great experience for new iPhone. Thank you apple and flipkart.',\n",
       " 'Awesome camera, smooth and fast UI, display is great (though not LED) but the black area at the top could have been reduced. Battery remains a day even if used heavily. Charger in the box is ok, but 12 or 18W could have been nothing like anything. Overall an excellent product and comfortable to use. I have got it almost a month back and so far so good.',\n",
       " 'Good product nice experience with Flipkart but I am unhappy with the packaging part because such a valuable product comes under normal cover without any additional wrapping and that too for Plus customers. Expecting good Packaging in future from Sellers.',\n",
       " 'I was torn between the oneplus 8 pro and the iphone 11. I had to shell out extra money for this, but I say if you can afford it, this truely is the best package.\\nMind blowing camera, battery and overall performance. Face Id works like magic even in complete darkness without firing up the screen brightness. The phones with in display fingerprint scanners do this at night time and it really burns your eyes.\\nI wanted the oneplus for its display but tbh the OLEDs on oneplus is really bad. Flick...\\nREAD MORE',\n",
       " 'iPhone is delivered on time. Display is great u won’t feel that it’s a hd panel. Quality is excellent. Sounds is great it has stereo setup. Camera is good. iOS 14.2 comes in the box. U roughly get 113 gb free if u buy 128 gb. This is my second iPhone and i love it. Value for money.',\n",
       " \"phone is good but in display is 720p lcd in this price range we can get full hd OLED displays with higher refresh rate processor is very good camera is nice but looks kind of oldish in front of todays phone also there's no charging in box had to buy it seperately\",\n",
       " 'Seller - SuperComNet ( my trust in you has grown deeper. Thanks for the genuine product )\\nThe package came packed perfectly. The box was sealed which gave me a big relief.\\n\\nApple needs no introduction since its the dominant market player. I just love the way how IPhone 11 stands out so boldly. The moment I took it out from the box, I could feel the premium intensity. The body is remarkable and crafted for giving you a elite vibe.\\n\\nCamera is to die for. There is no other phone that can beat...\\nREAD MORE',\n",
       " 'I got this phone for good price hence 5 star for it , and over quality is good because the price to buy iphone was worth at 41000',\n",
       " \"Camera is excellent just lack of telephoto mode frankly dose not needed either night mode is just 🙏🙏 12 12 12 mp (2back 1 front) camera lover just don't miss the deal\\nDisplay lcd but feel like super amoled\\nAt46999 with no cost EMI just a best deal\",\n",
       " \"I genuinely liked it. One of the best mobile phones I have used. It's sho smooth and it's security is very astonishing. Plus it has a very good camera quality. so overall it's a win win.\",\n",
       " 'Flipkart honoured on time delivery, I have used 6s , now I have upgraded apple 11 . Really great experience for new iPhone. Thank you apple and flipkart.',\n",
       " 'Awesome camera, smooth and fast UI, display is great (though not LED) but the black area at the top could have been reduced. Battery remains a day even if used heavily. Charger in the box is ok, but 12 or 18W could have been nothing like anything. Overall an excellent product and comfortable to use. I have got it almost a month back and so far so good.',\n",
       " 'Good product nice experience with Flipkart but I am unhappy with the packaging part because such a valuable product comes under normal cover without any additional wrapping and that too for Plus customers. Expecting good Packaging in future from Sellers.',\n",
       " 'I was torn between the oneplus 8 pro and the iphone 11. I had to shell out extra money for this, but I say if you can afford it, this truely is the best package.\\nMind blowing camera, battery and overall performance. Face Id works like magic even in complete darkness without firing up the screen brightness. The phones with in display fingerprint scanners do this at night time and it really burns your eyes.\\nI wanted the oneplus for its display but tbh the OLEDs on oneplus is really bad. Flick...\\nREAD MORE',\n",
       " 'iPhone is delivered on time. Display is great u won’t feel that it’s a hd panel. Quality is excellent. Sounds is great it has stereo setup. Camera is good. iOS 14.2 comes in the box. U roughly get 113 gb free if u buy 128 gb. This is my second iPhone and i love it. Value for money.',\n",
       " \"phone is good but in display is 720p lcd in this price range we can get full hd OLED displays with higher refresh rate processor is very good camera is nice but looks kind of oldish in front of todays phone also there's no charging in box had to buy it seperately\",\n",
       " 'Seller - SuperComNet ( my trust in you has grown deeper. Thanks for the genuine product )\\nThe package came packed perfectly. The box was sealed which gave me a big relief.\\n\\nApple needs no introduction since its the dominant market player. I just love the way how IPhone 11 stands out so boldly. The moment I took it out from the box, I could feel the premium intensity. The body is remarkable and crafted for giving you a elite vibe.\\n\\nCamera is to die for. There is no other phone that can beat...\\nREAD MORE',\n",
       " 'I got this phone for good price hence 5 star for it , and over quality is good because the price to buy iphone was worth at 41000',\n",
       " \"Camera is excellent just lack of telephoto mode frankly dose not needed either night mode is just 🙏🙏 12 12 12 mp (2back 1 front) camera lover just don't miss the deal\\nDisplay lcd but feel like super amoled\\nAt46999 with no cost EMI just a best deal\",\n",
       " \"I genuinely liked it. One of the best mobile phones I have used. It's sho smooth and it's security is very astonishing. Plus it has a very good camera quality. so overall it's a win win.\",\n",
       " 'Flipkart honoured on time delivery, I have used 6s , now I have upgraded apple 11 . Really great experience for new iPhone. Thank you apple and flipkart.',\n",
       " 'Awesome camera, smooth and fast UI, display is great (though not LED) but the black area at the top could have been reduced. Battery remains a day even if used heavily. Charger in the box is ok, but 12 or 18W could have been nothing like anything. Overall an excellent product and comfortable to use. I have got it almost a month back and so far so good.',\n",
       " 'Good product nice experience with Flipkart but I am unhappy with the packaging part because such a valuable product comes under normal cover without any additional wrapping and that too for Plus customers. Expecting good Packaging in future from Sellers.',\n",
       " 'I was torn between the oneplus 8 pro and the iphone 11. I had to shell out extra money for this, but I say if you can afford it, this truely is the best package.\\nMind blowing camera, battery and overall performance. Face Id works like magic even in complete darkness without firing up the screen brightness. The phones with in display fingerprint scanners do this at night time and it really burns your eyes.\\nI wanted the oneplus for its display but tbh the OLEDs on oneplus is really bad. Flick...\\nREAD MORE',\n",
       " 'iPhone is delivered on time. Display is great u won’t feel that it’s a hd panel. Quality is excellent. Sounds is great it has stereo setup. Camera is good. iOS 14.2 comes in the box. U roughly get 113 gb free if u buy 128 gb. This is my second iPhone and i love it. Value for money.',\n",
       " \"phone is good but in display is 720p lcd in this price range we can get full hd OLED displays with higher refresh rate processor is very good camera is nice but looks kind of oldish in front of todays phone also there's no charging in box had to buy it seperately\",\n",
       " 'Seller - SuperComNet ( my trust in you has grown deeper. Thanks for the genuine product )\\nThe package came packed perfectly. The box was sealed which gave me a big relief.\\n\\nApple needs no introduction since its the dominant market player. I just love the way how IPhone 11 stands out so boldly. The moment I took it out from the box, I could feel the premium intensity. The body is remarkable and crafted for giving you a elite vibe.\\n\\nCamera is to die for. There is no other phone that can beat...\\nREAD MORE',\n",
       " 'I got this phone for good price hence 5 star for it , and over quality is good because the price to buy iphone was worth at 41000',\n",
       " \"Camera is excellent just lack of telephoto mode frankly dose not needed either night mode is just 🙏🙏 12 12 12 mp (2back 1 front) camera lover just don't miss the deal\\nDisplay lcd but feel like super amoled\\nAt46999 with no cost EMI just a best deal\",\n",
       " \"I genuinely liked it. One of the best mobile phones I have used. It's sho smooth and it's security is very astonishing. Plus it has a very good camera quality. so overall it's a win win.\",\n",
       " 'Flipkart honoured on time delivery, I have used 6s , now I have upgraded apple 11 . Really great experience for new iPhone. Thank you apple and flipkart.',\n",
       " 'Awesome camera, smooth and fast UI, display is great (though not LED) but the black area at the top could have been reduced. Battery remains a day even if used heavily. Charger in the box is ok, but 12 or 18W could have been nothing like anything. Overall an excellent product and comfortable to use. I have got it almost a month back and so far so good.',\n",
       " 'Good product nice experience with Flipkart but I am unhappy with the packaging part because such a valuable product comes under normal cover without any additional wrapping and that too for Plus customers. Expecting good Packaging in future from Sellers.',\n",
       " 'I was torn between the oneplus 8 pro and the iphone 11. I had to shell out extra money for this, but I say if you can afford it, this truely is the best package.\\nMind blowing camera, battery and overall performance. Face Id works like magic even in complete darkness without firing up the screen brightness. The phones with in display fingerprint scanners do this at night time and it really burns your eyes.\\nI wanted the oneplus for its display but tbh the OLEDs on oneplus is really bad. Flick...\\nREAD MORE',\n",
       " 'iPhone is delivered on time. Display is great u won’t feel that it’s a hd panel. Quality is excellent. Sounds is great it has stereo setup. Camera is good. iOS 14.2 comes in the box. U roughly get 113 gb free if u buy 128 gb. This is my second iPhone and i love it. Value for money.',\n",
       " \"phone is good but in display is 720p lcd in this price range we can get full hd OLED displays with higher refresh rate processor is very good camera is nice but looks kind of oldish in front of todays phone also there's no charging in box had to buy it seperately\",\n",
       " 'Seller - SuperComNet ( my trust in you has grown deeper. Thanks for the genuine product )\\nThe package came packed perfectly. The box was sealed which gave me a big relief.\\n\\nApple needs no introduction since its the dominant market player. I just love the way how IPhone 11 stands out so boldly. The moment I took it out from the box, I could feel the premium intensity. The body is remarkable and crafted for giving you a elite vibe.\\n\\nCamera is to die for. There is no other phone that can beat...\\nREAD MORE',\n",
       " 'I got this phone for good price hence 5 star for it , and over quality is good because the price to buy iphone was worth at 41000',\n",
       " \"Camera is excellent just lack of telephoto mode frankly dose not needed either night mode is just 🙏🙏 12 12 12 mp (2back 1 front) camera lover just don't miss the deal\\nDisplay lcd but feel like super amoled\\nAt46999 with no cost EMI just a best deal\",\n",
       " \"I genuinely liked it. One of the best mobile phones I have used. It's sho smooth and it's security is very astonishing. Plus it has a very good camera quality. so overall it's a win win.\",\n",
       " 'Flipkart honoured on time delivery, I have used 6s , now I have upgraded apple 11 . Really great experience for new iPhone. Thank you apple and flipkart.',\n",
       " 'Awesome camera, smooth and fast UI, display is great (though not LED) but the black area at the top could have been reduced. Battery remains a day even if used heavily. Charger in the box is ok, but 12 or 18W could have been nothing like anything. Overall an excellent product and comfortable to use. I have got it almost a month back and so far so good.',\n",
       " 'Good product nice experience with Flipkart but I am unhappy with the packaging part because such a valuable product comes under normal cover without any additional wrapping and that too for Plus customers. Expecting good Packaging in future from Sellers.',\n",
       " 'I was torn between the oneplus 8 pro and the iphone 11. I had to shell out extra money for this, but I say if you can afford it, this truely is the best package.\\nMind blowing camera, battery and overall performance. Face Id works like magic even in complete darkness without firing up the screen brightness. The phones with in display fingerprint scanners do this at night time and it really burns your eyes.\\nI wanted the oneplus for its display but tbh the OLEDs on oneplus is really bad. Flick...\\nREAD MORE',\n",
       " 'iPhone is delivered on time. Display is great u won’t feel that it’s a hd panel. Quality is excellent. Sounds is great it has stereo setup. Camera is good. iOS 14.2 comes in the box. U roughly get 113 gb free if u buy 128 gb. This is my second iPhone and i love it. Value for money.',\n",
       " \"phone is good but in display is 720p lcd in this price range we can get full hd OLED displays with higher refresh rate processor is very good camera is nice but looks kind of oldish in front of todays phone also there's no charging in box had to buy it seperately\",\n",
       " 'Seller - SuperComNet ( my trust in you has grown deeper. Thanks for the genuine product )\\nThe package came packed perfectly. The box was sealed which gave me a big relief.\\n\\nApple needs no introduction since its the dominant market player. I just love the way how IPhone 11 stands out so boldly. The moment I took it out from the box, I could feel the premium intensity. The body is remarkable and crafted for giving you a elite vibe.\\n\\nCamera is to die for. There is no other phone that can beat...\\nREAD MORE',\n",
       " 'I got this phone for good price hence 5 star for it , and over quality is good because the price to buy iphone was worth at 41000',\n",
       " \"Camera is excellent just lack of telephoto mode frankly dose not needed either night mode is just 🙏🙏 12 12 12 mp (2back 1 front) camera lover just don't miss the deal\\nDisplay lcd but feel like super amoled\\nAt46999 with no cost EMI just a best deal\",\n",
       " \"I genuinely liked it. One of the best mobile phones I have used. It's sho smooth and it's security is very astonishing. Plus it has a very good camera quality. so overall it's a win win.\",\n",
       " 'Flipkart honoured on time delivery, I have used 6s , now I have upgraded apple 11 . Really great experience for new iPhone. Thank you apple and flipkart.',\n",
       " 'Awesome camera, smooth and fast UI, display is great (though not LED) but the black area at the top could have been reduced. Battery remains a day even if used heavily. Charger in the box is ok, but 12 or 18W could have been nothing like anything. Overall an excellent product and comfortable to use. I have got it almost a month back and so far so good.',\n",
       " 'Good product nice experience with Flipkart but I am unhappy with the packaging part because such a valuable product comes under normal cover without any additional wrapping and that too for Plus customers. Expecting good Packaging in future from Sellers.',\n",
       " 'I was torn between the oneplus 8 pro and the iphone 11. I had to shell out extra money for this, but I say if you can afford it, this truely is the best package.\\nMind blowing camera, battery and overall performance. Face Id works like magic even in complete darkness without firing up the screen brightness. The phones with in display fingerprint scanners do this at night time and it really burns your eyes.\\nI wanted the oneplus for its display but tbh the OLEDs on oneplus is really bad. Flick...\\nREAD MORE',\n",
       " 'iPhone is delivered on time. Display is great u won’t feel that it’s a hd panel. Quality is excellent. Sounds is great it has stereo setup. Camera is good. iOS 14.2 comes in the box. U roughly get 113 gb free if u buy 128 gb. This is my second iPhone and i love it. Value for money.',\n",
       " \"phone is good but in display is 720p lcd in this price range we can get full hd OLED displays with higher refresh rate processor is very good camera is nice but looks kind of oldish in front of todays phone also there's no charging in box had to buy it seperately\",\n",
       " 'Seller - SuperComNet ( my trust in you has grown deeper. Thanks for the genuine product )\\nThe package came packed perfectly. The box was sealed which gave me a big relief.\\n\\nApple needs no introduction since its the dominant market player. I just love the way how IPhone 11 stands out so boldly. The moment I took it out from the box, I could feel the premium intensity. The body is remarkable and crafted for giving you a elite vibe.\\n\\nCamera is to die for. There is no other phone that can beat...\\nREAD MORE',\n",
       " 'I got this phone for good price hence 5 star for it , and over quality is good because the price to buy iphone was worth at 41000',\n",
       " \"Camera is excellent just lack of telephoto mode frankly dose not needed either night mode is just 🙏🙏 12 12 12 mp (2back 1 front) camera lover just don't miss the deal\\nDisplay lcd but feel like super amoled\\nAt46999 with no cost EMI just a best deal\",\n",
       " \"I genuinely liked it. One of the best mobile phones I have used. It's sho smooth and it's security is very astonishing. Plus it has a very good camera quality. so overall it's a win win.\",\n",
       " 'Flipkart honoured on time delivery, I have used 6s , now I have upgraded apple 11 . Really great experience for new iPhone. Thank you apple and flipkart.',\n",
       " 'Awesome camera, smooth and fast UI, display is great (though not LED) but the black area at the top could have been reduced. Battery remains a day even if used heavily. Charger in the box is ok, but 12 or 18W could have been nothing like anything. Overall an excellent product and comfortable to use. I have got it almost a month back and so far so good.',\n",
       " 'Good product nice experience with Flipkart but I am unhappy with the packaging part because such a valuable product comes under normal cover without any additional wrapping and that too for Plus customers. Expecting good Packaging in future from Sellers.',\n",
       " 'I was torn between the oneplus 8 pro and the iphone 11. I had to shell out extra money for this, but I say if you can afford it, this truely is the best package.\\nMind blowing camera, battery and overall performance. Face Id works like magic even in complete darkness without firing up the screen brightness. The phones with in display fingerprint scanners do this at night time and it really burns your eyes.\\nI wanted the oneplus for its display but tbh the OLEDs on oneplus is really bad. Flick...\\nREAD MORE',\n",
       " 'iPhone is delivered on time. Display is great u won’t feel that it’s a hd panel. Quality is excellent. Sounds is great it has stereo setup. Camera is good. iOS 14.2 comes in the box. U roughly get 113 gb free if u buy 128 gb. This is my second iPhone and i love it. Value for money.',\n",
       " \"phone is good but in display is 720p lcd in this price range we can get full hd OLED displays with higher refresh rate processor is very good camera is nice but looks kind of oldish in front of todays phone also there's no charging in box had to buy it seperately\",\n",
       " 'Seller - SuperComNet ( my trust in you has grown deeper. Thanks for the genuine product )\\nThe package came packed perfectly. The box was sealed which gave me a big relief.\\n\\nApple needs no introduction since its the dominant market player. I just love the way how IPhone 11 stands out so boldly. The moment I took it out from the box, I could feel the premium intensity. The body is remarkable and crafted for giving you a elite vibe.\\n\\nCamera is to die for. There is no other phone that can beat...\\nREAD MORE']"
      ]
     },
     "execution_count": 245,
     "metadata": {},
     "output_type": "execute_result"
    }
   ],
   "source": [
    "full_review=[]\n",
    "for i in new_links:\n",
    "    full_rtag=driver.find_elements_by_xpath(\"//div[@class='t-ZTKy']\")\n",
    "    for j in full_rtag:\n",
    "        full_review.append(j.text)\n",
    "print(len(full_review))\n",
    "full_review"
   ]
  },
  {
   "cell_type": "code",
   "execution_count": 246,
   "metadata": {},
   "outputs": [],
   "source": [
    "#Dataframe\n",
    "iphone=pd.DataFrame({})\n",
    "iphone['Rating']=ratings[:100]\n",
    "iphone['Review']=review[:100]\n",
    "iphone['Detailed Review']=full_review[:100]"
   ]
  },
  {
   "cell_type": "code",
   "execution_count": 247,
   "metadata": {
    "scrolled": true
   },
   "outputs": [
    {
     "data": {
      "text/html": [
       "<div>\n",
       "<style scoped>\n",
       "    .dataframe tbody tr th:only-of-type {\n",
       "        vertical-align: middle;\n",
       "    }\n",
       "\n",
       "    .dataframe tbody tr th {\n",
       "        vertical-align: top;\n",
       "    }\n",
       "\n",
       "    .dataframe thead th {\n",
       "        text-align: right;\n",
       "    }\n",
       "</style>\n",
       "<table border=\"1\" class=\"dataframe\">\n",
       "  <thead>\n",
       "    <tr style=\"text-align: right;\">\n",
       "      <th></th>\n",
       "      <th>Rating</th>\n",
       "      <th>Review</th>\n",
       "      <th>Detailed Review</th>\n",
       "    </tr>\n",
       "  </thead>\n",
       "  <tbody>\n",
       "    <tr>\n",
       "      <th>0</th>\n",
       "      <td>5</td>\n",
       "      <td>Brilliant</td>\n",
       "      <td>I got this phone for good price hence 5 star f...</td>\n",
       "    </tr>\n",
       "    <tr>\n",
       "      <th>1</th>\n",
       "      <td>5</td>\n",
       "      <td>Simply awesome</td>\n",
       "      <td>Camera is excellent just lack of telephoto mod...</td>\n",
       "    </tr>\n",
       "    <tr>\n",
       "      <th>2</th>\n",
       "      <td>5</td>\n",
       "      <td>Perfect product!</td>\n",
       "      <td>I genuinely liked it. One of the best mobile p...</td>\n",
       "    </tr>\n",
       "    <tr>\n",
       "      <th>3</th>\n",
       "      <td>5</td>\n",
       "      <td>Fabulous!</td>\n",
       "      <td>Flipkart honoured on time delivery, I have use...</td>\n",
       "    </tr>\n",
       "    <tr>\n",
       "      <th>4</th>\n",
       "      <td>5</td>\n",
       "      <td>Best in the market!</td>\n",
       "      <td>Awesome camera, smooth and fast UI, display is...</td>\n",
       "    </tr>\n",
       "    <tr>\n",
       "      <th>...</th>\n",
       "      <td>...</td>\n",
       "      <td>...</td>\n",
       "      <td>...</td>\n",
       "    </tr>\n",
       "    <tr>\n",
       "      <th>95</th>\n",
       "      <td>3</td>\n",
       "      <td>Terrific purchase</td>\n",
       "      <td>Good product nice experience with Flipkart but...</td>\n",
       "    </tr>\n",
       "    <tr>\n",
       "      <th>96</th>\n",
       "      <td>5</td>\n",
       "      <td>Awesome</td>\n",
       "      <td>I was torn between the oneplus 8 pro and the i...</td>\n",
       "    </tr>\n",
       "    <tr>\n",
       "      <th>97</th>\n",
       "      <td>5</td>\n",
       "      <td>Decent product</td>\n",
       "      <td>iPhone is delivered on time. Display is great ...</td>\n",
       "    </tr>\n",
       "    <tr>\n",
       "      <th>98</th>\n",
       "      <td>5</td>\n",
       "      <td>Awesome</td>\n",
       "      <td>phone is good but in display is 720p lcd in th...</td>\n",
       "    </tr>\n",
       "    <tr>\n",
       "      <th>99</th>\n",
       "      <td>5</td>\n",
       "      <td>Brilliant</td>\n",
       "      <td>Seller - SuperComNet ( my trust in you has gro...</td>\n",
       "    </tr>\n",
       "  </tbody>\n",
       "</table>\n",
       "<p>100 rows × 3 columns</p>\n",
       "</div>"
      ],
      "text/plain": [
       "   Rating               Review  \\\n",
       "0       5            Brilliant   \n",
       "1       5       Simply awesome   \n",
       "2       5     Perfect product!   \n",
       "3       5            Fabulous!   \n",
       "4       5  Best in the market!   \n",
       "..    ...                  ...   \n",
       "95      3    Terrific purchase   \n",
       "96      5              Awesome   \n",
       "97      5       Decent product   \n",
       "98      5              Awesome   \n",
       "99      5            Brilliant   \n",
       "\n",
       "                                      Detailed Review  \n",
       "0   I got this phone for good price hence 5 star f...  \n",
       "1   Camera is excellent just lack of telephoto mod...  \n",
       "2   I genuinely liked it. One of the best mobile p...  \n",
       "3   Flipkart honoured on time delivery, I have use...  \n",
       "4   Awesome camera, smooth and fast UI, display is...  \n",
       "..                                                ...  \n",
       "95  Good product nice experience with Flipkart but...  \n",
       "96  I was torn between the oneplus 8 pro and the i...  \n",
       "97  iPhone is delivered on time. Display is great ...  \n",
       "98  phone is good but in display is 720p lcd in th...  \n",
       "99  Seller - SuperComNet ( my trust in you has gro...  \n",
       "\n",
       "[100 rows x 3 columns]"
      ]
     },
     "execution_count": 247,
     "metadata": {},
     "output_type": "execute_result"
    }
   ],
   "source": [
    "iphone"
   ]
  },
  {
   "cell_type": "code",
   "execution_count": 249,
   "metadata": {},
   "outputs": [],
   "source": [
    "#Closing the browser\n",
    "driver.close()"
   ]
  },
  {
   "cell_type": "markdown",
   "metadata": {},
   "source": [
    "#### Q8. Scrape data for first 100 sneakers you find when you visit flipkart.com and search for “sneakers” in the search field. You have to scrape 4 attributes of each sneaker :\n",
    "1. Brand\n",
    "2. Product Description\n",
    "3. Price\n",
    "4. discount %"
   ]
  },
  {
   "cell_type": "code",
   "execution_count": 287,
   "metadata": {},
   "outputs": [],
   "source": [
    "# Initializing the driver\n",
    "driver=driver=webdriver.Chrome(r'I:\\\\chromedriver_win32\\\\chromedriver.exe')\n",
    "\n",
    "#accesing the website\n",
    "driver.get(' https://www.flipkart.com')"
   ]
  },
  {
   "cell_type": "code",
   "execution_count": 288,
   "metadata": {},
   "outputs": [],
   "source": [
    "#Finding the search bar, entering text into it \n",
    "search_bar=driver.find_element_by_name('q')\n",
    "search_bar.send_keys('Sneakers')"
   ]
  },
  {
   "cell_type": "code",
   "execution_count": 289,
   "metadata": {},
   "outputs": [],
   "source": [
    "#Clicking on the search button\n",
    "search_btn=driver.find_element_by_class_name('L0Z3Pu')\n",
    "search_btn.click()"
   ]
  },
  {
   "cell_type": "code",
   "execution_count": 290,
   "metadata": {
    "scrolled": true
   },
   "outputs": [
    {
     "data": {
      "text/plain": [
       "['RapidBox',\n",
       " 'claptrap',\n",
       " 'D-SNEAKERZ',\n",
       " 'BIRDE',\n",
       " 'Numenzo',\n",
       " 'Magnolia',\n",
       " 'Robbie jones',\n",
       " 'Baogi',\n",
       " 'BRUTON',\n",
       " 'BRUTON',\n",
       " 'luxury fashion',\n",
       " 'Chevit',\n",
       " 'HOTSTYLE',\n",
       " 'Numenzo',\n",
       " 'Robbie jones',\n",
       " 'BIRDE',\n",
       " 'bluemaker',\n",
       " 'believe',\n",
       " 'Edoeviv',\n",
       " 'Extoes',\n",
       " 'BIRDE',\n",
       " 'ASTEROID',\n",
       " 'Zsyto',\n",
       " 'BIRDE',\n",
       " 'Numenzo',\n",
       " 'ESSENCE',\n",
       " 'Kraasa',\n",
       " 'Strollin',\n",
       " 'Chevit',\n",
       " 'BRUTON',\n",
       " 'Chevit',\n",
       " 'Chevit',\n",
       " 'RODDICK SHOES',\n",
       " 'Robbie jones',\n",
       " 'Airland',\n",
       " 'Paragon',\n",
       " 'Arohi',\n",
       " 'HOTSTYLE',\n",
       " 'Robbie jones',\n",
       " 'PUMA']"
      ]
     },
     "execution_count": 290,
     "metadata": {},
     "output_type": "execute_result"
    }
   ],
   "source": [
    "#Scraping the Brand names\n",
    "brand_tag=driver.find_elements_by_xpath(\"//div[@class='_2WkVRV']\")\n",
    "brands=[i.text for i in brand_tag]\n",
    "brands"
   ]
  },
  {
   "cell_type": "code",
   "execution_count": 291,
   "metadata": {
    "scrolled": false
   },
   "outputs": [
    {
     "data": {
      "text/plain": [
       "40"
      ]
     },
     "execution_count": 291,
     "metadata": {},
     "output_type": "execute_result"
    }
   ],
   "source": [
    "len(brands)"
   ]
  },
  {
   "cell_type": "markdown",
   "metadata": {},
   "source": [
    "we got only 40, we need 100 .. so we need to go to the next 2 pages"
   ]
  },
  {
   "cell_type": "code",
   "execution_count": 292,
   "metadata": {
    "scrolled": false
   },
   "outputs": [
    {
     "data": {
      "text/plain": [
       "['Sneakers For Men',\n",
       " \"White Sneaker For Men's/Boy's Sneakers For Men\",\n",
       " \"Casual , Partywear Sneakers Shoes For Men's And Boys Wh...\",\n",
       " 'Birde Trendy Casual Shoes Sneakers For Men',\n",
       " '411 Casual Sneakers For Men',\n",
       " 'Sneakers For Men',\n",
       " 'Casual Sneakers Shoes For Men Sneakers For Men',\n",
       " 'Sneakers For Men',\n",
       " 'Combo Pack Of 4 Casual Shoes Loafer Shoes Sneakers For ...',\n",
       " 'Modern Trendy Sneakers Shoes Sneakers For Men',\n",
       " 'luxury fashionable casual snealer shoes Sneakers For Me...',\n",
       " 'Unique & Perfect Collection Combo Pack of 02 Shoes for ...',\n",
       " 'Sneakers For Men',\n",
       " 'Sneakers For Men',\n",
       " 'Sneakers For Men',\n",
       " 'Casual Shoes Sneakers For Men',\n",
       " 'casual for men Sneakers For Men',\n",
       " 'Sneakers for men(black_6) Sneakers For Men',\n",
       " \"Luxury Branded Fashionable Men's Casual Walking Partywe...\",\n",
       " 'Relaxed Attractive Combo pack of 3 Sneakers For Men',\n",
       " \"Men's Stylish Casual Shoes Sneakers For Men\",\n",
       " \"Original Luxury Branded Fashionable Men's Casual Walkin...\",\n",
       " 'Sneakers For Men',\n",
       " \"Men's Stylish Casual Shoes Sneakers For Men\",\n",
       " 'Sneakers For Men',\n",
       " 'Sneakers For Men',\n",
       " 'Series 7 Sneakers For Men',\n",
       " 'Sneakers For Men',\n",
       " 'Perfect & Affordable Combo Pack of 02 Pairs Sneakers Ou...',\n",
       " 'Lattest Sneakers Shoe Sneakers For Men',\n",
       " '168 Smart Red Lace-Ups Casuals for Men Sneakers For Men',\n",
       " 'Speed Set of 5 Pairs Sneakers Outdoors Casuals for Men ...',\n",
       " 'Fashion Outdoor Canvas Casual Light Weight Lace-up Even...',\n",
       " 'Sneakers For Men',\n",
       " 'shoe Sneakers For Men',\n",
       " 'Sneakers For Men',\n",
       " 'Sneakers For Men',\n",
       " 'Sneakers For Men',\n",
       " 'Sneakers For Men',\n",
       " 'one8 V2 IDP Sneakers For Men']"
      ]
     },
     "execution_count": 292,
     "metadata": {},
     "output_type": "execute_result"
    }
   ],
   "source": [
    "#Let us scrap other details also for these 40 brands\n",
    "description_tag=driver.find_elements_by_xpath(\"//div[@class='_2B099V']/a[1]\")\n",
    "description=[i.text for i in description_tag]\n",
    "description"
   ]
  },
  {
   "cell_type": "code",
   "execution_count": 293,
   "metadata": {},
   "outputs": [
    {
     "data": {
      "text/plain": [
       "40"
      ]
     },
     "execution_count": 293,
     "metadata": {},
     "output_type": "execute_result"
    }
   ],
   "source": [
    "len(description)"
   ]
  },
  {
   "cell_type": "code",
   "execution_count": 294,
   "metadata": {
    "scrolled": true
   },
   "outputs": [
    {
     "data": {
      "text/plain": [
       "['₹520',\n",
       " '₹399',\n",
       " '₹348',\n",
       " '₹399',\n",
       " '₹426',\n",
       " '₹398',\n",
       " '₹379',\n",
       " '₹473',\n",
       " '₹449',\n",
       " '₹359',\n",
       " '₹449',\n",
       " '₹599',\n",
       " '₹296',\n",
       " '₹407',\n",
       " '₹474',\n",
       " '₹348',\n",
       " '₹499',\n",
       " '₹449',\n",
       " '₹499',\n",
       " '₹689',\n",
       " '₹399',\n",
       " '₹499',\n",
       " '₹418',\n",
       " '₹399',\n",
       " '₹378',\n",
       " '₹499',\n",
       " '₹416',\n",
       " '₹399',\n",
       " '₹599',\n",
       " '₹323',\n",
       " '₹249',\n",
       " '₹899',\n",
       " '₹474',\n",
       " '₹449',\n",
       " '₹257',\n",
       " '₹584',\n",
       " '₹459',\n",
       " '₹198',\n",
       " '₹499',\n",
       " '₹1,711']"
      ]
     },
     "execution_count": 294,
     "metadata": {},
     "output_type": "execute_result"
    }
   ],
   "source": [
    "#Let us get the price details\n",
    "price_tag=driver.find_elements_by_xpath(\"//a[@class='_3bPFwb']/div[1]/div[1]\")\n",
    "price=[i.text for i in price_tag]\n",
    "price"
   ]
  },
  {
   "cell_type": "code",
   "execution_count": 295,
   "metadata": {},
   "outputs": [
    {
     "data": {
      "text/plain": [
       "40"
      ]
     },
     "execution_count": 295,
     "metadata": {},
     "output_type": "execute_result"
    }
   ],
   "source": [
    "len(price)"
   ]
  },
  {
   "cell_type": "code",
   "execution_count": 296,
   "metadata": {
    "scrolled": false
   },
   "outputs": [
    {
     "data": {
      "text/plain": [
       "['47% off',\n",
       " '11% off',\n",
       " '47% off',\n",
       " '20% off',\n",
       " '78% off',\n",
       " '60% off',\n",
       " '62% off',\n",
       " '68% off',\n",
       " '87% off',\n",
       " '72% off',\n",
       " '65% off',\n",
       " '60% off',\n",
       " '70% off',\n",
       " '68% off',\n",
       " '52% off',\n",
       " '65% off',\n",
       " '50% off',\n",
       " '55% off',\n",
       " '37% off',\n",
       " '53% off',\n",
       " '20% off',\n",
       " '75% off',\n",
       " '58% off',\n",
       " '20% off',\n",
       " '62% off',\n",
       " '50% off',\n",
       " '58% off',\n",
       " '60% off',\n",
       " '66% off',\n",
       " '75% off',\n",
       " '50% off',\n",
       " '63% off',\n",
       " '52% off',\n",
       " '55% off',\n",
       " '48% off',\n",
       " '35% off',\n",
       " '54% off',\n",
       " '60% off',\n",
       " '50% off',\n",
       " '48% off']"
      ]
     },
     "execution_count": 296,
     "metadata": {},
     "output_type": "execute_result"
    }
   ],
   "source": [
    "#fetching the discount\n",
    "discount_tag=driver.find_elements_by_xpath(\"//a[@class='_3bPFwb']/div[1]/div[3]\")\n",
    "discount=[i.text for i in discount_tag]\n",
    "discount"
   ]
  },
  {
   "cell_type": "code",
   "execution_count": 297,
   "metadata": {
    "scrolled": true
   },
   "outputs": [
    {
     "data": {
      "text/plain": [
       "['https://www.flipkart.com/search?q=Sneakers&otracker=search&otracker1=search&marketplace=FLIPKART&as-show=on&as=off&page=2',\n",
       " 'https://www.flipkart.com/search?q=Sneakers&otracker=search&otracker1=search&marketplace=FLIPKART&as-show=on&as=off&page=3']"
      ]
     },
     "execution_count": 297,
     "metadata": {},
     "output_type": "execute_result"
    }
   ],
   "source": [
    "#Going to next page\n",
    "next_page=driver.find_elements_by_xpath(\"//a[@class='ge-49M']\")\n",
    "page_link=[i.get_attribute('href') for i in next_page]\n",
    "page_link=page_link[:2]\n",
    "page_link"
   ]
  },
  {
   "cell_type": "code",
   "execution_count": 298,
   "metadata": {
    "scrolled": true
   },
   "outputs": [],
   "source": [
    "for i in page_link:\n",
    "    driver.get(i)\n",
    "    time.sleep(5)\n",
    "    \n",
    "    #Fetching the brands\n",
    "    brand_tag=driver.find_elements_by_xpath(\"//div[@class='_2WkVRV']\")\n",
    "    for i in brand_tag:\n",
    "        brands.append(i.text)\n",
    "        \n",
    "    #Fetching Description\n",
    "    description_tag=driver.find_elements_by_xpath(\"//div[@class='_2B099V']/a[1]\")\n",
    "    for i in description_tag:\n",
    "        description.append(i.text)\n",
    "    \n",
    "    #Fetching the price\n",
    "    price_tag=driver.find_elements_by_xpath(\"//a[@class='_3bPFwb']/div[1]/div[1]\")\n",
    "    for i in price_tag:\n",
    "        price.append(i.text)\n",
    "        \n",
    "    #Fetching discount\n",
    "    discount_tag=driver.find_elements_by_xpath(\"//a[@class='_3bPFwb']/div[1]/div[3]\")\n",
    "    for i in discount_tag:\n",
    "        discount.append(i.text)\n",
    "        \n",
    "    "
   ]
  },
  {
   "cell_type": "code",
   "execution_count": 299,
   "metadata": {
    "scrolled": true
   },
   "outputs": [
    {
     "name": "stdout",
     "output_type": "stream",
     "text": [
      "120 120 120 120\n"
     ]
    }
   ],
   "source": [
    "print(len(brands), len(description), len(price), len(discount))"
   ]
  },
  {
   "cell_type": "code",
   "execution_count": 300,
   "metadata": {},
   "outputs": [],
   "source": [
    "#Creating DataFrame\n",
    "sneakers=pd.DataFrame({})\n",
    "sneakers['Brand']=brands[:100]\n",
    "sneakers['Description']=description[:100]\n",
    "sneakers['Price']=price[:100]\n",
    "sneakers['Discount']=discount[:100]"
   ]
  },
  {
   "cell_type": "code",
   "execution_count": 301,
   "metadata": {
    "scrolled": true
   },
   "outputs": [
    {
     "data": {
      "text/html": [
       "<div>\n",
       "<style scoped>\n",
       "    .dataframe tbody tr th:only-of-type {\n",
       "        vertical-align: middle;\n",
       "    }\n",
       "\n",
       "    .dataframe tbody tr th {\n",
       "        vertical-align: top;\n",
       "    }\n",
       "\n",
       "    .dataframe thead th {\n",
       "        text-align: right;\n",
       "    }\n",
       "</style>\n",
       "<table border=\"1\" class=\"dataframe\">\n",
       "  <thead>\n",
       "    <tr style=\"text-align: right;\">\n",
       "      <th></th>\n",
       "      <th>Brand</th>\n",
       "      <th>Description</th>\n",
       "      <th>Price</th>\n",
       "      <th>Discount</th>\n",
       "    </tr>\n",
       "  </thead>\n",
       "  <tbody>\n",
       "    <tr>\n",
       "      <th>0</th>\n",
       "      <td>RapidBox</td>\n",
       "      <td>Sneakers For Men</td>\n",
       "      <td>₹520</td>\n",
       "      <td>47% off</td>\n",
       "    </tr>\n",
       "    <tr>\n",
       "      <th>1</th>\n",
       "      <td>claptrap</td>\n",
       "      <td>White Sneaker For Men's/Boy's Sneakers For Men</td>\n",
       "      <td>₹399</td>\n",
       "      <td>11% off</td>\n",
       "    </tr>\n",
       "    <tr>\n",
       "      <th>2</th>\n",
       "      <td>D-SNEAKERZ</td>\n",
       "      <td>Casual , Partywear Sneakers Shoes For Men's An...</td>\n",
       "      <td>₹348</td>\n",
       "      <td>47% off</td>\n",
       "    </tr>\n",
       "    <tr>\n",
       "      <th>3</th>\n",
       "      <td>BIRDE</td>\n",
       "      <td>Birde Trendy Casual Shoes Sneakers For Men</td>\n",
       "      <td>₹399</td>\n",
       "      <td>20% off</td>\n",
       "    </tr>\n",
       "    <tr>\n",
       "      <th>4</th>\n",
       "      <td>Numenzo</td>\n",
       "      <td>411 Casual Sneakers For Men</td>\n",
       "      <td>₹426</td>\n",
       "      <td>78% off</td>\n",
       "    </tr>\n",
       "    <tr>\n",
       "      <th>...</th>\n",
       "      <td>...</td>\n",
       "      <td>...</td>\n",
       "      <td>...</td>\n",
       "      <td>...</td>\n",
       "    </tr>\n",
       "    <tr>\n",
       "      <th>95</th>\n",
       "      <td>Paragon</td>\n",
       "      <td>Sneakers For Men</td>\n",
       "      <td>₹584</td>\n",
       "      <td>35% off</td>\n",
       "    </tr>\n",
       "    <tr>\n",
       "      <th>96</th>\n",
       "      <td>Numenzo</td>\n",
       "      <td>Sneakers For Men</td>\n",
       "      <td>₹426</td>\n",
       "      <td>78% off</td>\n",
       "    </tr>\n",
       "    <tr>\n",
       "      <th>97</th>\n",
       "      <td>T-ROCK</td>\n",
       "      <td>Synthetic Leather Casual Partywear Wedding Sne...</td>\n",
       "      <td>₹379</td>\n",
       "      <td>62% off</td>\n",
       "    </tr>\n",
       "    <tr>\n",
       "      <th>98</th>\n",
       "      <td>PUMA</td>\n",
       "      <td>Smash v2 L Sneakers For Men</td>\n",
       "      <td>₹1,959</td>\n",
       "      <td>44% off</td>\n",
       "    </tr>\n",
       "    <tr>\n",
       "      <th>99</th>\n",
       "      <td>Extoes</td>\n",
       "      <td>Relaxed Attractive Combo pack of 3 Sneakers Fo...</td>\n",
       "      <td>₹689</td>\n",
       "      <td>53% off</td>\n",
       "    </tr>\n",
       "  </tbody>\n",
       "</table>\n",
       "<p>100 rows × 4 columns</p>\n",
       "</div>"
      ],
      "text/plain": [
       "         Brand                                        Description   Price  \\\n",
       "0     RapidBox                                   Sneakers For Men    ₹520   \n",
       "1     claptrap     White Sneaker For Men's/Boy's Sneakers For Men    ₹399   \n",
       "2   D-SNEAKERZ  Casual , Partywear Sneakers Shoes For Men's An...    ₹348   \n",
       "3        BIRDE         Birde Trendy Casual Shoes Sneakers For Men    ₹399   \n",
       "4      Numenzo                        411 Casual Sneakers For Men    ₹426   \n",
       "..         ...                                                ...     ...   \n",
       "95     Paragon                                   Sneakers For Men    ₹584   \n",
       "96     Numenzo                                   Sneakers For Men    ₹426   \n",
       "97      T-ROCK  Synthetic Leather Casual Partywear Wedding Sne...    ₹379   \n",
       "98        PUMA                        Smash v2 L Sneakers For Men  ₹1,959   \n",
       "99      Extoes  Relaxed Attractive Combo pack of 3 Sneakers Fo...    ₹689   \n",
       "\n",
       "   Discount  \n",
       "0   47% off  \n",
       "1   11% off  \n",
       "2   47% off  \n",
       "3   20% off  \n",
       "4   78% off  \n",
       "..      ...  \n",
       "95  35% off  \n",
       "96  78% off  \n",
       "97  62% off  \n",
       "98  44% off  \n",
       "99  53% off  \n",
       "\n",
       "[100 rows x 4 columns]"
      ]
     },
     "execution_count": 301,
     "metadata": {},
     "output_type": "execute_result"
    }
   ],
   "source": [
    "sneakers"
   ]
  },
  {
   "cell_type": "code",
   "execution_count": 302,
   "metadata": {},
   "outputs": [],
   "source": [
    "driver.close()"
   ]
  },
  {
   "cell_type": "markdown",
   "metadata": {},
   "source": [
    "#### Q9. Go to the link - https://www.myntra.com/shoes , Set Price filter to “Rs. 6649 to Rs. 13099” , Color filter to “Black”, "
   ]
  },
  {
   "cell_type": "code",
   "execution_count": 303,
   "metadata": {},
   "outputs": [],
   "source": [
    "# Initializing the driver\n",
    "driver=driver=webdriver.Chrome(r'I:\\\\chromedriver_win32\\\\chromedriver.exe')\n",
    "\n",
    "#accesing the website\n",
    "driver.get(' https://www.myntra.com/shoes')"
   ]
  },
  {
   "cell_type": "code",
   "execution_count": 304,
   "metadata": {},
   "outputs": [],
   "source": [
    "#Finding and clicking the price filter\n",
    "price_filter=driver.find_element_by_xpath('//*[@id=\"mountRoot\"]/div/div[1]/main/div[3]/div[1]/section/div/div[5]/ul/li[2]/label/div')\n",
    "price_filter.click()"
   ]
  },
  {
   "cell_type": "code",
   "execution_count": 306,
   "metadata": {},
   "outputs": [],
   "source": [
    "#Finding and clicking the color filter\n",
    "color_filter=driver.find_element_by_xpath('//*[@id=\"mountRoot\"]/div/div[1]/main/div[3]/div[1]/section/div/div[6]/ul/li[1]/label/div')\n",
    "color_filter.click()"
   ]
  },
  {
   "cell_type": "code",
   "execution_count": 313,
   "metadata": {},
   "outputs": [
    {
     "name": "stdout",
     "output_type": "stream",
     "text": [
      "50\n"
     ]
    },
    {
     "data": {
      "text/plain": [
       "['ALDO',\n",
       " 'PUMA Motorsport',\n",
       " 'Puma',\n",
       " 'ALDO',\n",
       " 'PUMA Motorsport',\n",
       " 'PUMA Motorsport',\n",
       " 'Puma',\n",
       " 'Puma',\n",
       " 'Calvin Klein',\n",
       " 'Puma',\n",
       " 'Hush Puppies',\n",
       " 'ASICS',\n",
       " 'Hush Puppies',\n",
       " 'UNDER ARMOUR',\n",
       " 'Puma',\n",
       " 'Calvin Klein',\n",
       " 'Puma',\n",
       " 'FORCLAZ By Decathlon',\n",
       " 'Calvin Klein',\n",
       " 'Calvin Klein',\n",
       " 'PUMA Motorsport',\n",
       " 'Hush Puppies',\n",
       " 'Bugatti',\n",
       " 'Puma',\n",
       " 'UNDER ARMOUR',\n",
       " 'Calvin Klein',\n",
       " 'UNDER ARMOUR',\n",
       " 'Puma',\n",
       " 'Nike',\n",
       " 'Geox',\n",
       " 'UNDER ARMOUR',\n",
       " 'Calvin Klein',\n",
       " 'Kalenji By Decathlon',\n",
       " 'Puma',\n",
       " 'Calvin Klein',\n",
       " 'Calvin Klein',\n",
       " 'UNDER ARMOUR',\n",
       " 'Tommy Hilfiger',\n",
       " 'DAVINCHI',\n",
       " 'Hush Puppies',\n",
       " 'Saint G',\n",
       " 'UNDER ARMOUR',\n",
       " 'ASICS',\n",
       " 'Saint G',\n",
       " 'J.FONTINI',\n",
       " 'Cole Haan',\n",
       " 'J.FONTINI',\n",
       " 'Puma',\n",
       " 'Heel & Buckle London',\n",
       " 'Hush Puppies']"
      ]
     },
     "execution_count": 313,
     "metadata": {},
     "output_type": "execute_result"
    }
   ],
   "source": [
    "#Getting brand of shoes\n",
    "brand_tag=driver.find_elements_by_xpath(\"//h3[@class='product-brand']\")\n",
    "brand=[i.text for i in brand_tag]\n",
    "print(len(brand))\n",
    "brand"
   ]
  },
  {
   "cell_type": "markdown",
   "metadata": {},
   "source": [
    "We need 100, so need to fetch from next page too"
   ]
  },
  {
   "cell_type": "code",
   "execution_count": 312,
   "metadata": {},
   "outputs": [
    {
     "name": "stdout",
     "output_type": "stream",
     "text": [
      "50\n"
     ]
    },
    {
     "data": {
      "text/plain": [
       "['Leather Solid Loafers',\n",
       " 'Unisex Mercedes F1 Sneakers',\n",
       " 'Men Jamming 2.0 Running Shoes',\n",
       " 'Men Driving Shoes',\n",
       " 'Unisex FerrariRS-Fast Sneakers',\n",
       " 'Unisex Scuderia Ferrari Shoes',\n",
       " 'Men Deviate Nitro Running Shoe',\n",
       " 'Men Running Shoes',\n",
       " 'Men Solid Mid-Top Sneakers',\n",
       " 'Unisex Mirage Remix Sneakers',\n",
       " 'Men Solid Leather Formal Slip-Ons',\n",
       " 'Women GlideRide Running Shoes',\n",
       " 'Men Solid Leather Formal Slip-Ons',\n",
       " 'Women HOVR Sonic 4 Running',\n",
       " 'Men Liberate NITRO Running',\n",
       " 'Men UV MONO Leather Sneakers',\n",
       " 'Men Magnify Nitro Running',\n",
       " 'TREKKING 100 Boots',\n",
       " 'Men Textured Leather Sneaker',\n",
       " 'Men Solid LOW TOP MIX Sneakers',\n",
       " 'Unisex BMW RS-Connect Sneakers',\n",
       " 'Men Leather Slip-On Sneakers',\n",
       " 'Men Black Walking Shoes',\n",
       " 'Unisex Leather Trainers',\n",
       " 'Women HOVR Sonic 4 FnRn',\n",
       " 'Men Woven Design Sneakers',\n",
       " 'Men Charged Commit 3 Training',\n",
       " 'Women Eternity NITRO Shoes',\n",
       " \"Men BlazerLow '77 Sneakers\",\n",
       " 'Leather Heeled Boots',\n",
       " 'Women Charged Rogue 2.5ClrSft',\n",
       " 'Men Vulcanized Sneakers',\n",
       " 'Men KD500 Running Shoe',\n",
       " 'Women Magnify Nitro Shoes',\n",
       " 'Men Solid Leather Sneakers',\n",
       " 'Men Solid Low Top LTH Sneakers',\n",
       " 'Women Charged Assert 8 Running',\n",
       " 'Men Lightweight Sneakers',\n",
       " 'Ustraa black',\n",
       " 'Men Formal Derbys',\n",
       " 'Men Mid-Top Chelsea Boots',\n",
       " 'Women Charged Bandit 6 Running',\n",
       " 'Women NOVABLAST Road Running',\n",
       " 'Women Leather Heeled Boots',\n",
       " 'Men Black Leather Loafers',\n",
       " 'Men GENERATION ZEROGRAND STITCHLITE',\n",
       " 'Men Solid Loafers',\n",
       " 'Unisex Textured Sneakers',\n",
       " 'Women Leather Pumps',\n",
       " 'Men Leather Derbys']"
      ]
     },
     "execution_count": 312,
     "metadata": {},
     "output_type": "execute_result"
    }
   ],
   "source": [
    "#Getting short description\n",
    "short_description=driver.find_elements_by_xpath(\"//h4[@class='product-product']\")\n",
    "description=[i.text for i in short_description]\n",
    "print(len(description))\n",
    "description"
   ]
  },
  {
   "cell_type": "code",
   "execution_count": 322,
   "metadata": {
    "scrolled": true
   },
   "outputs": [
    {
     "name": "stdout",
     "output_type": "stream",
     "text": [
      "50\n"
     ]
    },
    {
     "data": {
      "text/plain": [
       "[['Rs', ' 10499Rs', ' 14999'],\n",
       " ['Rs', ' 7999Rs', ' 9999'],\n",
       " ['Rs', ' 10399Rs', ' 12999'],\n",
       " ['Rs', ' 11199Rs', ' 15999'],\n",
       " ['Rs', ' 7999Rs', ' 9999'],\n",
       " ['Rs', ' 7999Rs', ' 9999'],\n",
       " ['Rs', ' 11999Rs', ' 14999'],\n",
       " ['Rs', ' 9099Rs', ' 12999'],\n",
       " ['Rs', ' 10599'],\n",
       " ['Rs', ' 7199Rs', ' 8999'],\n",
       " ['Rs', ' 8099Rs', ' 8999'],\n",
       " ['Rs', ' 9799Rs', ' 13999'],\n",
       " ['Rs', ' 8999Rs', ' 9999'],\n",
       " ['Rs', ' 7149Rs', ' 10999'],\n",
       " ['Rs', ' 6999Rs', ' 9999'],\n",
       " ['Rs', ' 8999'],\n",
       " ['Rs', ' 9099Rs', ' 12999'],\n",
       " ['Rs', ' 6999'],\n",
       " ['Rs', ' 9999'],\n",
       " ['Rs', ' 6999'],\n",
       " ['Rs', ' 7999Rs', ' 9999'],\n",
       " ['Rs', ' 7999Rs', ' 9999'],\n",
       " ['Rs', ' 8999'],\n",
       " ['Rs', ' 6999Rs', ' 9999'],\n",
       " ['Rs', ' 7149Rs', ' 10999'],\n",
       " ['Rs', ' 6999'],\n",
       " ['Rs', ' 7999'],\n",
       " ['Rs', ' 7799Rs', ' 12999'],\n",
       " ['Rs', ' 7195'],\n",
       " ['Rs', ' 12999'],\n",
       " ['Rs', ' 7999'],\n",
       " ['Rs', ' 6999'],\n",
       " ['Rs', ' 7773Rs', ' 8449'],\n",
       " ['Rs', ' 8449Rs', ' 12999'],\n",
       " ['Rs', ' 9999'],\n",
       " ['Rs', ' 8999'],\n",
       " ['Rs', ' 6999'],\n",
       " ['Rs', ' 7999'],\n",
       " ['Rs', ' 8990'],\n",
       " ['Rs', ' 8999Rs', ' 9999'],\n",
       " ['Rs', ' 10900'],\n",
       " ['Rs', ' 8999'],\n",
       " ['Rs', ' 10399Rs', ' 12999'],\n",
       " ['Rs', ' 9500'],\n",
       " ['Rs', ' 8490'],\n",
       " ['Rs', ' 11999'],\n",
       " ['Rs', ' 8990'],\n",
       " ['Rs', ' 7999Rs', ' 9999'],\n",
       " ['Rs', ' 8900Rs', ' 8990'],\n",
       " ['Rs', ' 7199Rs', ' 7999']]"
      ]
     },
     "execution_count": 322,
     "metadata": {},
     "output_type": "execute_result"
    }
   ],
   "source": [
    "#Getting the price\n",
    "price_tag=driver.find_elements_by_xpath(\"//div[@class='product-price']/span[1]\")\n",
    "price=[i.text.split(\".\") for i in price_tag]\n",
    "print(len(price))\n",
    "price"
   ]
  },
  {
   "cell_type": "code",
   "execution_count": 325,
   "metadata": {
    "scrolled": true
   },
   "outputs": [
    {
     "name": "stdout",
     "output_type": "stream",
     "text": [
      "50\n"
     ]
    },
    {
     "data": {
      "text/plain": [
       "[' 10499Rs',\n",
       " ' 7999Rs',\n",
       " ' 10399Rs',\n",
       " ' 11199Rs',\n",
       " ' 7999Rs',\n",
       " ' 7999Rs',\n",
       " ' 11999Rs',\n",
       " ' 9099Rs',\n",
       " ' 10599',\n",
       " ' 7199Rs',\n",
       " ' 8099Rs',\n",
       " ' 9799Rs',\n",
       " ' 8999Rs',\n",
       " ' 7149Rs',\n",
       " ' 6999Rs',\n",
       " ' 8999',\n",
       " ' 9099Rs',\n",
       " ' 6999',\n",
       " ' 9999',\n",
       " ' 6999',\n",
       " ' 7999Rs',\n",
       " ' 7999Rs',\n",
       " ' 8999',\n",
       " ' 6999Rs',\n",
       " ' 7149Rs',\n",
       " ' 6999',\n",
       " ' 7999',\n",
       " ' 7799Rs',\n",
       " ' 7195',\n",
       " ' 12999',\n",
       " ' 7999',\n",
       " ' 6999',\n",
       " ' 7773Rs',\n",
       " ' 8449Rs',\n",
       " ' 9999',\n",
       " ' 8999',\n",
       " ' 6999',\n",
       " ' 7999',\n",
       " ' 8990',\n",
       " ' 8999Rs',\n",
       " ' 10900',\n",
       " ' 8999',\n",
       " ' 10399Rs',\n",
       " ' 9500',\n",
       " ' 8490',\n",
       " ' 11999',\n",
       " ' 8990',\n",
       " ' 7999Rs',\n",
       " ' 8900Rs',\n",
       " ' 7199Rs']"
      ]
     },
     "execution_count": 325,
     "metadata": {},
     "output_type": "execute_result"
    }
   ],
   "source": [
    "prices=[]\n",
    "for j in range(50):\n",
    "    prices.append(price[j][1])\n",
    "print(len(prices))\n",
    "prices"
   ]
  },
  {
   "cell_type": "code",
   "execution_count": 344,
   "metadata": {},
   "outputs": [],
   "source": [
    "#Going to the next page\n",
    "next_button=driver.find_element_by_xpath('//li[@class=\"pagination-next\"]/a')\n",
    "link=next_button.get_attribute('href')\n",
    "driver.get(link)"
   ]
  },
  {
   "cell_type": "code",
   "execution_count": 345,
   "metadata": {},
   "outputs": [],
   "source": [
    "#Now we are on second page, lets scrap the details and append\n",
    "\n",
    "#Brand Details\n",
    "brand_tag=driver.find_elements_by_xpath(\"//h3[@class='product-brand']\")\n",
    "for i in brand_tag:\n",
    "    brand.append(i.text)\n",
    "\n",
    "#Description details\n",
    "short_description=driver.find_elements_by_xpath(\"//h4[@class='product-product']\")\n",
    "for i in short_description:\n",
    "    description.append(i.text)\n",
    "    \n",
    "#Price details\n",
    "price_tag=driver.find_elements_by_xpath(\"//div[@class='product-price']/span[1]\")\n",
    "for i in price_tag:\n",
    "    pri=[i.text.split(\".\") for i in price_tag]\n",
    "for j in range(len(pri)):\n",
    "    prices.append(pri[j][1])"
   ]
  },
  {
   "cell_type": "code",
   "execution_count": 346,
   "metadata": {
    "scrolled": true
   },
   "outputs": [
    {
     "name": "stdout",
     "output_type": "stream",
     "text": [
      "100 100 100\n"
     ]
    }
   ],
   "source": [
    "print(len(brand), len(description), len(prices))"
   ]
  },
  {
   "cell_type": "code",
   "execution_count": 348,
   "metadata": {
    "scrolled": true
   },
   "outputs": [
    {
     "data": {
      "text/html": [
       "<div>\n",
       "<style scoped>\n",
       "    .dataframe tbody tr th:only-of-type {\n",
       "        vertical-align: middle;\n",
       "    }\n",
       "\n",
       "    .dataframe tbody tr th {\n",
       "        vertical-align: top;\n",
       "    }\n",
       "\n",
       "    .dataframe thead th {\n",
       "        text-align: right;\n",
       "    }\n",
       "</style>\n",
       "<table border=\"1\" class=\"dataframe\">\n",
       "  <thead>\n",
       "    <tr style=\"text-align: right;\">\n",
       "      <th></th>\n",
       "      <th>Brand</th>\n",
       "      <th>Description</th>\n",
       "      <th>Price</th>\n",
       "    </tr>\n",
       "  </thead>\n",
       "  <tbody>\n",
       "    <tr>\n",
       "      <th>0</th>\n",
       "      <td>ALDO</td>\n",
       "      <td>Leather Solid Loafers</td>\n",
       "      <td>10499Rs</td>\n",
       "    </tr>\n",
       "    <tr>\n",
       "      <th>1</th>\n",
       "      <td>PUMA Motorsport</td>\n",
       "      <td>Unisex Mercedes F1 Sneakers</td>\n",
       "      <td>7999Rs</td>\n",
       "    </tr>\n",
       "    <tr>\n",
       "      <th>2</th>\n",
       "      <td>Puma</td>\n",
       "      <td>Men Jamming 2.0 Running Shoes</td>\n",
       "      <td>10399Rs</td>\n",
       "    </tr>\n",
       "    <tr>\n",
       "      <th>3</th>\n",
       "      <td>ALDO</td>\n",
       "      <td>Men Driving Shoes</td>\n",
       "      <td>11199Rs</td>\n",
       "    </tr>\n",
       "    <tr>\n",
       "      <th>4</th>\n",
       "      <td>PUMA Motorsport</td>\n",
       "      <td>Unisex FerrariRS-Fast Sneakers</td>\n",
       "      <td>7999Rs</td>\n",
       "    </tr>\n",
       "    <tr>\n",
       "      <th>...</th>\n",
       "      <td>...</td>\n",
       "      <td>...</td>\n",
       "      <td>...</td>\n",
       "    </tr>\n",
       "    <tr>\n",
       "      <th>95</th>\n",
       "      <td>Hush Puppies</td>\n",
       "      <td>Men Solid Formal Slip-Ons</td>\n",
       "      <td>8999Rs</td>\n",
       "    </tr>\n",
       "    <tr>\n",
       "      <th>96</th>\n",
       "      <td>J.FONTINI</td>\n",
       "      <td>Men Leather Formal Loafers</td>\n",
       "      <td>6990</td>\n",
       "    </tr>\n",
       "    <tr>\n",
       "      <th>97</th>\n",
       "      <td>KLEAT</td>\n",
       "      <td>Men Printed Sneakers</td>\n",
       "      <td>6999</td>\n",
       "    </tr>\n",
       "    <tr>\n",
       "      <th>98</th>\n",
       "      <td>KLEAT</td>\n",
       "      <td>Men Black Oxfords</td>\n",
       "      <td>6999</td>\n",
       "    </tr>\n",
       "    <tr>\n",
       "      <th>99</th>\n",
       "      <td>KLEAT</td>\n",
       "      <td>Men Solid Brogues</td>\n",
       "      <td>7999</td>\n",
       "    </tr>\n",
       "  </tbody>\n",
       "</table>\n",
       "<p>100 rows × 3 columns</p>\n",
       "</div>"
      ],
      "text/plain": [
       "              Brand                     Description     Price\n",
       "0              ALDO           Leather Solid Loafers   10499Rs\n",
       "1   PUMA Motorsport     Unisex Mercedes F1 Sneakers    7999Rs\n",
       "2              Puma   Men Jamming 2.0 Running Shoes   10399Rs\n",
       "3              ALDO               Men Driving Shoes   11199Rs\n",
       "4   PUMA Motorsport  Unisex FerrariRS-Fast Sneakers    7999Rs\n",
       "..              ...                             ...       ...\n",
       "95     Hush Puppies       Men Solid Formal Slip-Ons    8999Rs\n",
       "96        J.FONTINI      Men Leather Formal Loafers      6990\n",
       "97            KLEAT            Men Printed Sneakers      6999\n",
       "98            KLEAT               Men Black Oxfords      6999\n",
       "99            KLEAT               Men Solid Brogues      7999\n",
       "\n",
       "[100 rows x 3 columns]"
      ]
     },
     "execution_count": 348,
     "metadata": {},
     "output_type": "execute_result"
    }
   ],
   "source": [
    "#Making Data Frame\n",
    "myntra=pd.DataFrame({})\n",
    "myntra['Brand']=brand\n",
    "myntra['Description']=description\n",
    "myntra['Price']=prices\n",
    "myntra"
   ]
  },
  {
   "cell_type": "code",
   "execution_count": 398,
   "metadata": {},
   "outputs": [],
   "source": [
    "driver.close()"
   ]
  },
  {
   "cell_type": "markdown",
   "metadata": {},
   "source": [
    "#### Q10: Go to webpage https://www.amazon.in/ Enter “Laptop” in the search field and then click the search icon. Then set CPU Type filter to “Intel Core i7” and “Intel Core i9”"
   ]
  },
  {
   "cell_type": "code",
   "execution_count": 399,
   "metadata": {},
   "outputs": [],
   "source": [
    "# Initializing the driver\n",
    "driver=driver=webdriver.Chrome(r'I:\\\\chromedriver_win32\\\\chromedriver.exe')\n",
    "\n",
    "#accesing the website\n",
    "driver.get('https://www.amazon.in/')"
   ]
  },
  {
   "cell_type": "code",
   "execution_count": 400,
   "metadata": {},
   "outputs": [],
   "source": [
    "#Finding the search and entering the required product\n",
    "search_bar=driver.find_element_by_id('twotabsearchtextbox')\n",
    "search_bar.send_keys('Laptop')"
   ]
  },
  {
   "cell_type": "code",
   "execution_count": 401,
   "metadata": {},
   "outputs": [],
   "source": [
    "#Finding and clicking the search button\n",
    "search_button=driver.find_element_by_id('nav-search-submit-button')\n",
    "search_button.click()"
   ]
  },
  {
   "cell_type": "code",
   "execution_count": 402,
   "metadata": {},
   "outputs": [],
   "source": [
    "#Filtering the cpu \n",
    "cpu_filter1=driver.find_element_by_xpath('//*[@id=\"p_n_feature_thirteen_browse-bin/12598163031\"]/span/a/div/label/i')\n",
    "cpu_filter1.click()"
   ]
  },
  {
   "cell_type": "code",
   "execution_count": 403,
   "metadata": {},
   "outputs": [],
   "source": [
    "cpu_filter2=driver.find_element_by_xpath('//*[@id=\"p_n_feature_thirteen_browse-bin/16757432031\"]/span/a/div/label/i')\n",
    "cpu_filter2.click()"
   ]
  },
  {
   "cell_type": "code",
   "execution_count": 404,
   "metadata": {},
   "outputs": [
    {
     "data": {
      "text/plain": [
       "['Fujitsu UH-X 11th Gen Intel i7 Core 13.3” (33.78cm) FHD IPS 400Nits Thin and Light Laptop (16GB/512GB SSD/Win10/Office/Iris Xe Graphics/Backlit Kb/ Fingerprint Reader/Black/878gms), 4ZR1D67596',\n",
       " 'Lenovo ThinkBook 15 Intel 11th Gen Core i7 15.6\" (39.62 cm) FHD IPS 300 nits Antiglare 100% sRGB Thin and Light Laptop (16GB/512GB SSD/Windows 10/MS Office/3 Yr Onsite Warranty/1.7 Kg), 20VEA0HHIH',\n",
       " 'Acer Nitro 5 11th Gen Intel Core i7-11800H 15.6\" (39.62cms) Full HD Gaming Laptop (16 GB/256GB SSD/1 TB HDD/Win 10/RTX 3050 Ti 4GB Graphics/144 Hz, Black, 2.4 kg/RGB Backlit Keyboard) AN515-57',\n",
       " 'Mi Notebook Horizon Edition 14 Intel Core i7-10510U 10th Gen Thin and Light Laptop(8GB/512GB SSD/Windows 10/Nvidia MX350 2GB Graphics/Grey/1.35Kg)(Without Webcam) XMA1904-AF',\n",
       " 'Life Digital Laptop 15.6-inch (39.62 cms) (Intel Core i7, 4GB RAM, 256GB SSD, Windows 10), ZED AIR CX7',\n",
       " 'HP Pavilion (2021) Intel 11th Gen Core i7 14 inches FHD Screen Thin & Light Laptop, 16 GB RAM, 1TB SSD, Iris Xe Graphics, Windows 10, MS Office, Backlit Keyboard, 1.41kg (14-dv0058TU), Silver',\n",
       " 'Dell 14 (2021) i7-1195G7 2in1 Touch Screen Laptop, 16GB, 512GB SSD, Win 10 + MS Office, 14.0\" (35.56 cms) FHD Display, Backlit KB, FPR + Active Pen, Platinum Silver (Inspiron 5410, D560596WIN9S)',\n",
       " 'Lenovo ThinkBook 15 Intel 11th Gen Core i7 15.6\" (39.62 cm) FHD IPS 300 nits Antiglare 100% sRGB Thin and Light Laptop (16GB/512GB SSD/Windows 10/MS Office/3 Yr Onsite Warranty/1.7 Kg), 20VEA0HHIH',\n",
       " 'HP Pavilion x360 11th Gen Intel Core i7 14-inch(35.6 cm) Touchscreen 2-in-1 FHD Laptop (16GB/512GB SSD/Fingerprint Reader/Windows 10/MS Office/Natural Silver/1.41 Kg), 14-dy0050TU',\n",
       " 'HP Pavilion 13(2021) 11th Gen Intel Core i7 Laptop, 16GB RAM, 1TB SSD, 13.3-inch(33.8 cm) FHD Screen, Win 10, MS Office, Ceramic White, 1.24 Kg (13-bb0078TU)']"
      ]
     },
     "execution_count": 404,
     "metadata": {},
     "output_type": "execute_result"
    }
   ],
   "source": [
    "#Getting titles\n",
    "titles_tag=driver.find_elements_by_xpath(\"//span[@class='a-size-medium a-color-base a-text-normal']\")\n",
    "title=[i.text for i in titles_tag]\n",
    "title[:10]"
   ]
  },
  {
   "cell_type": "code",
   "execution_count": 405,
   "metadata": {
    "scrolled": false
   },
   "outputs": [
    {
     "data": {
      "text/plain": [
       "['89,990',\n",
       " '84,990',\n",
       " '85,990',\n",
       " '53,990',\n",
       " '24,990',\n",
       " '84,990',\n",
       " '89,990',\n",
       " '84,990',\n",
       " '84,990',\n",
       " '91,990']"
      ]
     },
     "execution_count": 405,
     "metadata": {},
     "output_type": "execute_result"
    }
   ],
   "source": [
    "#Fetching prices\n",
    "price_tag=driver.find_elements_by_xpath('//span[@class=\"a-price-whole\"]')\n",
    "try:\n",
    "    price=[i.text for i in price_tag]\n",
    "except:\n",
    "    price.append('-')\n",
    "price[:10]"
   ]
  },
  {
   "cell_type": "code",
   "execution_count": 406,
   "metadata": {},
   "outputs": [
    {
     "data": {
      "text/plain": [
       "['https://www.amazon.in/gp/slredirect/picassoRedirect.html/ref=pa_sp_atf_computers_sr_pg1_1?ie=UTF8&adId=A097852726KR7DAH06NN1&url=%2FFujitsu-33-78cm-Graphics-Fingerprint-4ZR1D67596%2Fdp%2FB098P34QRL%2Fref%3Dsr_1_1_sspa%3Fdchild%3D1%26keywords%3DLaptop%26qid%3D1634397301%26refinements%3Dp_n_feature_thirteen_browse-bin%253A12598163031%257C16757432031%26rnid%3D12598141031%26s%3Dcomputers%26sr%3D1-1-spons%26psc%3D1&qualifier=1634397301&id=1947688564265785&widgetName=sp_atf',\n",
       " 'https://www.amazon.in/gp/slredirect/picassoRedirect.html/ref=pa_sp_atf_computers_sr_pg1_1?ie=UTF8&adId=A07831422XG3LWS75TAAF&url=%2FLenovo-ThinkBook-Antiglare-Warranty-20VEA0HHIH%2Fdp%2FB09GW2F4XV%2Fref%3Dsr_1_2_sspa%3Fdchild%3D1%26keywords%3DLaptop%26qid%3D1634397301%26refinements%3Dp_n_feature_thirteen_browse-bin%253A12598163031%257C16757432031%26rnid%3D12598141031%26s%3Dcomputers%26sr%3D1-2-spons%26psc%3D1&qualifier=1634397301&id=1947688564265785&widgetName=sp_atf',\n",
       " 'https://www.amazon.in/Acer-i7-11800H-39-62cms-Graphics-AN515-57/dp/B09C8HZMW2/ref=sr_1_3?dchild=1&keywords=Laptop&qid=1634397301&qsid=262-8658174-2265733&refinements=p_n_feature_thirteen_browse-bin%3A12598163031%7C16757432031&rnid=12598141031&s=computers&sr=1-3&sres=B09C8HZMW2%2CB089DFJHZ8%2CB08HRMHZ8J%2CB08WB857GB%2CB09F3QKQH6%2CB09GW2F4XV%2CB09G6X2NB6%2CB09839P9XB%2CB09CCNMXB1%2CB0999929LG%2CB098P34QRL%2CB08CKRKTSY%2CB097TY6PTN%2CB09BDBCRNZ%2CB098P4M233%2CB09F3PCD31%2CB09BJ7GD7B%2CB09G3CQXSD%2CB09DMYZW5Q%2CB09CCK8R2T&srpt=NOTEBOOK_COMPUTER',\n",
       " 'https://www.amazon.in/Notebook-Horizon-i7-10510U-Graphics-XMA1904-AF/dp/B089DFJHZ8/ref=sr_1_4?dchild=1&keywords=Laptop&qid=1634397301&qsid=262-8658174-2265733&refinements=p_n_feature_thirteen_browse-bin%3A12598163031%7C16757432031&rnid=12598141031&s=computers&sr=1-4&sres=B09C8HZMW2%2CB089DFJHZ8%2CB08HRMHZ8J%2CB08WB857GB%2CB09F3QKQH6%2CB09GW2F4XV%2CB09G6X2NB6%2CB09839P9XB%2CB09CCNMXB1%2CB0999929LG%2CB098P34QRL%2CB08CKRKTSY%2CB097TY6PTN%2CB09BDBCRNZ%2CB098P4M233%2CB09F3PCD31%2CB09BJ7GD7B%2CB09G3CQXSD%2CB09DMYZW5Q%2CB09CCK8R2T&srpt=NOTEBOOK_COMPUTER',\n",
       " 'https://www.amazon.in/LifeDigital-Laptop-Intel%C2%AE-Storage-Windows/dp/B08HRMHZ8J/ref=sr_1_5?dchild=1&keywords=Laptop&qid=1634397301&qsid=262-8658174-2265733&refinements=p_n_feature_thirteen_browse-bin%3A12598163031%7C16757432031&rnid=12598141031&s=computers&sr=1-5&sres=B09C8HZMW2%2CB089DFJHZ8%2CB08HRMHZ8J%2CB08WB857GB%2CB09F3QKQH6%2CB09GW2F4XV%2CB09G6X2NB6%2CB09839P9XB%2CB09CCNMXB1%2CB0999929LG%2CB098P34QRL%2CB08CKRKTSY%2CB097TY6PTN%2CB09BDBCRNZ%2CB098P4M233%2CB09F3PCD31%2CB09BJ7GD7B%2CB09G3CQXSD%2CB09DMYZW5Q%2CB09CCK8R2T&srpt=NOTEBOOK_COMPUTER',\n",
       " 'https://www.amazon.in/HP-Pavilion-Graphics-35-56cms-14-dv0058TU/dp/B08WB857GB/ref=sr_1_6?dchild=1&keywords=Laptop&qid=1634397301&qsid=262-8658174-2265733&refinements=p_n_feature_thirteen_browse-bin%3A12598163031%7C16757432031&rnid=12598141031&s=computers&sr=1-6&sres=B09C8HZMW2%2CB089DFJHZ8%2CB08HRMHZ8J%2CB08WB857GB%2CB09F3QKQH6%2CB09GW2F4XV%2CB09G6X2NB6%2CB09839P9XB%2CB09CCNMXB1%2CB0999929LG%2CB098P34QRL%2CB08CKRKTSY%2CB097TY6PTN%2CB09BDBCRNZ%2CB098P4M233%2CB09F3PCD31%2CB09BJ7GD7B%2CB09G3CQXSD%2CB09DMYZW5Q%2CB09CCK8R2T&srpt=NOTEBOOK_COMPUTER',\n",
       " 'https://www.amazon.in/Dell-i7-1195G7-Platinum-5410-D560596WIN9S/dp/B09F3QKQH6/ref=sr_1_7?dchild=1&keywords=Laptop&qid=1634397301&qsid=262-8658174-2265733&refinements=p_n_feature_thirteen_browse-bin%3A12598163031%7C16757432031&rnid=12598141031&s=computers&sr=1-7&sres=B09C8HZMW2%2CB089DFJHZ8%2CB08HRMHZ8J%2CB08WB857GB%2CB09F3QKQH6%2CB09GW2F4XV%2CB09G6X2NB6%2CB09839P9XB%2CB09CCNMXB1%2CB0999929LG%2CB098P34QRL%2CB08CKRKTSY%2CB097TY6PTN%2CB09BDBCRNZ%2CB098P4M233%2CB09F3PCD31%2CB09BJ7GD7B%2CB09G3CQXSD%2CB09DMYZW5Q%2CB09CCK8R2T&srpt=NOTEBOOK_COMPUTER',\n",
       " 'https://www.amazon.in/Lenovo-ThinkBook-Antiglare-Warranty-20VEA0HHIH/dp/B09GW2F4XV/ref=sr_1_8?dchild=1&keywords=Laptop&qid=1634397301&qsid=262-8658174-2265733&refinements=p_n_feature_thirteen_browse-bin%3A12598163031%7C16757432031&rnid=12598141031&s=computers&sr=1-8&sres=B09C8HZMW2%2CB089DFJHZ8%2CB08HRMHZ8J%2CB08WB857GB%2CB09F3QKQH6%2CB09GW2F4XV%2CB09G6X2NB6%2CB09839P9XB%2CB09CCNMXB1%2CB0999929LG%2CB098P34QRL%2CB08CKRKTSY%2CB097TY6PTN%2CB09BDBCRNZ%2CB098P4M233%2CB09F3PCD31%2CB09BJ7GD7B%2CB09G3CQXSD%2CB09DMYZW5Q%2CB09CCK8R2T&srpt=NOTEBOOK_COMPUTER',\n",
       " 'https://www.amazon.in/Pavilion-x360-Touchscreen-Fingerprint-14-dy0050TU/dp/B09G6X2NB6/ref=sr_1_9?dchild=1&keywords=Laptop&qid=1634397301&qsid=262-8658174-2265733&refinements=p_n_feature_thirteen_browse-bin%3A12598163031%7C16757432031&rnid=12598141031&s=computers&sr=1-9&sres=B09C8HZMW2%2CB089DFJHZ8%2CB08HRMHZ8J%2CB08WB857GB%2CB09F3QKQH6%2CB09GW2F4XV%2CB09G6X2NB6%2CB09839P9XB%2CB09CCNMXB1%2CB0999929LG%2CB098P34QRL%2CB08CKRKTSY%2CB097TY6PTN%2CB09BDBCRNZ%2CB098P4M233%2CB09F3PCD31%2CB09BJ7GD7B%2CB09G3CQXSD%2CB09DMYZW5Q%2CB09CCK8R2T&srpt=NOTEBOOK_COMPUTER',\n",
       " 'https://www.amazon.in/HP-Pavilion-13-3-inch-Ceramic-13-bb0078TU/dp/B09839P9XB/ref=sr_1_10?dchild=1&keywords=Laptop&qid=1634397301&qsid=262-8658174-2265733&refinements=p_n_feature_thirteen_browse-bin%3A12598163031%7C16757432031&rnid=12598141031&s=computers&sr=1-10&sres=B09C8HZMW2%2CB089DFJHZ8%2CB08HRMHZ8J%2CB08WB857GB%2CB09F3QKQH6%2CB09GW2F4XV%2CB09G6X2NB6%2CB09839P9XB%2CB09CCNMXB1%2CB0999929LG%2CB098P34QRL%2CB08CKRKTSY%2CB097TY6PTN%2CB09BDBCRNZ%2CB098P4M233%2CB09F3PCD31%2CB09BJ7GD7B%2CB09G3CQXSD%2CB09DMYZW5Q%2CB09CCK8R2T&srpt=NOTEBOOK_COMPUTER']"
      ]
     },
     "execution_count": 406,
     "metadata": {},
     "output_type": "execute_result"
    }
   ],
   "source": [
    "#Product links\n",
    "link=[]\n",
    "links=driver.find_elements_by_xpath(\"//h2[@class='a-size-mini a-spacing-none a-color-base s-line-clamp-2']/a\")\n",
    "for i in links:\n",
    "    link.append(i.get_attribute('href'))\n",
    "link=link[:10]\n",
    "link"
   ]
  },
  {
   "cell_type": "code",
   "execution_count": 394,
   "metadata": {
    "scrolled": true
   },
   "outputs": [
    {
     "data": {
      "text/plain": [
       "['4.4 out of 5',\n",
       " '4.4 out of 5',\n",
       " '3.9 out of 5',\n",
       " '4.2 out of 5',\n",
       " '3.3 out of 5',\n",
       " '4.3 out of 5',\n",
       " '-',\n",
       " '4.4 out of 5',\n",
       " '4.5 out of 5',\n",
       " '4 out of 5']"
      ]
     },
     "execution_count": 394,
     "metadata": {},
     "output_type": "execute_result"
    }
   ],
   "source": [
    "#Ratings\n",
    "ratings=[]\n",
    "for i in link:\n",
    "    driver.get(i)\n",
    "    time.sleep(3)\n",
    "    \n",
    "    try:\n",
    "        ratings_tag=driver.find_element_by_xpath(\"//span[@class='a-size-medium a-color-base']\")\n",
    "        ratings.append(ratings_tag.text)\n",
    "    except:\n",
    "        ratings.append('-')\n",
    "ratings"
   ]
  },
  {
   "cell_type": "code",
   "execution_count": 407,
   "metadata": {},
   "outputs": [
    {
     "name": "stdout",
     "output_type": "stream",
     "text": [
      "30 30 10 10\n"
     ]
    }
   ],
   "source": [
    "print(len(title), len(price), len(link), len(ratings))"
   ]
  },
  {
   "cell_type": "code",
   "execution_count": 396,
   "metadata": {},
   "outputs": [],
   "source": [
    "#Making the dataframe\n",
    "laptop=pd.DataFrame({})\n",
    "laptop['Title']=title[:10]\n",
    "laptop['Price']=price[:10]\n",
    "laptop['Ratings']=ratings[:10]\n"
   ]
  },
  {
   "cell_type": "code",
   "execution_count": 397,
   "metadata": {
    "scrolled": true
   },
   "outputs": [
    {
     "data": {
      "text/html": [
       "<div>\n",
       "<style scoped>\n",
       "    .dataframe tbody tr th:only-of-type {\n",
       "        vertical-align: middle;\n",
       "    }\n",
       "\n",
       "    .dataframe tbody tr th {\n",
       "        vertical-align: top;\n",
       "    }\n",
       "\n",
       "    .dataframe thead th {\n",
       "        text-align: right;\n",
       "    }\n",
       "</style>\n",
       "<table border=\"1\" class=\"dataframe\">\n",
       "  <thead>\n",
       "    <tr style=\"text-align: right;\">\n",
       "      <th></th>\n",
       "      <th>Title</th>\n",
       "      <th>Price</th>\n",
       "      <th>Ratings</th>\n",
       "    </tr>\n",
       "  </thead>\n",
       "  <tbody>\n",
       "    <tr>\n",
       "      <th>0</th>\n",
       "      <td>Fujitsu UH-X 11th Gen Intel i7 Core 13.3” (33....</td>\n",
       "      <td>89,990</td>\n",
       "      <td>4.4 out of 5</td>\n",
       "    </tr>\n",
       "    <tr>\n",
       "      <th>1</th>\n",
       "      <td>Lenovo ThinkBook 15 Intel 11th Gen Core i7 15....</td>\n",
       "      <td>84,990</td>\n",
       "      <td>4.4 out of 5</td>\n",
       "    </tr>\n",
       "    <tr>\n",
       "      <th>2</th>\n",
       "      <td>Acer Nitro 5 11th Gen Intel Core i7-11800H 15....</td>\n",
       "      <td>85,990</td>\n",
       "      <td>3.9 out of 5</td>\n",
       "    </tr>\n",
       "    <tr>\n",
       "      <th>3</th>\n",
       "      <td>Mi Notebook Horizon Edition 14 Intel Core i7-1...</td>\n",
       "      <td>53,990</td>\n",
       "      <td>4.2 out of 5</td>\n",
       "    </tr>\n",
       "    <tr>\n",
       "      <th>4</th>\n",
       "      <td>Life Digital Laptop 15.6-inch (39.62 cms) (Int...</td>\n",
       "      <td>24,990</td>\n",
       "      <td>3.3 out of 5</td>\n",
       "    </tr>\n",
       "    <tr>\n",
       "      <th>5</th>\n",
       "      <td>HP Pavilion (2021) Intel 11th Gen Core i7 14 i...</td>\n",
       "      <td>84,990</td>\n",
       "      <td>4.3 out of 5</td>\n",
       "    </tr>\n",
       "    <tr>\n",
       "      <th>6</th>\n",
       "      <td>Dell 14 (2021) i7-1195G7 2in1 Touch Screen Lap...</td>\n",
       "      <td>89,990</td>\n",
       "      <td>-</td>\n",
       "    </tr>\n",
       "    <tr>\n",
       "      <th>7</th>\n",
       "      <td>Lenovo ThinkBook 15 Intel 11th Gen Core i7 15....</td>\n",
       "      <td>84,990</td>\n",
       "      <td>4.4 out of 5</td>\n",
       "    </tr>\n",
       "    <tr>\n",
       "      <th>8</th>\n",
       "      <td>HP Pavilion 13(2021) 11th Gen Intel Core i7 La...</td>\n",
       "      <td>91,990</td>\n",
       "      <td>4.5 out of 5</td>\n",
       "    </tr>\n",
       "    <tr>\n",
       "      <th>9</th>\n",
       "      <td>Lenovo Legion 5 10th Gen Intel Core i7-10750H ...</td>\n",
       "      <td>83,490</td>\n",
       "      <td>4 out of 5</td>\n",
       "    </tr>\n",
       "  </tbody>\n",
       "</table>\n",
       "</div>"
      ],
      "text/plain": [
       "                                               Title   Price       Ratings\n",
       "0  Fujitsu UH-X 11th Gen Intel i7 Core 13.3” (33....  89,990  4.4 out of 5\n",
       "1  Lenovo ThinkBook 15 Intel 11th Gen Core i7 15....  84,990  4.4 out of 5\n",
       "2  Acer Nitro 5 11th Gen Intel Core i7-11800H 15....  85,990  3.9 out of 5\n",
       "3  Mi Notebook Horizon Edition 14 Intel Core i7-1...  53,990  4.2 out of 5\n",
       "4  Life Digital Laptop 15.6-inch (39.62 cms) (Int...  24,990  3.3 out of 5\n",
       "5  HP Pavilion (2021) Intel 11th Gen Core i7 14 i...  84,990  4.3 out of 5\n",
       "6  Dell 14 (2021) i7-1195G7 2in1 Touch Screen Lap...  89,990             -\n",
       "7  Lenovo ThinkBook 15 Intel 11th Gen Core i7 15....  84,990  4.4 out of 5\n",
       "8  HP Pavilion 13(2021) 11th Gen Intel Core i7 La...  91,990  4.5 out of 5\n",
       "9  Lenovo Legion 5 10th Gen Intel Core i7-10750H ...  83,490    4 out of 5"
      ]
     },
     "execution_count": 397,
     "metadata": {},
     "output_type": "execute_result"
    }
   ],
   "source": [
    "laptop"
   ]
  },
  {
   "cell_type": "code",
   "execution_count": 408,
   "metadata": {},
   "outputs": [],
   "source": [
    "driver.close()"
   ]
  }
 ],
 "metadata": {
  "kernelspec": {
   "display_name": "Python 3",
   "language": "python",
   "name": "python3"
  },
  "language_info": {
   "codemirror_mode": {
    "name": "ipython",
    "version": 3
   },
   "file_extension": ".py",
   "mimetype": "text/x-python",
   "name": "python",
   "nbconvert_exporter": "python",
   "pygments_lexer": "ipython3",
   "version": "3.8.3"
  }
 },
 "nbformat": 4,
 "nbformat_minor": 4
}
