{
 "cells": [
  {
   "cell_type": "markdown",
   "metadata": {},
   "source": [
    "# Flip Robo Technologies - Python Worksheet 1 "
   ]
  },
  {
   "cell_type": "markdown",
   "metadata": {},
   "source": [
    "Programming Questions:"
   ]
  },
  {
   "cell_type": "markdown",
   "metadata": {},
   "source": [
    "11. Write a python program to find the factorial of a number.\n",
    "12. Write a python program to find whether a number is prime or composite.\n",
    "13. Write a python program to check whether a given string is palindrome or not.\n",
    "14. Write a Python program to get the third side of right-angled triangle from two given sides.\n",
    "15. Write a python program to print the frequency of each of the characters present in a given string\n"
   ]
  },
  {
   "cell_type": "code",
   "execution_count": null,
   "metadata": {},
   "outputs": [],
   "source": [
    "#11.Factorial of a number\n",
    "\n",
    "#Taking input from user to which number factorial is to be found\n",
    "number = int(input('Enter the number to find it\\'s factorial:'))\n",
    "\n",
    "#Check for the number\n",
    "if number < 0:\n",
    "    print('The number is negative, no factorial')\n",
    "elif number == 0:\n",
    "    print(f'factorial of given number {number} is: 1')\n",
    "else:\n",
    "    factorial=1\n",
    "    for i in range(1,number+1):\n",
    "        factorial*=i\n",
    "    print(f'Factorial of given number {number} is:',factorial)\n",
    "    \n"
   ]
  },
  {
   "cell_type": "code",
   "execution_count": 47,
   "metadata": {},
   "outputs": [
    {
     "name": "stdout",
     "output_type": "stream",
     "text": [
      "Enter the number to check:15\n",
      "the given number 15 is: Prime\n"
     ]
    }
   ],
   "source": [
    "#12. Number is prime or composite\n",
    "number = int(input('Enter the number to check:'))\n",
    "\n",
    "#Check the number\n",
    "if number == 0 or number == 1:\n",
    "    print(f'the given number {number} is: Neither Prime nor Composite')\n",
    "elif number<0:\n",
    "    print(f'the given number {number} is negative, can\\'t be prime or composite' )\n",
    "elif number>1:\n",
    "    for i in range(2,int(number/2)):\n",
    "        if (number%i) == 0:\n",
    "            print(f'the given number {number} is: Composite')\n",
    "            break\n",
    "        else:\n",
    "            print(f'the given number {number} is: Prime')\n",
    "            break\n",
    "    "
   ]
  },
  {
   "cell_type": "code",
   "execution_count": 73,
   "metadata": {},
   "outputs": [
    {
     "name": "stdout",
     "output_type": "stream",
     "text": [
      "Enter the word: 121\n",
      "Given string is: 121 \n",
      "it's reverse is: 121\n",
      "Palindrome\n"
     ]
    }
   ],
   "source": [
    "#13. Given string is Palindrome or not\n",
    "\n",
    "#Taking input from the user\n",
    "string=input('Enter the word: ')\n",
    "\n",
    "#Reading the string in reverse and assigned to new variable\n",
    "r_string=string[::-1]\n",
    "\n",
    "#Comparing both strings\n",
    "if r_string == string:\n",
    "    print(f'Given string is: {string} \\nit\\'s reverse is: {r_string}')\n",
    "    print('Palindrome')\n",
    "else:\n",
    "    print(f'Given string is: {string} \\nit\\'s reverse is: {r_string}')\n",
    "    print('Not a palindrome')"
   ]
  },
  {
   "cell_type": "code",
   "execution_count": 83,
   "metadata": {},
   "outputs": [
    {
     "name": "stdout",
     "output_type": "stream",
     "text": [
      "Enter the side to be found (hypotenuse or side) : side\n",
      "Enter the hypotenuse value: 2.86\n",
      "Enter the known side value: 2\n",
      "The missing side value is:  2.04\n"
     ]
    }
   ],
   "source": [
    "#Finding third side of triangle\n",
    "import math\n",
    "\n",
    "missing = input('Enter the side to be found (hypotenuse or side) : ')\n",
    "if missing.lower() == 'hypotenuse':\n",
    "    a=float(input('Enter the value of side a: '))\n",
    "    b=float(input('Enter the value of side b: '))\n",
    "    hypotenuse=math.sqrt(a**2+b**2)\n",
    "    print('The missing side value is: ',round(hypotenuse,2))\n",
    "else:\n",
    "    hyp=float(input('Enter the hypotenuse value: '))\n",
    "    a=float(input('Enter the known side value: '))\n",
    "    b=math.sqrt(hyp**2-a**2)\n",
    "    print('The missing side value is: ',round(b,2))"
   ]
  },
  {
   "cell_type": "code",
   "execution_count": 7,
   "metadata": {},
   "outputs": [
    {
     "name": "stdout",
     "output_type": "stream",
     "text": [
      "Enter the word: Flip-Robo-Technologies\n",
      "The frequancy of letters in the given word Flip-Robo-Technologies are:\n",
      " {'l': 2, 'o': 4, 'F': 1, 'h': 1, 'i': 2, 'b': 1, 'c': 1, '-': 2, 'p': 1, 'e': 2, 'n': 1, 'R': 1, 'T': 1, 's': 1, 'g': 1}\n"
     ]
    }
   ],
   "source": [
    "#Frequancy of every letter in string\n",
    "string=input('Enter the word: ')\n",
    "\n",
    "num={i:string.count(i) for i in set(string)}\n",
    "print(f'The frequancy of letters in the given word {string} are:\\n',num)"
   ]
  }
 ],
 "metadata": {
  "kernelspec": {
   "display_name": "Python 3",
   "language": "python",
   "name": "python3"
  },
  "language_info": {
   "codemirror_mode": {
    "name": "ipython",
    "version": 3
   },
   "file_extension": ".py",
   "mimetype": "text/x-python",
   "name": "python",
   "nbconvert_exporter": "python",
   "pygments_lexer": "ipython3",
   "version": "3.8.3"
  }
 },
 "nbformat": 4,
 "nbformat_minor": 4
}
